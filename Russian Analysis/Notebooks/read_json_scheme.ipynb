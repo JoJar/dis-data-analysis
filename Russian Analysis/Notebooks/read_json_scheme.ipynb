{
 "cells": [
  {
   "cell_type": "code",
   "execution_count": 11,
   "source": [
    "import pandas as pd\r\n",
    "\r\n",
    "# read json into a dataframe\r\n",
    "df_idf=pd.read_json(\"../jsons/2020-03-25.json\", lines=True)\r\n",
    "\r\n",
    "# print schema\r\n",
    "print(df_idf.dtypes)"
   ],
   "outputs": [
    {
     "output_type": "stream",
     "name": "stdout",
     "text": [
      "quote_count                           int64\n",
      "contributors                        float64\n",
      "truncated                              bool\n",
      "text                                 object\n",
      "is_quote_status                        bool\n",
      "in_reply_to_status_id               float64\n",
      "reply_count                           int64\n",
      "id                                    int64\n",
      "favorite_count                        int64\n",
      "place                                object\n",
      "created_at_src                       object\n",
      "collected_by                         object\n",
      "retweeted                              bool\n",
      "in_reply_to_status_id_str           float64\n",
      "coordinates                         float64\n",
      "timestamp_ms                 datetime64[ns]\n",
      "entities                             object\n",
      "in_reply_to_screen_name              object\n",
      "in_reply_to_user_id                 float64\n",
      "text_translation                     object\n",
      "retweet_count                         int64\n",
      "stored_at                            object\n",
      "id_str                                int64\n",
      "favorited                              bool\n",
      "retweeted_status                     object\n",
      "user                                 object\n",
      "geo                                 float64\n",
      "in_reply_to_user_id_str             float64\n",
      "lang                                 object\n",
      "created_at                           object\n",
      "filter_level                         object\n",
      "investigationId                       int64\n",
      "text_cleaned                         object\n",
      "source                               object\n",
      "_id                                  object\n",
      "possibly_sensitive                  float64\n",
      "extended_tweet                       object\n",
      "display_text_range                   object\n",
      "quoted_status_permalink              object\n",
      "quoted_status_id                    float64\n",
      "quoted_status                        object\n",
      "quoted_status_id_str                float64\n",
      "extended_entities                    object\n",
      "withheld_in_countries                object\n",
      "dtype: object\n"
     ]
    }
   ],
   "metadata": {}
  }
 ],
 "metadata": {
  "orig_nbformat": 4,
  "language_info": {
   "name": "python",
   "version": "3.8.11",
   "mimetype": "text/x-python",
   "codemirror_mode": {
    "name": "ipython",
    "version": 3
   },
   "pygments_lexer": "ipython3",
   "nbconvert_exporter": "python",
   "file_extension": ".py"
  },
  "kernelspec": {
   "name": "python3",
   "display_name": "Python 3.8.11 64-bit ('base': conda)"
  },
  "interpreter": {
   "hash": "6c91f7360f31a60595970ce0519c225953292631b532536816811087a825ec9b"
  }
 },
 "nbformat": 4,
 "nbformat_minor": 2
}