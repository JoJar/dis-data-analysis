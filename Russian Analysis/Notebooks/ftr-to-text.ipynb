{
 "cells": [
  {
   "cell_type": "markdown",
   "source": [
    "For a single file"
   ],
   "metadata": {}
  },
  {
   "cell_type": "code",
   "execution_count": 2,
   "source": [
    "from tqdm import tqdm\r\n",
    "import pandas as pd\r\n",
    "import feather\r\n",
    "import os,glob\r\n",
    "\r\n",
    "# name of file directory\r\n",
    "ftr_dir = '../ftrs'\r\n",
    "\r\n",
    "# name of indiviudal ftr\r\n",
    "save_file = 'russianNoRetweets.ftr'\r\n",
    "\r\n",
    "# Uses the json_dir variable to navigate to the dataset directory and 'get' all json files\r\n",
    "ftr_pattern = os.path.join(ftr_dir, save_file)\r\n",
    "\r\n",
    "# Uses Glob with the json pattern variable to place all the json files and their directories in a list\r\n",
    "file_list = glob.glob(ftr_pattern)\r\n",
    "\r\n",
    "# reads contents of save_dir.ftr\r\n",
    "read_ftr = pd.read_feather(ftr_dir, columns=None, use_threads=True)\r\n",
    "\r\n",
    "# words to ignore\r\n",
    "ignore = [\"заговор\", \"пропаганда\", \"misinformation\", \"http\", \"https\", \"fake\", \"news\", \"http://\", \"https://\", \"fakenews\", \"news\", \"amp\", \"que\"]\r\n",
    "exceptions = [\"i\", \"a\", \"u\"]\r\n",
    " \r\n",
    "s = (\" \".join(read_ftr[\"text\"]).split())\r\n",
    "save_dir = \"../txts\" + save_file.replace('.ftr', '.txt')\r\n",
    "\r\n",
    "with open(save_file.replace('.ftr', '.txt'), \"w+\", encoding=\"utf8\") as new_file:\r\n",
    "    for i, line in enumerate(s):\r\n",
    "            line = line.lower()\r\n",
    "            line = line.strip()\r\n",
    "            line = re.sub(r'[^[а-яА-Я0-9\\'\\-@ ]+', '', line)\r\n",
    "\r\n",
    "            if line.strip() in ignore or line[:4] == \"http\":\r\n",
    "                line = \"\"\r\n",
    "            elif len(line.strip()) == 1 and line.strip() not in exceptions:\r\n",
    "                line= \"\"\r\n",
    "            elif len(line) > 0 and line[0] == \"@\":\r\n",
    "                line = \"\"\r\n",
    "            else:\r\n",
    "                new_file.write(line.strip())\r\n",
    "                new_file.write(\"\\n\")"
   ],
   "outputs": [
    {
     "output_type": "error",
     "ename": "PermissionError",
     "evalue": "[Errno 13] Permission denied: '../ftrs'",
     "traceback": [
      "\u001b[1;31m---------------------------------------------------------------------------\u001b[0m",
      "\u001b[1;31mPermissionError\u001b[0m                           Traceback (most recent call last)",
      "\u001b[1;32m~\\AppData\\Local\\Temp/ipykernel_21136/2524534861.py\u001b[0m in \u001b[0;36m<module>\u001b[1;34m\u001b[0m\n\u001b[0;32m     17\u001b[0m \u001b[1;33m\u001b[0m\u001b[0m\n\u001b[0;32m     18\u001b[0m \u001b[1;31m# reads contents of save_dir.ftr\u001b[0m\u001b[1;33m\u001b[0m\u001b[1;33m\u001b[0m\u001b[1;33m\u001b[0m\u001b[0m\n\u001b[1;32m---> 19\u001b[1;33m \u001b[0mread_ftr\u001b[0m \u001b[1;33m=\u001b[0m \u001b[0mpd\u001b[0m\u001b[1;33m.\u001b[0m\u001b[0mread_feather\u001b[0m\u001b[1;33m(\u001b[0m\u001b[0mftr_dir\u001b[0m\u001b[1;33m,\u001b[0m \u001b[0mcolumns\u001b[0m\u001b[1;33m=\u001b[0m\u001b[1;32mNone\u001b[0m\u001b[1;33m,\u001b[0m \u001b[0muse_threads\u001b[0m\u001b[1;33m=\u001b[0m\u001b[1;32mTrue\u001b[0m\u001b[1;33m)\u001b[0m\u001b[1;33m\u001b[0m\u001b[1;33m\u001b[0m\u001b[0m\n\u001b[0m\u001b[0;32m     20\u001b[0m \u001b[1;33m\u001b[0m\u001b[0m\n\u001b[0;32m     21\u001b[0m \u001b[1;31m# words to ignore\u001b[0m\u001b[1;33m\u001b[0m\u001b[1;33m\u001b[0m\u001b[1;33m\u001b[0m\u001b[0m\n",
      "\u001b[1;32m~\\AppData\\Roaming\\Python\\Python38\\site-packages\\pandas\\io\\feather_format.py\u001b[0m in \u001b[0;36mread_feather\u001b[1;34m(path, columns, use_threads, storage_options)\u001b[0m\n\u001b[0;32m    124\u001b[0m     \u001b[1;32mfrom\u001b[0m \u001b[0mpyarrow\u001b[0m \u001b[1;32mimport\u001b[0m \u001b[0mfeather\u001b[0m\u001b[1;33m\u001b[0m\u001b[1;33m\u001b[0m\u001b[0m\n\u001b[0;32m    125\u001b[0m \u001b[1;33m\u001b[0m\u001b[0m\n\u001b[1;32m--> 126\u001b[1;33m     with get_handle(\n\u001b[0m\u001b[0;32m    127\u001b[0m         \u001b[0mpath\u001b[0m\u001b[1;33m,\u001b[0m \u001b[1;34m\"rb\"\u001b[0m\u001b[1;33m,\u001b[0m \u001b[0mstorage_options\u001b[0m\u001b[1;33m=\u001b[0m\u001b[0mstorage_options\u001b[0m\u001b[1;33m,\u001b[0m \u001b[0mis_text\u001b[0m\u001b[1;33m=\u001b[0m\u001b[1;32mFalse\u001b[0m\u001b[1;33m\u001b[0m\u001b[1;33m\u001b[0m\u001b[0m\n\u001b[0;32m    128\u001b[0m     ) as handles:\n",
      "\u001b[1;32m~\\AppData\\Roaming\\Python\\Python38\\site-packages\\pandas\\io\\common.py\u001b[0m in \u001b[0;36mget_handle\u001b[1;34m(path_or_buf, mode, encoding, compression, memory_map, is_text, errors, storage_options)\u001b[0m\n\u001b[0;32m    708\u001b[0m         \u001b[1;32melse\u001b[0m\u001b[1;33m:\u001b[0m\u001b[1;33m\u001b[0m\u001b[1;33m\u001b[0m\u001b[0m\n\u001b[0;32m    709\u001b[0m             \u001b[1;31m# Binary mode\u001b[0m\u001b[1;33m\u001b[0m\u001b[1;33m\u001b[0m\u001b[1;33m\u001b[0m\u001b[0m\n\u001b[1;32m--> 710\u001b[1;33m             \u001b[0mhandle\u001b[0m \u001b[1;33m=\u001b[0m \u001b[0mopen\u001b[0m\u001b[1;33m(\u001b[0m\u001b[0mhandle\u001b[0m\u001b[1;33m,\u001b[0m \u001b[0mioargs\u001b[0m\u001b[1;33m.\u001b[0m\u001b[0mmode\u001b[0m\u001b[1;33m)\u001b[0m\u001b[1;33m\u001b[0m\u001b[1;33m\u001b[0m\u001b[0m\n\u001b[0m\u001b[0;32m    711\u001b[0m         \u001b[0mhandles\u001b[0m\u001b[1;33m.\u001b[0m\u001b[0mappend\u001b[0m\u001b[1;33m(\u001b[0m\u001b[0mhandle\u001b[0m\u001b[1;33m)\u001b[0m\u001b[1;33m\u001b[0m\u001b[1;33m\u001b[0m\u001b[0m\n\u001b[0;32m    712\u001b[0m \u001b[1;33m\u001b[0m\u001b[0m\n",
      "\u001b[1;31mPermissionError\u001b[0m: [Errno 13] Permission denied: '../ftrs'"
     ]
    }
   ],
   "metadata": {}
  },
  {
   "cell_type": "markdown",
   "source": [
    "For Multiple Files:"
   ],
   "metadata": {}
  },
  {
   "cell_type": "code",
   "execution_count": 14,
   "source": [
    "import pandas as pd\r\n",
    "import feather\r\n",
    "import os\r\n",
    "import glob\r\n",
    "import re\r\n",
    "\r\n",
    "ftr_dir = '../ftrs'\r\n",
    "s = \"\"\r\n",
    "# Uses the json_dir variable to navigate to the dataset directory and 'get' all json files\r\n",
    "ftr_pattern = os.path.join(ftr_dir, '*.ftr')\r\n",
    "\r\n",
    "# Uses Glob with the json pattern variable to place all the json files and their directories in a list\r\n",
    "file_list = glob.glob(ftr_pattern)\r\n",
    "\r\n",
    "# words to ignore\r\n",
    "ignore = [\"заговор\", \"пропаганда\", \"misinformation\", \"http\", \"https\", \"fake\", \"news\", \"http://\", \"https://\", \"fakenews\", \"news\", \"amp\", \"que\"]\r\n",
    "exceptions = [\"я\", \"a\", \"u\"]\r\n",
    "\r\n",
    "for file in file_list:\r\n",
    "    print(file[8:])\r\n",
    "    if file[8:] == 'russianNoRetweets.ftr':\r\n",
    "        save_file = file[8:]\r\n",
    "        s = []\r\n",
    "        read_ftr = pd.read_feather(file, columns=None, use_threads=True)\r\n",
    "        save_dir = \"../txts/\" + save_file.replace('.ftr', '.txt')\r\n",
    "        s = (\" \".join(read_ftr[\"text\"]).split())\r\n",
    "        print(len(s))\r\n",
    "        \r\n",
    "        with open(save_dir, \"w+\", encoding=\"utf8\") as new_file:\r\n",
    "            for i, line in enumerate(s):\r\n",
    "                line = line.lower()\r\n",
    "                line = line.strip()\r\n",
    "                line = re.sub(r'[^[а-яА-Я0-9\\'\\-@ ]+', '', line)\r\n",
    "\r\n",
    "                if line.strip() in ignore or line[:4] == \"http\":\r\n",
    "                    line = \"\"\r\n",
    "                #elif len(line.strip()) == 1 and line.strip() != 'я':\r\n",
    "                #not in exceptions:\r\n",
    "                #    line= \"\"\r\n",
    "                elif len(line) > 0 and line[0] == \"@\":\r\n",
    "                    line = \"\"\r\n",
    "                else:\r\n",
    "                    new_file.write(line.strip())\r\n",
    "                    new_file.write(\"\\n\")"
   ],
   "outputs": [
    {
     "output_type": "stream",
     "name": "stdout",
     "text": [
      "allLinks.2020.RussianTweets.ftr\n",
      "allRussianTweets.ftr\n",
      "russianNoRetweets.ftr\n",
      "2580153\n",
      "russianTweetsContainingPropaganda.ftr\n",
      "russianTweetsContainingPutKremOliRus.ftr\n"
     ]
    }
   ],
   "metadata": {}
  }
 ],
 "metadata": {
  "kernelspec": {
   "name": "python3",
   "display_name": "Python 3.8.11 64-bit"
  },
  "language_info": {
   "codemirror_mode": {
    "name": "ipython",
    "version": 3
   },
   "file_extension": ".py",
   "mimetype": "text/x-python",
   "name": "python",
   "nbconvert_exporter": "python",
   "pygments_lexer": "ipython3",
   "version": "3.8.11"
  },
  "interpreter": {
   "hash": "6c91f7360f31a60595970ce0519c225953292631b532536816811087a825ec9b"
  }
 },
 "nbformat": 4,
 "nbformat_minor": 5
}