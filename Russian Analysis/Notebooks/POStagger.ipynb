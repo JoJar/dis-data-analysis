{
 "cells": [
  {
   "cell_type": "code",
   "execution_count": 1,
   "source": [
    "import nltk\r\n",
    "import re\r\n",
    "import multiprocessing as mp\r\n",
    "import plotly.express as px"
   ],
   "outputs": [],
   "metadata": {}
  },
  {
   "cell_type": "markdown",
   "source": [
    "Concordance"
   ],
   "metadata": {}
  },
  {
   "cell_type": "code",
   "execution_count": 2,
   "source": [
    "import nltk\r\n",
    "from tqdm import tqdm\r\n",
    "import os\r\n",
    "import sys\r\n",
    "\r\n",
    "def concordanceToFile(conc):\r\n",
    "    new_file = '../txts/concordance/concordance_' + conc + '.txt'\r\n",
    "    conc_save = text.concordance_list(conc, lines=1000000)\r\n",
    "    \r\n",
    "    with open(new_file, 'w', encoding='utf8') as fin:\r\n",
    "        for i, line in enumerate(tqdm(conc_save, total=len(conc_save))):\r\n",
    "                fin.write(str(line).strip(\"ConcordanceLine(\") + \"\\n\")\r\n",
    "\r\n",
    "file_path = '../txts/all/russianNoRetweets.txt'\r\n",
    "tokens = \"\"\r\n",
    "\r\n",
    "with open(file_path, 'r', encoding='utf-8') as f:\r\n",
    "    for i, line in enumerate(tqdm(f.readlines(), total=1000000)):\r\n",
    "        tokens+=line\r\n",
    "        if i == 1000000:\r\n",
    "            tokens = nltk.word_tokenize(tokens)\r\n",
    "            break\r\n",
    "\r\n",
    "text = nltk.Text(tokens)\r\n",
    "\r\n",
    "vocab = [\"я\", \"мы\", \"ты\", \"oни\", \"нас\", \"вы\", \"тебя\", \"меня\", \"тебе\", \"вами\", \"мне\"]\r\n",
    "\r\n",
    "for i in vocab:\r\n",
    "    concordanceToFile(i)"
   ],
   "outputs": [
    {
     "output_type": "stream",
     "name": "stderr",
     "text": [
      "100%|██████████| 1000000/1000000 [00:13<00:00, 75884.23it/s]\n",
      "100%|██████████| 7/7 [00:00<?, ?it/s]\n",
      "100%|██████████| 1627/1627 [00:00<00:00, 50683.54it/s]\n",
      "100%|██████████| 2207/2207 [00:00<00:00, 62015.66it/s]\n",
      "0it [00:00, ?it/s]\n",
      "100%|██████████| 1453/1453 [00:00<00:00, 60172.43it/s]\n",
      "100%|██████████| 2518/2518 [00:00<00:00, 49292.01it/s]\n",
      "100%|██████████| 783/783 [00:00<00:00, 51964.24it/s]\n",
      "100%|██████████| 2311/2311 [00:00<00:00, 60412.70it/s]\n",
      "100%|██████████| 565/565 [00:00<00:00, 46591.47it/s]\n",
      "100%|██████████| 135/135 [00:00<00:00, 33946.71it/s]\n",
      "100%|██████████| 2043/2043 [00:00<00:00, 52868.07it/s]\n"
     ]
    }
   ],
   "metadata": {}
  },
  {
   "cell_type": "markdown",
   "source": [
    "Processing Concordance"
   ],
   "metadata": {}
  },
  {
   "cell_type": "code",
   "execution_count": 3,
   "source": [
    "def writeToFile(filename, left_tokenize, right_tokenize, query):\r\n",
    "    obj=[query],left_tokenize,right_tokenize\r\n",
    "\r\n",
    "    with open('../txts/POS-tagged/' + filename, 'a', encoding='utf8') as fin:\r\n",
    "        fin.write(str(obj) + \"\\n\")"
   ],
   "outputs": [],
   "metadata": {}
  },
  {
   "cell_type": "code",
   "execution_count": 15,
   "source": [
    "# Creates a new file, takes the base concordance file and runs POS tagging.\r\n",
    "# This code strips the concordance down to left and right of the query (word concordance query)\r\n",
    "def stripConcordance(query):\r\n",
    "    stripped_string = \"\".lower()\r\n",
    "    with open('../txts/concordance/concordance_'+ query + '.txt', 'r', encoding='utf8') as f:\r\n",
    "        for line in f.readlines():\r\n",
    "            \r\n",
    "            # Strips the left and right side of the concordance of unwanted parts.\r\n",
    "            left = line[line.find(\"left_print=\"):line.find(\"right_\")].strip(\"left_print=\")\r\n",
    "            left_re = re.sub(r'[^[а-яА-Я0-9 ]+', '', left)\r\n",
    "            right = line[line.find(\"right_print=\"):line.find(\"line=\")].strip(\"right_print=\")\r\n",
    "            right_re = re.sub(r'[^[а-яА-Я0-9 ]+', '', right)\r\n",
    "            \r\n",
    "            # Combines the left and right side of the concordance into a single string.\r\n",
    "            stripped_string += left_re\r\n",
    "            stripped_string += \" \"\r\n",
    "            stripped_string += right_re\r\n",
    "            \r\n",
    "            left_tokenize = nltk.pos_tag(nltk.word_tokenize(left_re))\r\n",
    "            right_tokenize = nltk.pos_tag(nltk.word_tokenize(right_re))\r\n",
    "            writeToFile('POS-concordance-'+ query +'.txt', left_tokenize, right_tokenize, query)\r\n",
    "        \r\n",
    "        return pos_tag_rus(stripped_string, query)"
   ],
   "outputs": [],
   "metadata": {}
  },
  {
   "cell_type": "code",
   "execution_count": 5,
   "source": [
    "# Removes words used to obtain data as well as any words that have snuck into the concordance.\r\n",
    "def posStripper(stripped_string):\r\n",
    "    stripped_string = stripped_string.replace(\"conspiracy\", \"\")\r\n",
    "    stripped_string = stripped_string.replace(\"propaganda\", \"\")\r\n",
    "    stripped_string = stripped_string.replace(\"misinformation\", \"\")\r\n",
    "    stripped_string = stripped_string.replace(\"https\", \"\")\r\n",
    "    return stripped_string       "
   ],
   "outputs": [],
   "metadata": {}
  },
  {
   "cell_type": "markdown",
   "source": [
    "POS tagging processed concordance"
   ],
   "metadata": {}
  },
  {
   "cell_type": "code",
   "execution_count": 206,
   "source": [
    "import pymorphy2\r\n",
    "# https://pymorphy2.readthedocs.io/en/stable/user/guide.html\r\n",
    "def pos_tag_rus(stripped_string, query):\r\n",
    "    morph = pymorphy2.MorphAnalyzer()\r\n",
    "    token = nltk.word_tokenize(stripped_string)\r\n",
    "\r\n",
    "    k = []\r\n",
    "    for i in token:\r\n",
    "        j = morph.parse(i)[0]\r\n",
    "        k.append([i, j.tag.POS])\r\n",
    "    nouns = get_nouns(k)\r\n",
    "    verbs = get_verbs(k)\r\n",
    "    return (verbs, nouns)"
   ],
   "outputs": [],
   "metadata": {}
  },
  {
   "cell_type": "code",
   "execution_count": 45,
   "source": [
    "def get_verbs(ls):\r\n",
    "    most_common_verbs = []\r\n",
    "    for i in ls:\r\n",
    "        if i[1] == \"VERB\":\r\n",
    "            most_common_verbs.append(i[0])\r\n",
    "    verb_frq = nltk.FreqDist(verb for verb in most_common_verbs)\r\n",
    "    most_common_verbs = verb_frq.most_common(20)\r\n",
    "    return most_common_verbs"
   ],
   "outputs": [],
   "metadata": {}
  },
  {
   "cell_type": "code",
   "execution_count": 48,
   "source": [
    "# get all nouns and return the 20 most common\r\n",
    "def get_nouns(ls):\r\n",
    "    most_common_nouns = []\r\n",
    "    for i in ls:\r\n",
    "        if i[1] == 'NOUN':\r\n",
    "            most_common_nouns.append(i[0])\r\n",
    "    noun_frq = nltk.FreqDist(noun for noun in most_common_nouns)\r\n",
    "    most_common_nouns = noun_frq.most_common(20)\r\n",
    "\r\n",
    "    return most_common_nouns"
   ],
   "outputs": [],
   "metadata": {}
  },
  {
   "cell_type": "code",
   "execution_count": null,
   "source": [
    "vocab = [\"я\", \"мы\", \"ты\", \"oни\", \"нас\", \"вы\", \"тебя\", \"меня\", \"тебе\", \"вами\", \"мне\"]\r\n",
    "\r\n",
    "for i in vocab:\r\n",
    "    print(i)\r\n",
    "    print(stripConcordance(i))"
   ],
   "outputs": [],
   "metadata": {}
  },
  {
   "cell_type": "code",
   "execution_count": 572,
   "source": [
    "# Python program to sort a list of tuples by the second Item\r\n",
    "  \r\n",
    "# Function to sort the list of tuples by its second item\r\n",
    "def Sort_Tuple(tup): \r\n",
    "    # getting length of list of tuples\r\n",
    "    lst = len(tup)\r\n",
    "    for i in range(0, lst):\r\n",
    "        for j in range(0, lst-i-1):\r\n",
    "            if (tup[j][1] > tup[j + 1][1]): \r\n",
    "                temp = tup[j] \r\n",
    "                tup[j]= tup[j + 1] \r\n",
    "                tup[j + 1]= temp \r\n",
    "    return tup\r\n",
    "\r\n",
    "def remove_single_letter_words(tup):\r\n",
    "    for i in tup:\r\n",
    "\r\n",
    "        if i[0] == 'е':\r\n",
    "\r\n",
    "            tup.remove(i)\r\n",
    "    return tup"
   ],
   "outputs": [
    {
     "output_type": "stream",
     "name": "stdout",
     "text": [
      "[('распространяете', 39), ('будете', 41), ('может', 45), ('ходят', 50), ('понимаете', 50), ('хочешь', 54), ('хотите', 58), ('ненавижу', 60), ('думаете', 63), ('можете', 81), ('знаешь', 89), ('знаете', 94), ('можешь', 98)]\n"
     ]
    }
   ],
   "metadata": {}
  },
  {
   "cell_type": "code",
   "execution_count": 515,
   "source": [
    "vocab = [\"я\", \"мы\", \"ты\", \"oни\", \"нас\", \"вы\", \"тебя\", \"меня\", \"тебе\", \"вами\", \"мне\"]\r\n",
    "\r\n",
    "# Raw data\r\n",
    "# The Russian language has different forms of pronouns which are very similar\r\n",
    "# Therefore I have chosen to group together the pronouns which mean the same\r\n",
    "# but are used in different settings (tenses, groups, male, female etc).\r\n",
    "# I chose to append all of the data to a list.\r\n",
    "temp_You=[]\r\n",
    "temp_You.append(stripConcordance(vocab[2])[0])\r\n",
    "temp_You.append(stripConcordance(vocab[5])[0])\r\n",
    "temp_You.append(stripConcordance(vocab[6])[0])\r\n",
    "temp_You.append(stripConcordance(vocab[8])[0])\r\n",
    "temp_You.append(stripConcordance(vocab[9])[0])\r\n",
    "\r\n",
    "verbs_You = []\r\n",
    "for i in temp_You:\r\n",
    "    for j in i:\r\n",
    "        verbs_You.append(j)\r\n",
    "\r\n",
    "temp_Me = []\r\n",
    "temp_Me.append(stripConcordance(vocab[7])[0])\r\n",
    "temp_Me.append(stripConcordance(vocab[10])[0])\r\n",
    "\r\n",
    "verbs_Me=[]\r\n",
    "for i in temp_Me:\r\n",
    "    for j in i:\r\n",
    "        verbs_Me.append(j)\r\n",
    "\r\n",
    "verbs_Us = stripConcordance(vocab[4])[0]\r\n",
    "verbs_We = stripConcordance(vocab[1])[0]\r\n",
    "verbs_They = stripConcordance(vocab[3])[0]"
   ],
   "outputs": [],
   "metadata": {}
  },
  {
   "cell_type": "code",
   "execution_count": 595,
   "source": [
    "print(type(verbs_Me))"
   ],
   "outputs": [
    {
     "output_type": "stream",
     "name": "stdout",
     "text": [
      "<class 'list'>\n"
     ]
    }
   ],
   "metadata": {}
  },
  {
   "cell_type": "code",
   "execution_count": 576,
   "source": [
    "# Sorts the tuple in order of frequency\r\n",
    "\r\n",
    "verbs_You = Sort_Tuple(verbs_You)\r\n",
    "verbs_Me = Sort_Tuple(verbs_Me)\r\n",
    "verbs_Us = Sort_Tuple(verbs_Us)\r\n",
    "verbs_We = Sort_Tuple(verbs_We)\r\n",
    "verbs_They = Sort_Tuple(verbs_They)\r\n",
    "\r\n",
    "verbs_You = remove_single_letter_words(verbs_You)\r\n",
    "verbs_Me = remove_single_letter_words(verbs_Me)\r\n",
    "verbs_Us = remove_single_letter_words(verbs_Us)\r\n",
    "verbs_We = remove_single_letter_words(verbs_We)\r\n",
    "verbs_They = remove_single_letter_words(verbs_They)\r\n",
    "\r\n",
    "print(verbs_Me)"
   ],
   "outputs": [
    {
     "output_type": "stream",
     "name": "stdout",
     "text": [
      "[('хватит', 17), ('были', 18), ('был', 18), ('стало', 21), ('нравятся', 22), ('сказали', 22), ('говорит', 23), ('буду', 24), ('может', 24), ('хватит', 25), ('сказал', 25), ('имеет', 26), ('был', 26), ('бесит', 28), ('были', 28), ('федай', 28), ('хочу', 29), ('хочу', 29), ('могу', 29), ('подписывайся', 30), ('оказал', 30), ('дошли', 30), ('буду', 31), ('хочется', 31), ('была', 32), ('знаю', 32), ('знаю', 33), ('могу', 34), ('оказывает', 35), ('ходят', 35), ('ходят', 37), ('может', 38), ('будет', 42), ('будет', 45), ('было', 60), ('было', 67), ('нравится', 119), ('кажется', 184)]\n"
     ]
    }
   ],
   "metadata": {}
  },
  {
   "cell_type": "code",
   "execution_count": 592,
   "source": [
    "import plotly.express as px\r\n",
    "import plotly.graph_objects as go\r\n",
    "from plotly.subplots import make_subplots\r\n",
    "import math\r\n",
    "\r\n",
    "# Constructors\r\n",
    "verbs = []\r\n",
    "verbCounter=[]\r\n",
    "verbCounterPercentage = []\r\n",
    "pronouns=[\"me\",\"you\", \"us\"]\r\n",
    "\r\n",
    "# Simple function to find a percentage.\r\n",
    "def findPercentage(num, total):\r\n",
    "    quotient = num / total\r\n",
    "    return quotient*100\r\n",
    "\r\n",
    "# returns total number of verbs associated with a pronoun.\r\n",
    "def findTotalFreq(verbListTuple):\r\n",
    "    total=[]\r\n",
    "    for i,j in verbListTuple:\r\n",
    "        total.append(j)\r\n",
    "    return sum(total)\r\n",
    "\r\n",
    "# Function to find the rounded down percent of a single verb in\r\n",
    "# comparison to all other verbs associated with the pronoun,\r\n",
    "def findPerecentTotalFreq(verbListTuple):\r\n",
    "    total = findTotalFreq(verbListTuple)\r\n",
    "    temp = []\r\n",
    "    for i,j in verbListTuple:\r\n",
    "        temp.append(math.floor(findPercentage(j, total)))\r\n",
    "        #print(i, math.floor(findPercentage(j, total)))\r\n",
    "\r\n",
    "    verbCounterPercentage.append(temp)\r\n",
    "\r\n",
    "# Function to split a list of tuples into two seperate ordered lists.\r\n",
    "# Here we add the verb to \"verbs\" and the frequency of the verb to \"verbCounter\"\r\n",
    "def splitTuple(verbListTuples):\r\n",
    "    temp = []\r\n",
    "    tempCount = []\r\n",
    "    for i, j in enumerate(verbListTuples):\r\n",
    "        temp.append(j[0])\r\n",
    "        tempCount.append(j[1])\r\n",
    "        if i == 19:\r\n",
    "            verbCounter.append(tempCount)\r\n",
    "            verbs.append(temp)\r\n",
    "            temp=[]\r\n",
    "            tempCount=[]\r\n",
    "            break\r\n",
    "\r\n",
    "# Uses the ST function to seperate the verb and frequency count and add them to seperate lists.\r\n",
    "splitTuple(verbs_Me)\r\n",
    "splitTuple(verbs_You)\r\n",
    "splitTuple(verbs_Us)\r\n",
    "\r\n",
    "# Using the FPTF function to add each perecnt frequency to an ordered list.\r\n",
    "findPerecentTotalFreq(verbs_Me)\r\n",
    "findPerecentTotalFreq(verbs_You)\r\n",
    "findPerecentTotalFreq(verbs_Us)"
   ],
   "outputs": [],
   "metadata": {}
  },
  {
   "cell_type": "code",
   "execution_count": 597,
   "source": [
    "import plotly.express as px\r\n",
    "import pandas as pd\r\n",
    "\r\n",
    "# Function which creates a dataframe containing\r\n",
    "# the verb tuple and associated pronoun. \r\n",
    "def dataframer(verb_tuple, pnoun):\r\n",
    "    data = {}\r\n",
    "    counter = []\r\n",
    "    verbs = []\r\n",
    "\r\n",
    "    for i in verb_tuple:\r\n",
    "        j, k = i\r\n",
    "        verbs.append(j)\r\n",
    "        counter.append(k)\r\n",
    "\r\n",
    "    for pronoun in range(len(verbs)):\r\n",
    "        data[\"Pronoun\"] = pnoun\r\n",
    "        data[\"Verb\"] = verbs\r\n",
    "        data[\"Count\"] = counter\r\n",
    "\r\n",
    "    df_new = pd.DataFrame(data=data)\r\n",
    "    return df_new\r\n",
    "\r\n",
    "df = pd.DataFrame(columns=[\"Pronoun\", \"Verb\", \"Count\"])\r\n",
    "\r\n",
    "you_df = dataframer(verbs_You[-5:], \"You\")\r\n",
    "me_df = dataframer(verbs_Me[-5:], \"Me\")\r\n",
    "us_df = dataframer(verbs_Us[-5:], \"Us\")\r\n",
    "we_df = dataframer(verbs_We[-5:], \"We\")\r\n",
    "they_df = dataframer(verbs_They[-5:], \"They\")\r\n",
    "\r\n",
    "new = df.append(you_df)\r\n",
    "new = new.append(me_df)\r\n",
    "new = new.append(us_df)\r\n",
    "new = new.append(we_df)\r\n",
    "new = new.append(they_df)\r\n",
    "\r\n",
    "new = new.sort_values(by=['Count'], ascending=True)\r\n",
    "\r\n",
    "fig = px.bar(new, x=\"Pronoun\", y=\"Count\", color=\"Pronoun\", title=\"5 Most Common Verbs Found Alongside Russian Pronouns\", text=new['Verb'], color_discrete_sequence=px.colors.sequential.Viridis)\r\n",
    "fig.update_layout(hovermode=\"closest\")\r\n",
    "fig.show()"
   ],
   "outputs": [
    {
     "output_type": "display_data",
     "data": {
      "application/vnd.plotly.v1+json": {
       "config": {
        "plotlyServerURL": "https://plot.ly"
       },
       "data": [
        {
         "alignmentgroup": "True",
         "hovertemplate": "Pronoun=%{x}<br>Count=%{y}<br>Verb=%{text}<extra></extra>",
         "legendgroup": "Us",
         "marker": {
          "color": "#440154",
          "pattern": {
           "shape": ""
          }
         },
         "name": "Us",
         "offsetgroup": "Us",
         "orientation": "v",
         "showlegend": true,
         "text": [
          "может",
          "погубят",
          "будет",
          "было",
          "ходят"
         ],
         "textposition": "auto",
         "type": "bar",
         "x": [
          "Us",
          "Us",
          "Us",
          "Us",
          "Us"
         ],
         "xaxis": "x",
         "y": [
          27,
          36,
          42,
          48,
          99
         ],
         "yaxis": "y"
        },
        {
         "alignmentgroup": "True",
         "hovertemplate": "Pronoun=%{x}<br>Count=%{y}<br>Verb=%{text}<extra></extra>",
         "legendgroup": "We",
         "marker": {
          "color": "#482878",
          "pattern": {
           "shape": ""
          }
         },
         "name": "We",
         "offsetgroup": "We",
         "orientation": "v",
         "showlegend": true,
         "text": [
          "будет",
          "видим",
          "можем",
          "будем",
          "знаем"
         ],
         "textposition": "auto",
         "type": "bar",
         "x": [
          "We",
          "We",
          "We",
          "We",
          "We"
         ],
         "xaxis": "x",
         "y": [
          34,
          38,
          50,
          77,
          80
         ],
         "yaxis": "y"
        },
        {
         "alignmentgroup": "True",
         "hovertemplate": "Pronoun=%{x}<br>Count=%{y}<br>Verb=%{text}<extra></extra>",
         "legendgroup": "Me",
         "marker": {
          "color": "#3e4989",
          "pattern": {
           "shape": ""
          }
         },
         "name": "Me",
         "offsetgroup": "Me",
         "orientation": "v",
         "showlegend": true,
         "text": [
          "будет",
          "было",
          "было",
          "нравится",
          "кажется"
         ],
         "textposition": "auto",
         "type": "bar",
         "x": [
          "Me",
          "Me",
          "Me",
          "Me",
          "Me"
         ],
         "xaxis": "x",
         "y": [
          45,
          60,
          67,
          119,
          184
         ],
         "yaxis": "y"
        },
        {
         "alignmentgroup": "True",
         "hovertemplate": "Pronoun=%{x}<br>Count=%{y}<br>Verb=%{text}<extra></extra>",
         "legendgroup": "You",
         "marker": {
          "color": "#31688e",
          "pattern": {
           "shape": ""
          }
         },
         "name": "You",
         "offsetgroup": "You",
         "orientation": "v",
         "showlegend": true,
         "text": [
          "думаете",
          "можете",
          "знаешь",
          "знаете",
          "можешь"
         ],
         "textposition": "auto",
         "type": "bar",
         "x": [
          "You",
          "You",
          "You",
          "You",
          "You"
         ],
         "xaxis": "x",
         "y": [
          63,
          81,
          89,
          94,
          98
         ],
         "yaxis": "y"
        }
       ],
       "layout": {
        "barmode": "relative",
        "hovermode": "closest",
        "legend": {
         "title": {
          "text": "Pronoun"
         },
         "tracegroupgap": 0
        },
        "template": {
         "data": {
          "bar": [
           {
            "error_x": {
             "color": "#2a3f5f"
            },
            "error_y": {
             "color": "#2a3f5f"
            },
            "marker": {
             "line": {
              "color": "#E5ECF6",
              "width": 0.5
             },
             "pattern": {
              "fillmode": "overlay",
              "size": 10,
              "solidity": 0.2
             }
            },
            "type": "bar"
           }
          ],
          "barpolar": [
           {
            "marker": {
             "line": {
              "color": "#E5ECF6",
              "width": 0.5
             },
             "pattern": {
              "fillmode": "overlay",
              "size": 10,
              "solidity": 0.2
             }
            },
            "type": "barpolar"
           }
          ],
          "carpet": [
           {
            "aaxis": {
             "endlinecolor": "#2a3f5f",
             "gridcolor": "white",
             "linecolor": "white",
             "minorgridcolor": "white",
             "startlinecolor": "#2a3f5f"
            },
            "baxis": {
             "endlinecolor": "#2a3f5f",
             "gridcolor": "white",
             "linecolor": "white",
             "minorgridcolor": "white",
             "startlinecolor": "#2a3f5f"
            },
            "type": "carpet"
           }
          ],
          "choropleth": [
           {
            "colorbar": {
             "outlinewidth": 0,
             "ticks": ""
            },
            "type": "choropleth"
           }
          ],
          "contour": [
           {
            "colorbar": {
             "outlinewidth": 0,
             "ticks": ""
            },
            "colorscale": [
             [
              0,
              "#0d0887"
             ],
             [
              0.1111111111111111,
              "#46039f"
             ],
             [
              0.2222222222222222,
              "#7201a8"
             ],
             [
              0.3333333333333333,
              "#9c179e"
             ],
             [
              0.4444444444444444,
              "#bd3786"
             ],
             [
              0.5555555555555556,
              "#d8576b"
             ],
             [
              0.6666666666666666,
              "#ed7953"
             ],
             [
              0.7777777777777778,
              "#fb9f3a"
             ],
             [
              0.8888888888888888,
              "#fdca26"
             ],
             [
              1,
              "#f0f921"
             ]
            ],
            "type": "contour"
           }
          ],
          "contourcarpet": [
           {
            "colorbar": {
             "outlinewidth": 0,
             "ticks": ""
            },
            "type": "contourcarpet"
           }
          ],
          "heatmap": [
           {
            "colorbar": {
             "outlinewidth": 0,
             "ticks": ""
            },
            "colorscale": [
             [
              0,
              "#0d0887"
             ],
             [
              0.1111111111111111,
              "#46039f"
             ],
             [
              0.2222222222222222,
              "#7201a8"
             ],
             [
              0.3333333333333333,
              "#9c179e"
             ],
             [
              0.4444444444444444,
              "#bd3786"
             ],
             [
              0.5555555555555556,
              "#d8576b"
             ],
             [
              0.6666666666666666,
              "#ed7953"
             ],
             [
              0.7777777777777778,
              "#fb9f3a"
             ],
             [
              0.8888888888888888,
              "#fdca26"
             ],
             [
              1,
              "#f0f921"
             ]
            ],
            "type": "heatmap"
           }
          ],
          "heatmapgl": [
           {
            "colorbar": {
             "outlinewidth": 0,
             "ticks": ""
            },
            "colorscale": [
             [
              0,
              "#0d0887"
             ],
             [
              0.1111111111111111,
              "#46039f"
             ],
             [
              0.2222222222222222,
              "#7201a8"
             ],
             [
              0.3333333333333333,
              "#9c179e"
             ],
             [
              0.4444444444444444,
              "#bd3786"
             ],
             [
              0.5555555555555556,
              "#d8576b"
             ],
             [
              0.6666666666666666,
              "#ed7953"
             ],
             [
              0.7777777777777778,
              "#fb9f3a"
             ],
             [
              0.8888888888888888,
              "#fdca26"
             ],
             [
              1,
              "#f0f921"
             ]
            ],
            "type": "heatmapgl"
           }
          ],
          "histogram": [
           {
            "marker": {
             "pattern": {
              "fillmode": "overlay",
              "size": 10,
              "solidity": 0.2
             }
            },
            "type": "histogram"
           }
          ],
          "histogram2d": [
           {
            "colorbar": {
             "outlinewidth": 0,
             "ticks": ""
            },
            "colorscale": [
             [
              0,
              "#0d0887"
             ],
             [
              0.1111111111111111,
              "#46039f"
             ],
             [
              0.2222222222222222,
              "#7201a8"
             ],
             [
              0.3333333333333333,
              "#9c179e"
             ],
             [
              0.4444444444444444,
              "#bd3786"
             ],
             [
              0.5555555555555556,
              "#d8576b"
             ],
             [
              0.6666666666666666,
              "#ed7953"
             ],
             [
              0.7777777777777778,
              "#fb9f3a"
             ],
             [
              0.8888888888888888,
              "#fdca26"
             ],
             [
              1,
              "#f0f921"
             ]
            ],
            "type": "histogram2d"
           }
          ],
          "histogram2dcontour": [
           {
            "colorbar": {
             "outlinewidth": 0,
             "ticks": ""
            },
            "colorscale": [
             [
              0,
              "#0d0887"
             ],
             [
              0.1111111111111111,
              "#46039f"
             ],
             [
              0.2222222222222222,
              "#7201a8"
             ],
             [
              0.3333333333333333,
              "#9c179e"
             ],
             [
              0.4444444444444444,
              "#bd3786"
             ],
             [
              0.5555555555555556,
              "#d8576b"
             ],
             [
              0.6666666666666666,
              "#ed7953"
             ],
             [
              0.7777777777777778,
              "#fb9f3a"
             ],
             [
              0.8888888888888888,
              "#fdca26"
             ],
             [
              1,
              "#f0f921"
             ]
            ],
            "type": "histogram2dcontour"
           }
          ],
          "mesh3d": [
           {
            "colorbar": {
             "outlinewidth": 0,
             "ticks": ""
            },
            "type": "mesh3d"
           }
          ],
          "parcoords": [
           {
            "line": {
             "colorbar": {
              "outlinewidth": 0,
              "ticks": ""
             }
            },
            "type": "parcoords"
           }
          ],
          "pie": [
           {
            "automargin": true,
            "type": "pie"
           }
          ],
          "scatter": [
           {
            "marker": {
             "colorbar": {
              "outlinewidth": 0,
              "ticks": ""
             }
            },
            "type": "scatter"
           }
          ],
          "scatter3d": [
           {
            "line": {
             "colorbar": {
              "outlinewidth": 0,
              "ticks": ""
             }
            },
            "marker": {
             "colorbar": {
              "outlinewidth": 0,
              "ticks": ""
             }
            },
            "type": "scatter3d"
           }
          ],
          "scattercarpet": [
           {
            "marker": {
             "colorbar": {
              "outlinewidth": 0,
              "ticks": ""
             }
            },
            "type": "scattercarpet"
           }
          ],
          "scattergeo": [
           {
            "marker": {
             "colorbar": {
              "outlinewidth": 0,
              "ticks": ""
             }
            },
            "type": "scattergeo"
           }
          ],
          "scattergl": [
           {
            "marker": {
             "colorbar": {
              "outlinewidth": 0,
              "ticks": ""
             }
            },
            "type": "scattergl"
           }
          ],
          "scattermapbox": [
           {
            "marker": {
             "colorbar": {
              "outlinewidth": 0,
              "ticks": ""
             }
            },
            "type": "scattermapbox"
           }
          ],
          "scatterpolar": [
           {
            "marker": {
             "colorbar": {
              "outlinewidth": 0,
              "ticks": ""
             }
            },
            "type": "scatterpolar"
           }
          ],
          "scatterpolargl": [
           {
            "marker": {
             "colorbar": {
              "outlinewidth": 0,
              "ticks": ""
             }
            },
            "type": "scatterpolargl"
           }
          ],
          "scatterternary": [
           {
            "marker": {
             "colorbar": {
              "outlinewidth": 0,
              "ticks": ""
             }
            },
            "type": "scatterternary"
           }
          ],
          "surface": [
           {
            "colorbar": {
             "outlinewidth": 0,
             "ticks": ""
            },
            "colorscale": [
             [
              0,
              "#0d0887"
             ],
             [
              0.1111111111111111,
              "#46039f"
             ],
             [
              0.2222222222222222,
              "#7201a8"
             ],
             [
              0.3333333333333333,
              "#9c179e"
             ],
             [
              0.4444444444444444,
              "#bd3786"
             ],
             [
              0.5555555555555556,
              "#d8576b"
             ],
             [
              0.6666666666666666,
              "#ed7953"
             ],
             [
              0.7777777777777778,
              "#fb9f3a"
             ],
             [
              0.8888888888888888,
              "#fdca26"
             ],
             [
              1,
              "#f0f921"
             ]
            ],
            "type": "surface"
           }
          ],
          "table": [
           {
            "cells": {
             "fill": {
              "color": "#EBF0F8"
             },
             "line": {
              "color": "white"
             }
            },
            "header": {
             "fill": {
              "color": "#C8D4E3"
             },
             "line": {
              "color": "white"
             }
            },
            "type": "table"
           }
          ]
         },
         "layout": {
          "annotationdefaults": {
           "arrowcolor": "#2a3f5f",
           "arrowhead": 0,
           "arrowwidth": 1
          },
          "autotypenumbers": "strict",
          "coloraxis": {
           "colorbar": {
            "outlinewidth": 0,
            "ticks": ""
           }
          },
          "colorscale": {
           "diverging": [
            [
             0,
             "#8e0152"
            ],
            [
             0.1,
             "#c51b7d"
            ],
            [
             0.2,
             "#de77ae"
            ],
            [
             0.3,
             "#f1b6da"
            ],
            [
             0.4,
             "#fde0ef"
            ],
            [
             0.5,
             "#f7f7f7"
            ],
            [
             0.6,
             "#e6f5d0"
            ],
            [
             0.7,
             "#b8e186"
            ],
            [
             0.8,
             "#7fbc41"
            ],
            [
             0.9,
             "#4d9221"
            ],
            [
             1,
             "#276419"
            ]
           ],
           "sequential": [
            [
             0,
             "#0d0887"
            ],
            [
             0.1111111111111111,
             "#46039f"
            ],
            [
             0.2222222222222222,
             "#7201a8"
            ],
            [
             0.3333333333333333,
             "#9c179e"
            ],
            [
             0.4444444444444444,
             "#bd3786"
            ],
            [
             0.5555555555555556,
             "#d8576b"
            ],
            [
             0.6666666666666666,
             "#ed7953"
            ],
            [
             0.7777777777777778,
             "#fb9f3a"
            ],
            [
             0.8888888888888888,
             "#fdca26"
            ],
            [
             1,
             "#f0f921"
            ]
           ],
           "sequentialminus": [
            [
             0,
             "#0d0887"
            ],
            [
             0.1111111111111111,
             "#46039f"
            ],
            [
             0.2222222222222222,
             "#7201a8"
            ],
            [
             0.3333333333333333,
             "#9c179e"
            ],
            [
             0.4444444444444444,
             "#bd3786"
            ],
            [
             0.5555555555555556,
             "#d8576b"
            ],
            [
             0.6666666666666666,
             "#ed7953"
            ],
            [
             0.7777777777777778,
             "#fb9f3a"
            ],
            [
             0.8888888888888888,
             "#fdca26"
            ],
            [
             1,
             "#f0f921"
            ]
           ]
          },
          "colorway": [
           "#636efa",
           "#EF553B",
           "#00cc96",
           "#ab63fa",
           "#FFA15A",
           "#19d3f3",
           "#FF6692",
           "#B6E880",
           "#FF97FF",
           "#FECB52"
          ],
          "font": {
           "color": "#2a3f5f"
          },
          "geo": {
           "bgcolor": "white",
           "lakecolor": "white",
           "landcolor": "#E5ECF6",
           "showlakes": true,
           "showland": true,
           "subunitcolor": "white"
          },
          "hoverlabel": {
           "align": "left"
          },
          "hovermode": "closest",
          "mapbox": {
           "style": "light"
          },
          "paper_bgcolor": "white",
          "plot_bgcolor": "#E5ECF6",
          "polar": {
           "angularaxis": {
            "gridcolor": "white",
            "linecolor": "white",
            "ticks": ""
           },
           "bgcolor": "#E5ECF6",
           "radialaxis": {
            "gridcolor": "white",
            "linecolor": "white",
            "ticks": ""
           }
          },
          "scene": {
           "xaxis": {
            "backgroundcolor": "#E5ECF6",
            "gridcolor": "white",
            "gridwidth": 2,
            "linecolor": "white",
            "showbackground": true,
            "ticks": "",
            "zerolinecolor": "white"
           },
           "yaxis": {
            "backgroundcolor": "#E5ECF6",
            "gridcolor": "white",
            "gridwidth": 2,
            "linecolor": "white",
            "showbackground": true,
            "ticks": "",
            "zerolinecolor": "white"
           },
           "zaxis": {
            "backgroundcolor": "#E5ECF6",
            "gridcolor": "white",
            "gridwidth": 2,
            "linecolor": "white",
            "showbackground": true,
            "ticks": "",
            "zerolinecolor": "white"
           }
          },
          "shapedefaults": {
           "line": {
            "color": "#2a3f5f"
           }
          },
          "ternary": {
           "aaxis": {
            "gridcolor": "white",
            "linecolor": "white",
            "ticks": ""
           },
           "baxis": {
            "gridcolor": "white",
            "linecolor": "white",
            "ticks": ""
           },
           "bgcolor": "#E5ECF6",
           "caxis": {
            "gridcolor": "white",
            "linecolor": "white",
            "ticks": ""
           }
          },
          "title": {
           "x": 0.05
          },
          "xaxis": {
           "automargin": true,
           "gridcolor": "white",
           "linecolor": "white",
           "ticks": "",
           "title": {
            "standoff": 15
           },
           "zerolinecolor": "white",
           "zerolinewidth": 2
          },
          "yaxis": {
           "automargin": true,
           "gridcolor": "white",
           "linecolor": "white",
           "ticks": "",
           "title": {
            "standoff": 15
           },
           "zerolinecolor": "white",
           "zerolinewidth": 2
          }
         }
        },
        "title": {
         "text": "5 Most Common Verbs Found Alongside Russian Pronouns"
        },
        "xaxis": {
         "anchor": "y",
         "categoryarray": [
          "Us",
          "We",
          "Me",
          "You"
         ],
         "categoryorder": "array",
         "domain": [
          0,
          1
         ],
         "title": {
          "text": "Pronoun"
         }
        },
        "yaxis": {
         "anchor": "x",
         "domain": [
          0,
          1
         ],
         "title": {
          "text": "Count"
         }
        }
       }
      }
     },
     "metadata": {}
    }
   ],
   "metadata": {}
  },
  {
   "cell_type": "markdown",
   "source": [
    "**Translated Table of Russian Verbs**\r\n"
   ],
   "metadata": {}
  },
  {
   "cell_type": "markdown",
   "source": [
    "\r\n",
    "| Us             | We           | Me           | You          |\r\n",
    "| :------------- | :----------: | -----------: | -----------: |\r\n",
    "|  Walk          |  Know        |  Seems       |  (You) Can   |\r\n",
    "|  To Be         |  Will        |  Like        |  Know        |\r\n",
    "|  Will          |  Can         |  Was         |  Know (diff) |\r\n",
    "|  Ruin          |  See         |  (repeat?    |  Can (You)   |\r\n",
    "|  Can           |  Will        |  Will        |  Think       |\r\n",
    "\r\n"
   ],
   "metadata": {}
  },
  {
   "cell_type": "code",
   "execution_count": null,
   "source": [
    "#reference for nltk multi processing\r\n",
    "#https://datascience.blog.wzb.eu/2017/06/19/speeding-up-nltk-with-parallel-processing/\r\n",
    "corpus = {f_id: nltk.corpus.gutenberg.raw(f_id)\r\n",
    "          for f_id in nltk.corpus.gutenberg.fileids()}\r\n",
    "\r\n",
    "def tokenize_and_pos_tag(pair):\r\n",
    "    f_id, doc = pair\r\n",
    "    return f_id, nltk.pos_tag(nltk.word_tokenize(doc))\r\n",
    "\r\n",
    "if __name__ == '__main__':\r\n",
    "    # automatically uses mp.cpu_count() as number of workers\r\n",
    "    # mp.cpu_count() is 4 -> use 4 jobs\r\n",
    "    with mp.Pool() as pool:\r\n",
    "        tokens = pool.map(tokenize_and_pos_tag, corpus.items())"
   ],
   "outputs": [],
   "metadata": {}
  }
 ],
 "metadata": {
  "kernelspec": {
   "name": "python3",
   "display_name": "Python 3.8.11 64-bit"
  },
  "language_info": {
   "name": "python",
   "version": "3.8.11",
   "mimetype": "text/x-python",
   "codemirror_mode": {
    "name": "ipython",
    "version": 3
   },
   "pygments_lexer": "ipython3",
   "nbconvert_exporter": "python",
   "file_extension": ".py"
  },
  "interpreter": {
   "hash": "6c91f7360f31a60595970ce0519c225953292631b532536816811087a825ec9b"
  }
 },
 "nbformat": 4,
 "nbformat_minor": 5
}