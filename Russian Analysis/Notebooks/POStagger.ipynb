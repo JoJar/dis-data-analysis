{
 "cells": [
  {
   "cell_type": "code",
   "execution_count": 7,
   "source": [
    "import nltk\r\n",
    "import re\r\n",
    "import multiprocessing as mp\r\n",
    "import plotly.express as px\r\n",
    "import nltk\r\n",
    "from tqdm import tqdm\r\n",
    "import os\r\n",
    "import sys"
   ],
   "outputs": [],
   "metadata": {}
  },
  {
   "cell_type": "markdown",
   "source": [
    "Concordance"
   ],
   "metadata": {}
  },
  {
   "cell_type": "markdown",
   "source": [
    "Processing Concordance"
   ],
   "metadata": {}
  },
  {
   "cell_type": "code",
   "execution_count": 3,
   "source": [
    "def writeToFile(filename, left_tokenize, right_tokenize, query):\r\n",
    "    obj=[query],left_tokenize,right_tokenize\r\n",
    "\r\n",
    "    with open('../txts/POS-tagged/' + filename, 'a', encoding='utf8') as fin:\r\n",
    "        fin.write(str(obj) + \"\\n\")"
   ],
   "outputs": [],
   "metadata": {}
  },
  {
   "cell_type": "code",
   "execution_count": 5,
   "source": [
    "# Creates a new file, takes the base concordance file and runs POS tagging.\r\n",
    "# This code strips the concordance down to left and right of the query (word concordance query)\r\n",
    "def concordance_word_type(query, wordtype):\r\n",
    "    stripped_string = \"\"\r\n",
    "\r\n",
    "    with open('../txts/Concordance/concordance_'+ query + '.txt', 'r', encoding='utf8') as f:\r\n",
    "        for line in f.readlines():\r\n",
    "            stripped_string += \" \" + line\r\n",
    "\r\n",
    "    return pos_tag_rus(stripped_string, query)"
   ],
   "outputs": [],
   "metadata": {}
  },
  {
   "cell_type": "code",
   "execution_count": 73,
   "source": [
    "# import pymorphy2\r\n",
    "# # https://pymorphy2.readthedocs.io/en/stable/user/guide.html\r\n",
    "\r\n",
    "# #stem\r\n",
    "# token = nltk.word_tokenize(stripped_string)\r\n",
    "# morph = pymorphy2.MorphAnalyzer()\r\n",
    "\r\n",
    "# k=[]\r\n",
    "# for i in token:\r\n",
    "#     j = morph.parse(i)[0]\r\n",
    "#     k.append([i, j.tag.POS])\r\n",
    "\r\n",
    "# print(k)"
   ],
   "outputs": [
    {
     "output_type": "stream",
     "name": "stdout",
     "text": [
      "[['сексуальн', 'NOUN'], ['план', 'NOUN'], ['психоэмоциональн', 'NOUN'], ['смысл', 'NOUN'], ['я', 'NPRO'], ['прочувствова', 'NOUN'], ['сво', None], ['власт', 'NOUN'], ['охуен', 'ADJS'], ['сон', 'NOUN'], ['мне', 'NPRO']]\n"
     ]
    }
   ],
   "metadata": {}
  },
  {
   "cell_type": "markdown",
   "source": [
    "POS tagging processed concordance"
   ],
   "metadata": {}
  },
  {
   "cell_type": "code",
   "execution_count": 6,
   "source": [
    "import pymorphy2\r\n",
    "# https://pymorphy2.readthedocs.io/en/stable/user/guide.html\r\n",
    "def pos_tag_rus(stripped_string, query):\r\n",
    "    morph = pymorphy2.MorphAnalyzer()\r\n",
    "    token = nltk.word_tokenize(stripped_string)\r\n",
    "\r\n",
    "    k = []\r\n",
    "    for i in token:\r\n",
    "        j = morph.parse(i)[0]\r\n",
    "        k.append([i, j.tag.POS])\r\n",
    "    # nouns = get_nouns(k)\r\n",
    "    # verbs = get_verbs(k)\r\n",
    "    all_words = get_all(k)\r\n",
    "    return all_words"
   ],
   "outputs": [],
   "metadata": {}
  },
  {
   "cell_type": "code",
   "execution_count": 4,
   "source": [
    "def get_all(token, query):\r\n",
    "    exclude = [\"могут\",\"мог\"]\r\n",
    "    most_common_any = []\r\n",
    "\r\n",
    "    for ls in token:\r\n",
    "        for i, j in ls:\r\n",
    "            if i not in exclude:\r\n",
    "                if len(i) >= 4:\r\n",
    "                    most_common_any.append(i)\r\n",
    "\r\n",
    "    any_frq = nltk.FreqDist(any for any in most_common_any)\r\n",
    "    most_common_any = any_frq.most_common(20)\r\n",
    "    return most_common_any"
   ],
   "outputs": [],
   "metadata": {}
  },
  {
   "cell_type": "code",
   "execution_count": 8,
   "source": [
    "def get_verbs(ls):\r\n",
    "    most_common_verbs = []\r\n",
    "    for i in ls:\r\n",
    "        if i[1] == \"VERB\":\r\n",
    "            most_common_verbs.append(i[0])\r\n",
    "    verb_frq = nltk.FreqDist(verb for verb in most_common_verbs)\r\n",
    "    most_common_verbs = verb_frq.most_common(20)\r\n",
    "    return most_common_verbs"
   ],
   "outputs": [],
   "metadata": {}
  },
  {
   "cell_type": "code",
   "execution_count": 9,
   "source": [
    "# get all nouns and return the 20 most common\r\n",
    "def get_nouns(ls):\r\n",
    "    most_common_nouns = []\r\n",
    "    for i in ls:\r\n",
    "        if i[1] == 'NOUN':\r\n",
    "            most_common_nouns.append(i[0])\r\n",
    "    noun_frq = nltk.FreqDist(noun for noun in most_common_nouns)\r\n",
    "    most_common_nouns = noun_frq.most_common(20)\r\n",
    "\r\n",
    "    return most_common_nouns"
   ],
   "outputs": [],
   "metadata": {}
  },
  {
   "cell_type": "code",
   "execution_count": null,
   "source": [
    "vocab = [\"я\", \"мы\", \"ты\", \"oни\", \"нас\", \"вы\", \"тебя\", \"меня\", \"тебе\", \"вами\", \"мне\"]"
   ],
   "outputs": [],
   "metadata": {}
  },
  {
   "cell_type": "code",
   "execution_count": 10,
   "source": [
    "# Python program to sort a list of tuples by the second Item\r\n",
    "  \r\n",
    "# Function to sort the list of tuples by its second item\r\n",
    "def Sort_Tuple(tup):\r\n",
    "    # remove modal verbs\r\n",
    "    clean_list = []\r\n",
    "    for i in tup:\r\n",
    "        l, c = i\r\n",
    "        if l != \"могут\" and l != \"мог\":\r\n",
    "            clean_tup = (l, c)\r\n",
    "            clean_list.append(clean_tup)\r\n",
    "\r\n",
    "    # getting length of list of tuples\r\n",
    "    lst = len(clean_list)\r\n",
    "    for i in range(0, lst):\r\n",
    "        for j in range(0, lst-i-1):\r\n",
    "            if (clean_list[j][1] > clean_list[j + 1][1]): \r\n",
    "                temp = clean_list[j] \r\n",
    "                clean_list[j]= clean_list[j + 1] \r\n",
    "                clean_list[j + 1]= temp \r\n",
    "    return clean_list\r\n",
    "\r\n",
    "def remove_single_letter_words(tup):\r\n",
    "    for i in tup:\r\n",
    "        if i[0] == 'е':\r\n",
    "\r\n",
    "            tup.remove(i)\r\n",
    "    return tup"
   ],
   "outputs": [],
   "metadata": {}
  },
  {
   "cell_type": "code",
   "execution_count": 14,
   "source": [
    "# Saves concordance for each pronoun to a variable.\r\n",
    "# Will automate this and make it cleaner at some point\r\n",
    "\r\n",
    "vocab = [\"\", \"он\", \"вас\",  \"вы\", \"их\",\"мен\", \"мне\", \"мы\",\"нас\", \"теб\",\"ты\", \"я\"]\r\n",
    "\r\n",
    "verbs_он = concordance_word_type(vocab[1],\"Pronoun\")\r\n",
    "verbs_вас = concordance_word_type(vocab[2], \"Pronoun\")\r\n",
    "verbs_вы = concordance_word_type(vocab[3], \"Pronoun\")\r\n",
    "verbs_их = concordance_word_type(vocab[4], \"Pronoun\")\r\n",
    "verbs_мен = concordance_word_type(vocab[5], \"Pronoun\")\r\n",
    "verbs_мне = concordance_word_type(vocab[6], \"Pronoun\")\r\n",
    "verbs_мы = concordance_word_type(vocab[7], \"Pronoun\")\r\n",
    "verbs_нас = concordance_word_type(vocab[8], \"Pronoun\")\r\n",
    "verbs_теб = concordance_word_type(vocab[9], \"Pronoun\")\r\n",
    "verbs_ты = concordance_word_type(vocab[10], \"Pronoun\")\r\n",
    "verbs_я = concordance_word_type(vocab[11], \"Pronoun\")"
   ],
   "outputs": [],
   "metadata": {}
  },
  {
   "cell_type": "code",
   "execution_count": 69,
   "source": [
    "\r\n",
    "# verbs_You = remove_single_letter_words(verbs_You)\r\n",
    "# verbs_Me = remove_single_letter_words(verbs_Me)\r\n",
    "# verbs_Us = remove_single_letter_words(verbs_Us)\r\n",
    "# verbs_We = remove_single_letter_words(verbs_We)\r\n",
    "# verbs_They = remove_single_letter_words(verbs_They)\r\n",
    "\r\n",
    "# Sorts the tuple in order of frequency\r\n",
    "verbs_он = Sort_Tuple(verbs_он)\r\n",
    "verbs_вас = Sort_Tuple(verbs_вас)\r\n",
    "verbs_вы = Sort_Tuple(verbs_вы)\r\n",
    "verbs_их = Sort_Tuple(verbs_их)\r\n",
    "verbs_мен = Sort_Tuple(verbs_мен)\r\n",
    "verbs_мне = Sort_Tuple(verbs_мне)\r\n",
    "verbs_мы = Sort_Tuple(verbs_мы)\r\n",
    "verbs_нас = Sort_Tuple(verbs_нас)\r\n",
    "verbs_теб = Sort_Tuple(verbs_теб)\r\n",
    "verbs_ты = Sort_Tuple(verbs_ты)\r\n",
    "verbs_я = Sort_Tuple(verbs_я)"
   ],
   "outputs": [],
   "metadata": {}
  },
  {
   "cell_type": "code",
   "execution_count": 62,
   "source": [
    "print(verbs_ты)\r\n",
    "print(\"\\n\")\r\n",
    "print(verbs_теб)"
   ],
   "outputs": [
    {
     "output_type": "stream",
     "name": "stdout",
     "text": [
      "[('знают', 21), ('жил', 22), ('долбоеб', 22), ('ел', 23), ('пошел', 24), ('смотрет', 25), ('имеют', 26), ('имеет', 28), ('знает', 33), ('кажет', 37), ('видел', 38), ('знал', 40), ('стал', 43), ('будут', 47), ('врем', 57), ('хотел', 60), ('блят', 111), ('сдела', 133)]\n",
      "\n",
      "\n",
      "[('смог', 10), ('смотрет', 11), ('знают', 11), ('станет', 11), ('видел', 12), ('врем', 13), ('знал', 13), ('какиет', 15), ('знает', 18), ('хочет', 19), ('кинул', 19), ('кажет', 21), ('хотел', 22), ('стал', 23), ('имеет', 25), ('блят', 35), ('сдела', 36), ('будут', 39)]\n"
     ]
    }
   ],
   "metadata": {}
  },
  {
   "cell_type": "code",
   "execution_count": 12,
   "source": [
    "import plotly.express as px\r\n",
    "import pandas as pd\r\n",
    "\r\n",
    "# Function which creates a dataframe containing\r\n",
    "# the verb tuple and associated pronoun. \r\n",
    "def dataframer(words_tuple, pnoun):\r\n",
    "    data = {}\r\n",
    "    counter = []\r\n",
    "    words = []\r\n",
    "\r\n",
    "    for i in words_tuple:\r\n",
    "        j, k = i\r\n",
    "        words.append(j)\r\n",
    "        counter.append(k)\r\n",
    "\r\n",
    "    for pronoun in range(len(words)):\r\n",
    "        data[\"Pronoun\"] = pnoun\r\n",
    "        data[\"Word\"] = words\r\n",
    "        data[\"Count\"] = counter\r\n",
    "\r\n",
    "    df_new = pd.DataFrame(data=data)\r\n",
    "    return df_new"
   ],
   "outputs": [],
   "metadata": {}
  },
  {
   "cell_type": "code",
   "execution_count": 11,
   "source": [
    "# Function takes a tuple of the (list of words) and the (concorded word) and the most frequent (X)\r\n",
    "# That the user wants returned.\r\n",
    "# Returns a stacked bar chart of the processed data.\r\n",
    "def bar_stacked(list_of_tuples, x, title):\r\n",
    "    x = -abs(x)\r\n",
    "    df = pd.DataFrame(columns=[\"Pronoun\", \"Word\", \"Count\"])\r\n",
    "    # i_df = dataframer(verbs_I[-5:], \"I\")\r\n",
    "    new = df\r\n",
    "\r\n",
    "    for i, j in list_of_tuples:\r\n",
    "        temp = dataframer(i[x:], j)\r\n",
    "        new = new.append(temp)\r\n",
    "\r\n",
    "    new = new.sort_values(by=['Count'], ascending=True)\r\n",
    "\r\n",
    "    fig = px.bar(new, x=\"Pronoun\", y=\"Count\", color=\"Pronoun\", title=title, text=new['Word'], color_discrete_sequence=px.colors.sequential.Viridis)\r\n",
    "    fig.update_layout(hovermode=\"closest\")\r\n",
    "\r\n",
    "    fig.write_html(\"../Images/pronoun-verbs-file.html\")\r\n",
    "\r\n",
    "    fig.show()"
   ],
   "outputs": [],
   "metadata": {}
  },
  {
   "cell_type": "code",
   "execution_count": 77,
   "source": [
    "verb_list_and_pronoun = [(verbs_он, \"он\"), (verbs_вас,\"вас\"), (verbs_вы, \"вы\"), (verbs_их, \"их\"), (verbs_мен, \"мен\"), (verbs_мне, \"мне\"), (verbs_мы, \"мы\"), (verbs_нас, \"нас\"), (verbs_теб, \"теб\"), (verbs_ты, \"ты\"), (verbs_я, \"я\")]\r\n",
    "bar_stacked(verb_list_and_pronoun, 10, \"10 Most Common Verbs Found Alongside Russian Pronouns\")"
   ],
   "outputs": [
    {
     "output_type": "display_data",
     "data": {
      "application/vnd.plotly.v1+json": {
       "config": {
        "plotlyServerURL": "https://plot.ly"
       },
       "data": [
        {
         "alignmentgroup": "True",
         "hovertemplate": "Pronoun=%{x}<br>Count=%{y}<br>Word=%{text}<extra></extra>",
         "legendgroup": "мне",
         "marker": {
          "color": "#440154",
          "pattern": {
           "shape": ""
          }
         },
         "name": "мне",
         "offsetgroup": "мне",
         "orientation": "v",
         "showlegend": true,
         "text": [
          "знает",
          "робят",
          "апрел",
          "прошу",
          "зарядник",
          "лезет",
          "будут",
          "хочет",
          "принес",
          "кажет"
         ],
         "textposition": "auto",
         "type": "bar",
         "x": [
          "мне",
          "мне",
          "мне",
          "мне",
          "мне",
          "мне",
          "мне",
          "мне",
          "мне",
          "мне"
         ],
         "xaxis": "x",
         "y": [
          1,
          1,
          2,
          2,
          2,
          2,
          2,
          3,
          4,
          5
         ],
         "yaxis": "y"
        },
        {
         "alignmentgroup": "True",
         "hovertemplate": "Pronoun=%{x}<br>Count=%{y}<br>Word=%{text}<extra></extra>",
         "legendgroup": "вас",
         "marker": {
          "color": "#482878",
          "pattern": {
           "shape": ""
          }
         },
         "name": "вас",
         "offsetgroup": "вас",
         "orientation": "v",
         "showlegend": true,
         "text": [
          "хотел",
          "имеет",
          "хочет",
          "стал",
          "знает",
          "блят",
          "может",
          "врем",
          "сдела",
          "будут"
         ],
         "textposition": "auto",
         "type": "bar",
         "x": [
          "вас",
          "вас",
          "вас",
          "вас",
          "вас",
          "вас",
          "вас",
          "вас",
          "вас",
          "вас"
         ],
         "xaxis": "x",
         "y": [
          10,
          10,
          14,
          16,
          17,
          19,
          21,
          22,
          22,
          23
         ],
         "yaxis": "y"
        },
        {
         "alignmentgroup": "True",
         "hovertemplate": "Pronoun=%{x}<br>Count=%{y}<br>Word=%{text}<extra></extra>",
         "legendgroup": "нас",
         "marker": {
          "color": "#3e4989",
          "pattern": {
           "shape": ""
          }
         },
         "name": "нас",
         "offsetgroup": "нас",
         "orientation": "v",
         "showlegend": true,
         "text": [
          "кажет",
          "блят",
          "стал",
          "хотел",
          "врем",
          "отрицател",
          "идет",
          "знает",
          "будут",
          "сдела"
         ],
         "textposition": "auto",
         "type": "bar",
         "x": [
          "нас",
          "нас",
          "нас",
          "нас",
          "нас",
          "нас",
          "нас",
          "нас",
          "нас",
          "нас"
         ],
         "xaxis": "x",
         "y": [
          12,
          14,
          14,
          16,
          18,
          18,
          20,
          24,
          24,
          25
         ],
         "yaxis": "y"
        },
        {
         "alignmentgroup": "True",
         "hovertemplate": "Pronoun=%{x}<br>Count=%{y}<br>Word=%{text}<extra></extra>",
         "legendgroup": "теб",
         "marker": {
          "color": "#31688e",
          "pattern": {
           "shape": ""
          }
         },
         "name": "теб",
         "offsetgroup": "теб",
         "orientation": "v",
         "showlegend": true,
         "text": [
          "знает",
          "хочет",
          "кинул",
          "кажет",
          "хотел",
          "стал",
          "имеет",
          "блят",
          "сдела",
          "будут"
         ],
         "textposition": "auto",
         "type": "bar",
         "x": [
          "теб",
          "теб",
          "теб",
          "теб",
          "теб",
          "теб",
          "теб",
          "теб",
          "теб",
          "теб"
         ],
         "xaxis": "x",
         "y": [
          18,
          19,
          19,
          21,
          22,
          23,
          25,
          35,
          36,
          39
         ],
         "yaxis": "y"
        },
        {
         "alignmentgroup": "True",
         "hovertemplate": "Pronoun=%{x}<br>Count=%{y}<br>Word=%{text}<extra></extra>",
         "legendgroup": "их",
         "marker": {
          "color": "#26828e",
          "pattern": {
           "shape": ""
          }
         },
         "name": "их",
         "offsetgroup": "их",
         "orientation": "v",
         "showlegend": true,
         "text": [
          "хотел",
          "хочет",
          "имеют",
          "знает",
          "кажет",
          "блят",
          "стал",
          "врем",
          "сдела",
          "будут"
         ],
         "textposition": "auto",
         "type": "bar",
         "x": [
          "их",
          "их",
          "их",
          "их",
          "их",
          "их",
          "их",
          "их",
          "их",
          "их"
         ],
         "xaxis": "x",
         "y": [
          25,
          27,
          28,
          29,
          31,
          32,
          36,
          52,
          54,
          75
         ],
         "yaxis": "y"
        },
        {
         "alignmentgroup": "True",
         "hovertemplate": "Pronoun=%{x}<br>Count=%{y}<br>Word=%{text}<extra></extra>",
         "legendgroup": "мы",
         "marker": {
          "color": "#1f9e89",
          "pattern": {
           "shape": ""
          }
         },
         "name": "мы",
         "offsetgroup": "мы",
         "orientation": "v",
         "showlegend": true,
         "text": [
          "знал",
          "хотел",
          "видел",
          "блят",
          "кажет",
          "знает",
          "стал",
          "будут",
          "врем",
          "сдела"
         ],
         "textposition": "auto",
         "type": "bar",
         "x": [
          "мы",
          "мы",
          "мы",
          "мы",
          "мы",
          "мы",
          "мы",
          "мы",
          "мы",
          "мы"
         ],
         "xaxis": "x",
         "y": [
          27,
          27,
          35,
          37,
          38,
          42,
          45,
          47,
          86,
          98
         ],
         "yaxis": "y"
        },
        {
         "alignmentgroup": "True",
         "hovertemplate": "Pronoun=%{x}<br>Count=%{y}<br>Word=%{text}<extra></extra>",
         "legendgroup": "мен",
         "marker": {
          "color": "#35b779",
          "pattern": {
           "shape": ""
          }
         },
         "name": "мен",
         "offsetgroup": "мен",
         "orientation": "v",
         "showlegend": true,
         "text": [
          "видел",
          "знал",
          "имеет",
          "знает",
          "кажет",
          "хотел",
          "стал",
          "врем",
          "блят",
          "сдела"
         ],
         "textposition": "auto",
         "type": "bar",
         "x": [
          "мен",
          "мен",
          "мен",
          "мен",
          "мен",
          "мен",
          "мен",
          "мен",
          "мен",
          "мен"
         ],
         "xaxis": "x",
         "y": [
          28,
          29,
          33,
          35,
          37,
          40,
          55,
          62,
          70,
          77
         ],
         "yaxis": "y"
        },
        {
         "alignmentgroup": "True",
         "hovertemplate": "Pronoun=%{x}<br>Count=%{y}<br>Word=%{text}<extra></extra>",
         "legendgroup": "вы",
         "marker": {
          "color": "#6ece58",
          "pattern": {
           "shape": ""
          }
         },
         "name": "вы",
         "offsetgroup": "вы",
         "orientation": "v",
         "showlegend": true,
         "text": [
          "хотел",
          "видел",
          "блят",
          "знал",
          "будет",
          "врем",
          "имеет",
          "сдела",
          "может",
          "знает"
         ],
         "textposition": "auto",
         "type": "bar",
         "x": [
          "вы",
          "вы",
          "вы",
          "вы",
          "вы",
          "вы",
          "вы",
          "вы",
          "вы",
          "вы"
         ],
         "xaxis": "x",
         "y": [
          32,
          35,
          36,
          37,
          41,
          47,
          50,
          56,
          102,
          105
         ],
         "yaxis": "y"
        },
        {
         "alignmentgroup": "True",
         "hovertemplate": "Pronoun=%{x}<br>Count=%{y}<br>Word=%{text}<extra></extra>",
         "legendgroup": "ты",
         "marker": {
          "color": "#b5de2b",
          "pattern": {
           "shape": ""
          }
         },
         "name": "ты",
         "offsetgroup": "ты",
         "orientation": "v",
         "showlegend": true,
         "text": [
          "знает",
          "кажет",
          "видел",
          "знал",
          "стал",
          "будут",
          "врем",
          "хотел",
          "блят",
          "сдела"
         ],
         "textposition": "auto",
         "type": "bar",
         "x": [
          "ты",
          "ты",
          "ты",
          "ты",
          "ты",
          "ты",
          "ты",
          "ты",
          "ты",
          "ты"
         ],
         "xaxis": "x",
         "y": [
          33,
          37,
          38,
          40,
          43,
          47,
          57,
          60,
          111,
          133
         ],
         "yaxis": "y"
        },
        {
         "alignmentgroup": "True",
         "hovertemplate": "Pronoun=%{x}<br>Count=%{y}<br>Word=%{text}<extra></extra>",
         "legendgroup": "он",
         "marker": {
          "color": "#fde725",
          "pattern": {
           "shape": ""
          }
         },
         "name": "он",
         "offsetgroup": "он",
         "orientation": "v",
         "showlegend": true,
         "text": [
          "знает",
          "пишут",
          "живут",
          "блят",
          "стал",
          "знают",
          "врем",
          "сдела",
          "имеют",
          "будут"
         ],
         "textposition": "auto",
         "type": "bar",
         "x": [
          "он",
          "он",
          "он",
          "он",
          "он",
          "он",
          "он",
          "он",
          "он",
          "он"
         ],
         "xaxis": "x",
         "y": [
          51,
          52,
          61,
          80,
          83,
          104,
          117,
          137,
          146,
          283
         ],
         "yaxis": "y"
        },
        {
         "alignmentgroup": "True",
         "hovertemplate": "Pronoun=%{x}<br>Count=%{y}<br>Word=%{text}<extra></extra>",
         "legendgroup": "я",
         "marker": {
          "color": "#440154",
          "pattern": {
           "shape": ""
          }
         },
         "name": "я",
         "offsetgroup": "я",
         "orientation": "v",
         "showlegend": true,
         "text": [
          "будут",
          "знает",
          "знал",
          "кажет",
          "хотел",
          "стал",
          "видел",
          "врем",
          "сдела",
          "блят"
         ],
         "textposition": "auto",
         "type": "bar",
         "x": [
          "я",
          "я",
          "я",
          "я",
          "я",
          "я",
          "я",
          "я",
          "я",
          "я"
         ],
         "xaxis": "x",
         "y": [
          202,
          248,
          260,
          270,
          319,
          330,
          360,
          420,
          472,
          508
         ],
         "yaxis": "y"
        }
       ],
       "layout": {
        "barmode": "relative",
        "hovermode": "closest",
        "legend": {
         "title": {
          "text": "Pronoun"
         },
         "tracegroupgap": 0
        },
        "template": {
         "data": {
          "bar": [
           {
            "error_x": {
             "color": "#2a3f5f"
            },
            "error_y": {
             "color": "#2a3f5f"
            },
            "marker": {
             "line": {
              "color": "#E5ECF6",
              "width": 0.5
             },
             "pattern": {
              "fillmode": "overlay",
              "size": 10,
              "solidity": 0.2
             }
            },
            "type": "bar"
           }
          ],
          "barpolar": [
           {
            "marker": {
             "line": {
              "color": "#E5ECF6",
              "width": 0.5
             },
             "pattern": {
              "fillmode": "overlay",
              "size": 10,
              "solidity": 0.2
             }
            },
            "type": "barpolar"
           }
          ],
          "carpet": [
           {
            "aaxis": {
             "endlinecolor": "#2a3f5f",
             "gridcolor": "white",
             "linecolor": "white",
             "minorgridcolor": "white",
             "startlinecolor": "#2a3f5f"
            },
            "baxis": {
             "endlinecolor": "#2a3f5f",
             "gridcolor": "white",
             "linecolor": "white",
             "minorgridcolor": "white",
             "startlinecolor": "#2a3f5f"
            },
            "type": "carpet"
           }
          ],
          "choropleth": [
           {
            "colorbar": {
             "outlinewidth": 0,
             "ticks": ""
            },
            "type": "choropleth"
           }
          ],
          "contour": [
           {
            "colorbar": {
             "outlinewidth": 0,
             "ticks": ""
            },
            "colorscale": [
             [
              0,
              "#0d0887"
             ],
             [
              0.1111111111111111,
              "#46039f"
             ],
             [
              0.2222222222222222,
              "#7201a8"
             ],
             [
              0.3333333333333333,
              "#9c179e"
             ],
             [
              0.4444444444444444,
              "#bd3786"
             ],
             [
              0.5555555555555556,
              "#d8576b"
             ],
             [
              0.6666666666666666,
              "#ed7953"
             ],
             [
              0.7777777777777778,
              "#fb9f3a"
             ],
             [
              0.8888888888888888,
              "#fdca26"
             ],
             [
              1,
              "#f0f921"
             ]
            ],
            "type": "contour"
           }
          ],
          "contourcarpet": [
           {
            "colorbar": {
             "outlinewidth": 0,
             "ticks": ""
            },
            "type": "contourcarpet"
           }
          ],
          "heatmap": [
           {
            "colorbar": {
             "outlinewidth": 0,
             "ticks": ""
            },
            "colorscale": [
             [
              0,
              "#0d0887"
             ],
             [
              0.1111111111111111,
              "#46039f"
             ],
             [
              0.2222222222222222,
              "#7201a8"
             ],
             [
              0.3333333333333333,
              "#9c179e"
             ],
             [
              0.4444444444444444,
              "#bd3786"
             ],
             [
              0.5555555555555556,
              "#d8576b"
             ],
             [
              0.6666666666666666,
              "#ed7953"
             ],
             [
              0.7777777777777778,
              "#fb9f3a"
             ],
             [
              0.8888888888888888,
              "#fdca26"
             ],
             [
              1,
              "#f0f921"
             ]
            ],
            "type": "heatmap"
           }
          ],
          "heatmapgl": [
           {
            "colorbar": {
             "outlinewidth": 0,
             "ticks": ""
            },
            "colorscale": [
             [
              0,
              "#0d0887"
             ],
             [
              0.1111111111111111,
              "#46039f"
             ],
             [
              0.2222222222222222,
              "#7201a8"
             ],
             [
              0.3333333333333333,
              "#9c179e"
             ],
             [
              0.4444444444444444,
              "#bd3786"
             ],
             [
              0.5555555555555556,
              "#d8576b"
             ],
             [
              0.6666666666666666,
              "#ed7953"
             ],
             [
              0.7777777777777778,
              "#fb9f3a"
             ],
             [
              0.8888888888888888,
              "#fdca26"
             ],
             [
              1,
              "#f0f921"
             ]
            ],
            "type": "heatmapgl"
           }
          ],
          "histogram": [
           {
            "marker": {
             "pattern": {
              "fillmode": "overlay",
              "size": 10,
              "solidity": 0.2
             }
            },
            "type": "histogram"
           }
          ],
          "histogram2d": [
           {
            "colorbar": {
             "outlinewidth": 0,
             "ticks": ""
            },
            "colorscale": [
             [
              0,
              "#0d0887"
             ],
             [
              0.1111111111111111,
              "#46039f"
             ],
             [
              0.2222222222222222,
              "#7201a8"
             ],
             [
              0.3333333333333333,
              "#9c179e"
             ],
             [
              0.4444444444444444,
              "#bd3786"
             ],
             [
              0.5555555555555556,
              "#d8576b"
             ],
             [
              0.6666666666666666,
              "#ed7953"
             ],
             [
              0.7777777777777778,
              "#fb9f3a"
             ],
             [
              0.8888888888888888,
              "#fdca26"
             ],
             [
              1,
              "#f0f921"
             ]
            ],
            "type": "histogram2d"
           }
          ],
          "histogram2dcontour": [
           {
            "colorbar": {
             "outlinewidth": 0,
             "ticks": ""
            },
            "colorscale": [
             [
              0,
              "#0d0887"
             ],
             [
              0.1111111111111111,
              "#46039f"
             ],
             [
              0.2222222222222222,
              "#7201a8"
             ],
             [
              0.3333333333333333,
              "#9c179e"
             ],
             [
              0.4444444444444444,
              "#bd3786"
             ],
             [
              0.5555555555555556,
              "#d8576b"
             ],
             [
              0.6666666666666666,
              "#ed7953"
             ],
             [
              0.7777777777777778,
              "#fb9f3a"
             ],
             [
              0.8888888888888888,
              "#fdca26"
             ],
             [
              1,
              "#f0f921"
             ]
            ],
            "type": "histogram2dcontour"
           }
          ],
          "mesh3d": [
           {
            "colorbar": {
             "outlinewidth": 0,
             "ticks": ""
            },
            "type": "mesh3d"
           }
          ],
          "parcoords": [
           {
            "line": {
             "colorbar": {
              "outlinewidth": 0,
              "ticks": ""
             }
            },
            "type": "parcoords"
           }
          ],
          "pie": [
           {
            "automargin": true,
            "type": "pie"
           }
          ],
          "scatter": [
           {
            "marker": {
             "colorbar": {
              "outlinewidth": 0,
              "ticks": ""
             }
            },
            "type": "scatter"
           }
          ],
          "scatter3d": [
           {
            "line": {
             "colorbar": {
              "outlinewidth": 0,
              "ticks": ""
             }
            },
            "marker": {
             "colorbar": {
              "outlinewidth": 0,
              "ticks": ""
             }
            },
            "type": "scatter3d"
           }
          ],
          "scattercarpet": [
           {
            "marker": {
             "colorbar": {
              "outlinewidth": 0,
              "ticks": ""
             }
            },
            "type": "scattercarpet"
           }
          ],
          "scattergeo": [
           {
            "marker": {
             "colorbar": {
              "outlinewidth": 0,
              "ticks": ""
             }
            },
            "type": "scattergeo"
           }
          ],
          "scattergl": [
           {
            "marker": {
             "colorbar": {
              "outlinewidth": 0,
              "ticks": ""
             }
            },
            "type": "scattergl"
           }
          ],
          "scattermapbox": [
           {
            "marker": {
             "colorbar": {
              "outlinewidth": 0,
              "ticks": ""
             }
            },
            "type": "scattermapbox"
           }
          ],
          "scatterpolar": [
           {
            "marker": {
             "colorbar": {
              "outlinewidth": 0,
              "ticks": ""
             }
            },
            "type": "scatterpolar"
           }
          ],
          "scatterpolargl": [
           {
            "marker": {
             "colorbar": {
              "outlinewidth": 0,
              "ticks": ""
             }
            },
            "type": "scatterpolargl"
           }
          ],
          "scatterternary": [
           {
            "marker": {
             "colorbar": {
              "outlinewidth": 0,
              "ticks": ""
             }
            },
            "type": "scatterternary"
           }
          ],
          "surface": [
           {
            "colorbar": {
             "outlinewidth": 0,
             "ticks": ""
            },
            "colorscale": [
             [
              0,
              "#0d0887"
             ],
             [
              0.1111111111111111,
              "#46039f"
             ],
             [
              0.2222222222222222,
              "#7201a8"
             ],
             [
              0.3333333333333333,
              "#9c179e"
             ],
             [
              0.4444444444444444,
              "#bd3786"
             ],
             [
              0.5555555555555556,
              "#d8576b"
             ],
             [
              0.6666666666666666,
              "#ed7953"
             ],
             [
              0.7777777777777778,
              "#fb9f3a"
             ],
             [
              0.8888888888888888,
              "#fdca26"
             ],
             [
              1,
              "#f0f921"
             ]
            ],
            "type": "surface"
           }
          ],
          "table": [
           {
            "cells": {
             "fill": {
              "color": "#EBF0F8"
             },
             "line": {
              "color": "white"
             }
            },
            "header": {
             "fill": {
              "color": "#C8D4E3"
             },
             "line": {
              "color": "white"
             }
            },
            "type": "table"
           }
          ]
         },
         "layout": {
          "annotationdefaults": {
           "arrowcolor": "#2a3f5f",
           "arrowhead": 0,
           "arrowwidth": 1
          },
          "autotypenumbers": "strict",
          "coloraxis": {
           "colorbar": {
            "outlinewidth": 0,
            "ticks": ""
           }
          },
          "colorscale": {
           "diverging": [
            [
             0,
             "#8e0152"
            ],
            [
             0.1,
             "#c51b7d"
            ],
            [
             0.2,
             "#de77ae"
            ],
            [
             0.3,
             "#f1b6da"
            ],
            [
             0.4,
             "#fde0ef"
            ],
            [
             0.5,
             "#f7f7f7"
            ],
            [
             0.6,
             "#e6f5d0"
            ],
            [
             0.7,
             "#b8e186"
            ],
            [
             0.8,
             "#7fbc41"
            ],
            [
             0.9,
             "#4d9221"
            ],
            [
             1,
             "#276419"
            ]
           ],
           "sequential": [
            [
             0,
             "#0d0887"
            ],
            [
             0.1111111111111111,
             "#46039f"
            ],
            [
             0.2222222222222222,
             "#7201a8"
            ],
            [
             0.3333333333333333,
             "#9c179e"
            ],
            [
             0.4444444444444444,
             "#bd3786"
            ],
            [
             0.5555555555555556,
             "#d8576b"
            ],
            [
             0.6666666666666666,
             "#ed7953"
            ],
            [
             0.7777777777777778,
             "#fb9f3a"
            ],
            [
             0.8888888888888888,
             "#fdca26"
            ],
            [
             1,
             "#f0f921"
            ]
           ],
           "sequentialminus": [
            [
             0,
             "#0d0887"
            ],
            [
             0.1111111111111111,
             "#46039f"
            ],
            [
             0.2222222222222222,
             "#7201a8"
            ],
            [
             0.3333333333333333,
             "#9c179e"
            ],
            [
             0.4444444444444444,
             "#bd3786"
            ],
            [
             0.5555555555555556,
             "#d8576b"
            ],
            [
             0.6666666666666666,
             "#ed7953"
            ],
            [
             0.7777777777777778,
             "#fb9f3a"
            ],
            [
             0.8888888888888888,
             "#fdca26"
            ],
            [
             1,
             "#f0f921"
            ]
           ]
          },
          "colorway": [
           "#636efa",
           "#EF553B",
           "#00cc96",
           "#ab63fa",
           "#FFA15A",
           "#19d3f3",
           "#FF6692",
           "#B6E880",
           "#FF97FF",
           "#FECB52"
          ],
          "font": {
           "color": "#2a3f5f"
          },
          "geo": {
           "bgcolor": "white",
           "lakecolor": "white",
           "landcolor": "#E5ECF6",
           "showlakes": true,
           "showland": true,
           "subunitcolor": "white"
          },
          "hoverlabel": {
           "align": "left"
          },
          "hovermode": "closest",
          "mapbox": {
           "style": "light"
          },
          "paper_bgcolor": "white",
          "plot_bgcolor": "#E5ECF6",
          "polar": {
           "angularaxis": {
            "gridcolor": "white",
            "linecolor": "white",
            "ticks": ""
           },
           "bgcolor": "#E5ECF6",
           "radialaxis": {
            "gridcolor": "white",
            "linecolor": "white",
            "ticks": ""
           }
          },
          "scene": {
           "xaxis": {
            "backgroundcolor": "#E5ECF6",
            "gridcolor": "white",
            "gridwidth": 2,
            "linecolor": "white",
            "showbackground": true,
            "ticks": "",
            "zerolinecolor": "white"
           },
           "yaxis": {
            "backgroundcolor": "#E5ECF6",
            "gridcolor": "white",
            "gridwidth": 2,
            "linecolor": "white",
            "showbackground": true,
            "ticks": "",
            "zerolinecolor": "white"
           },
           "zaxis": {
            "backgroundcolor": "#E5ECF6",
            "gridcolor": "white",
            "gridwidth": 2,
            "linecolor": "white",
            "showbackground": true,
            "ticks": "",
            "zerolinecolor": "white"
           }
          },
          "shapedefaults": {
           "line": {
            "color": "#2a3f5f"
           }
          },
          "ternary": {
           "aaxis": {
            "gridcolor": "white",
            "linecolor": "white",
            "ticks": ""
           },
           "baxis": {
            "gridcolor": "white",
            "linecolor": "white",
            "ticks": ""
           },
           "bgcolor": "#E5ECF6",
           "caxis": {
            "gridcolor": "white",
            "linecolor": "white",
            "ticks": ""
           }
          },
          "title": {
           "x": 0.05
          },
          "xaxis": {
           "automargin": true,
           "gridcolor": "white",
           "linecolor": "white",
           "ticks": "",
           "title": {
            "standoff": 15
           },
           "zerolinecolor": "white",
           "zerolinewidth": 2
          },
          "yaxis": {
           "automargin": true,
           "gridcolor": "white",
           "linecolor": "white",
           "ticks": "",
           "title": {
            "standoff": 15
           },
           "zerolinecolor": "white",
           "zerolinewidth": 2
          }
         }
        },
        "title": {
         "text": "10 Most Common Verbs Found Alongside Russian Pronouns"
        },
        "xaxis": {
         "anchor": "y",
         "categoryarray": [
          "мне",
          "вас",
          "нас",
          "теб",
          "их",
          "мы",
          "мен",
          "вы",
          "ты",
          "он",
          "я"
         ],
         "categoryorder": "array",
         "domain": [
          0,
          1
         ],
         "title": {
          "text": "Pronoun"
         }
        },
        "yaxis": {
         "anchor": "x",
         "domain": [
          0,
          1
         ],
         "title": {
          "text": "Count"
         }
        }
       }
      }
     },
     "metadata": {}
    }
   ],
   "metadata": {}
  },
  {
   "cell_type": "markdown",
   "source": [
    "**Translated Table of Russian Verbs**\r\n"
   ],
   "metadata": {}
  },
  {
   "cell_type": "markdown",
   "source": [
    "\r\n",
    "| Us             | We           | Me           | You          |\r\n",
    "| :------------- | :----------: | -----------: | -----------: |\r\n",
    "|  Walk          |  Know        |  Seems       |  (You) Can   |\r\n",
    "|  To Be         |  Will        |  Like        |  Know        |\r\n",
    "|  Will          |  Can         |  Was         |  Know (diff) |\r\n",
    "|  Ruin          |  See         |  (repeat?    |  Can (You)   |\r\n",
    "|  Can           |  Will        |  Will        |  Think       |\r\n",
    "\r\n"
   ],
   "metadata": {}
  },
  {
   "cell_type": "code",
   "execution_count": 13,
   "source": [
    "# Function to automate concordance stripping\r\n",
    "# Takes a list of words which are the relevant files the concordance was carried out on.\r\n",
    "def automatic_concordance_stripping(vocab):\r\n",
    "    ls = []\r\n",
    "    for i in vocab:\r\n",
    "        ls_tup = concordance_word_type(i, 'Verbs')[1:]\r\n",
    "        ls.append((Sort_Tuple(ls_tup), i))\r\n",
    "\r\n",
    "    return ls"
   ],
   "outputs": [],
   "metadata": {}
  },
  {
   "cell_type": "code",
   "execution_count": 14,
   "source": [
    "vocab = [\"отрицател\",\r\n",
    "\"врут\",\r\n",
    "\"пишут\",\r\n",
    "\"врет\",\r\n",
    "\"удивл\",\r\n",
    "\"долбоеб\"]\r\n",
    "\r\n",
    "ls_vrb_adj = automatic_concordance_stripping(vocab)"
   ],
   "outputs": [
    {
     "output_type": "error",
     "ename": "FileNotFoundError",
     "evalue": "[Errno 2] No such file or directory: '../txts/Concordance/concordance_отрицател.txt'",
     "traceback": [
      "\u001b[1;31m---------------------------------------------------------------------------\u001b[0m",
      "\u001b[1;31mFileNotFoundError\u001b[0m                         Traceback (most recent call last)",
      "\u001b[1;32m~\\AppData\\Local\\Temp/ipykernel_3928/3645729750.py\u001b[0m in \u001b[0;36m<module>\u001b[1;34m\u001b[0m\n\u001b[0;32m      6\u001b[0m \"долбоеб\"]\n\u001b[0;32m      7\u001b[0m \u001b[1;33m\u001b[0m\u001b[0m\n\u001b[1;32m----> 8\u001b[1;33m \u001b[0mls_vrb_adj\u001b[0m \u001b[1;33m=\u001b[0m \u001b[0mautomatic_concordance_stripping\u001b[0m\u001b[1;33m(\u001b[0m\u001b[0mvocab\u001b[0m\u001b[1;33m)\u001b[0m\u001b[1;33m\u001b[0m\u001b[1;33m\u001b[0m\u001b[0m\n\u001b[0m",
      "\u001b[1;32m~\\AppData\\Local\\Temp/ipykernel_3928/137836668.py\u001b[0m in \u001b[0;36mautomatic_concordance_stripping\u001b[1;34m(vocab)\u001b[0m\n\u001b[0;32m      4\u001b[0m     \u001b[0mls\u001b[0m \u001b[1;33m=\u001b[0m \u001b[1;33m[\u001b[0m\u001b[1;33m]\u001b[0m\u001b[1;33m\u001b[0m\u001b[1;33m\u001b[0m\u001b[0m\n\u001b[0;32m      5\u001b[0m     \u001b[1;32mfor\u001b[0m \u001b[0mi\u001b[0m \u001b[1;32min\u001b[0m \u001b[0mvocab\u001b[0m\u001b[1;33m:\u001b[0m\u001b[1;33m\u001b[0m\u001b[1;33m\u001b[0m\u001b[0m\n\u001b[1;32m----> 6\u001b[1;33m         \u001b[0mls_tup\u001b[0m \u001b[1;33m=\u001b[0m \u001b[0mconcordance_word_type\u001b[0m\u001b[1;33m(\u001b[0m\u001b[0mi\u001b[0m\u001b[1;33m,\u001b[0m \u001b[1;34m'Verbs'\u001b[0m\u001b[1;33m)\u001b[0m\u001b[1;33m[\u001b[0m\u001b[1;36m1\u001b[0m\u001b[1;33m:\u001b[0m\u001b[1;33m]\u001b[0m\u001b[1;33m\u001b[0m\u001b[1;33m\u001b[0m\u001b[0m\n\u001b[0m\u001b[0;32m      7\u001b[0m         \u001b[0mls\u001b[0m\u001b[1;33m.\u001b[0m\u001b[0mappend\u001b[0m\u001b[1;33m(\u001b[0m\u001b[1;33m(\u001b[0m\u001b[0mSort_Tuple\u001b[0m\u001b[1;33m(\u001b[0m\u001b[0mls_tup\u001b[0m\u001b[1;33m)\u001b[0m\u001b[1;33m,\u001b[0m \u001b[0mi\u001b[0m\u001b[1;33m)\u001b[0m\u001b[1;33m)\u001b[0m\u001b[1;33m\u001b[0m\u001b[1;33m\u001b[0m\u001b[0m\n\u001b[0;32m      8\u001b[0m \u001b[1;33m\u001b[0m\u001b[0m\n",
      "\u001b[1;32m~\\AppData\\Local\\Temp/ipykernel_3928/1152415881.py\u001b[0m in \u001b[0;36mconcordance_word_type\u001b[1;34m(query, wordtype)\u001b[0m\n\u001b[0;32m      4\u001b[0m     \u001b[0mstripped_string\u001b[0m \u001b[1;33m=\u001b[0m \u001b[1;34m\"\"\u001b[0m\u001b[1;33m\u001b[0m\u001b[1;33m\u001b[0m\u001b[0m\n\u001b[0;32m      5\u001b[0m \u001b[1;33m\u001b[0m\u001b[0m\n\u001b[1;32m----> 6\u001b[1;33m     \u001b[1;32mwith\u001b[0m \u001b[0mopen\u001b[0m\u001b[1;33m(\u001b[0m\u001b[1;34m'../txts/Concordance/concordance_'\u001b[0m\u001b[1;33m+\u001b[0m \u001b[0mquery\u001b[0m \u001b[1;33m+\u001b[0m \u001b[1;34m'.txt'\u001b[0m\u001b[1;33m,\u001b[0m \u001b[1;34m'r'\u001b[0m\u001b[1;33m,\u001b[0m \u001b[0mencoding\u001b[0m\u001b[1;33m=\u001b[0m\u001b[1;34m'utf8'\u001b[0m\u001b[1;33m)\u001b[0m \u001b[1;32mas\u001b[0m \u001b[0mf\u001b[0m\u001b[1;33m:\u001b[0m\u001b[1;33m\u001b[0m\u001b[1;33m\u001b[0m\u001b[0m\n\u001b[0m\u001b[0;32m      7\u001b[0m         \u001b[1;32mfor\u001b[0m \u001b[0mline\u001b[0m \u001b[1;32min\u001b[0m \u001b[0mf\u001b[0m\u001b[1;33m.\u001b[0m\u001b[0mreadlines\u001b[0m\u001b[1;33m(\u001b[0m\u001b[1;33m)\u001b[0m\u001b[1;33m:\u001b[0m\u001b[1;33m\u001b[0m\u001b[1;33m\u001b[0m\u001b[0m\n\u001b[0;32m      8\u001b[0m             \u001b[0mstripped_string\u001b[0m \u001b[1;33m+=\u001b[0m \u001b[1;34m\" \"\u001b[0m \u001b[1;33m+\u001b[0m \u001b[0mline\u001b[0m\u001b[1;33m\u001b[0m\u001b[1;33m\u001b[0m\u001b[0m\n",
      "\u001b[1;31mFileNotFoundError\u001b[0m: [Errno 2] No such file or directory: '../txts/Concordance/concordance_отрицател.txt'"
     ]
    }
   ],
   "metadata": {}
  },
  {
   "cell_type": "code",
   "execution_count": null,
   "source": [
    "ls_of_vars = []\r\n",
    "\r\n",
    "\r\n",
    "for i in ls_vrb_adj:\r\n",
    "    ls_of_vars.append(i)\r\n",
    "    \r\n",
    "bar_stacked(ls_of_vars, 10, \"10 Most Common Words (all types) Alongside The Most Frequent Verbs From Concorded Pronouns.\")"
   ],
   "outputs": [],
   "metadata": {}
  },
  {
   "cell_type": "markdown",
   "source": [
    "Outdated"
   ],
   "metadata": {}
  },
  {
   "cell_type": "code",
   "execution_count": null,
   "source": [
    "import plotly.express as px\r\n",
    "import plotly.graph_objects as go\r\n",
    "from plotly.subplots import make_subplots\r\n",
    "import math\r\n",
    "\r\n",
    "# Constructors\r\n",
    "verbs = []\r\n",
    "verbCounter=[]\r\n",
    "verbCounterPercentage = []\r\n",
    "pronouns=[\"me\",\"you\", \"us\"]\r\n",
    "\r\n",
    "# Simple function to find a percentage.\r\n",
    "def findPercentage(num, total):\r\n",
    "    quotient = num / total\r\n",
    "    return quotient*100\r\n",
    "\r\n",
    "# returns total number of verbs associated with a pronoun.\r\n",
    "def findTotalFreq(verbListTuple):\r\n",
    "    total=[]\r\n",
    "    for i,j in verbListTuple:\r\n",
    "        total.append(j)\r\n",
    "    return sum(total)\r\n",
    "\r\n",
    "# Function to find the rounded down percent of a single verb in\r\n",
    "# comparison to all other verbs associated with the pronoun,\r\n",
    "def findPerecentTotalFreq(verbListTuple):\r\n",
    "    total = findTotalFreq(verbListTuple)\r\n",
    "    temp = []\r\n",
    "    for i,j in verbListTuple:\r\n",
    "        temp.append(math.floor(findPercentage(j, total)))\r\n",
    "        #print(i, math.floor(findPercentage(j, total)))\r\n",
    "\r\n",
    "    verbCounterPercentage.append(temp)\r\n",
    "\r\n",
    "# Function to split a list of tuples into two seperate ordered lists.\r\n",
    "# Here we add the verb to \"verbs\" and the frequency of the verb to \"verbCounter\"\r\n",
    "def splitTuple(verbListTuples):\r\n",
    "    temp = []\r\n",
    "    tempCount = []\r\n",
    "    for i, j in enumerate(verbListTuples):\r\n",
    "        temp.append(j[0])\r\n",
    "        tempCount.append(j[1])\r\n",
    "        if i == 19:\r\n",
    "            verbCounter.append(tempCount)\r\n",
    "            verbs.append(temp)\r\n",
    "            temp=[]\r\n",
    "            tempCount=[]\r\n",
    "            break\r\n",
    "\r\n",
    "# Uses the ST function to seperate the verb and frequency count and add them to seperate lists.\r\n",
    "splitTuple(verbs_Me)\r\n",
    "splitTuple(verbs_You)\r\n",
    "splitTuple(verbs_Us)\r\n",
    "\r\n",
    "# Using the FPTF function to add each perecnt frequency to an ordered list.\r\n",
    "findPerecentTotalFreq(verbs_Me)\r\n",
    "findPerecentTotalFreq(verbs_You)\r\n",
    "findPerecentTotalFreq(verbs_Us)"
   ],
   "outputs": [],
   "metadata": {}
  }
 ],
 "metadata": {
  "kernelspec": {
   "name": "python3",
   "display_name": "Python 3.8.11 64-bit ('base': conda)"
  },
  "language_info": {
   "name": "python",
   "version": "3.8.11",
   "mimetype": "text/x-python",
   "codemirror_mode": {
    "name": "ipython",
    "version": 3
   },
   "pygments_lexer": "ipython3",
   "nbconvert_exporter": "python",
   "file_extension": ".py"
  },
  "interpreter": {
   "hash": "6c91f7360f31a60595970ce0519c225953292631b532536816811087a825ec9b"
  }
 },
 "nbformat": 4,
 "nbformat_minor": 5
}