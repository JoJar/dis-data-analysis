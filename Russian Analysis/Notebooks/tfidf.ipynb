{
 "cells": [
  {
   "cell_type": "code",
   "execution_count": 2,
   "source": [
    "import nltk, os, glob\r\n",
    "nltk.download('averaged_perceptron_tagger_ru')"
   ],
   "outputs": [
    {
     "output_type": "stream",
     "name": "stderr",
     "text": [
      "[nltk_data] Downloading package averaged_perceptron_tagger_ru to\n",
      "[nltk_data]     C:\\Users\\c1635922\\AppData\\Roaming\\nltk_data...\n",
      "[nltk_data]   Package averaged_perceptron_tagger_ru is already up-to-\n",
      "[nltk_data]       date!\n"
     ]
    },
    {
     "output_type": "execute_result",
     "data": {
      "text/plain": [
       "True"
      ]
     },
     "metadata": {},
     "execution_count": 2
    }
   ],
   "metadata": {}
  },
  {
   "cell_type": "code",
   "execution_count": 3,
   "source": [
    "def posTag(string):\r\n",
    "\r\n",
    "    # POS tag words.\r\n",
    "    token = nltk.pos_tag(nltk.word_tokenize(string), lang='rus')\r\n",
    "    return token"
   ],
   "outputs": [],
   "metadata": {}
  },
  {
   "cell_type": "code",
   "execution_count": 4,
   "source": [
    "from nltk.stem import SnowballStemmer\r\n",
    "\r\n",
    "# Sets stemmer to Russian\r\n",
    "stemmer = SnowballStemmer(\"russian\")\r\n",
    "\r\n",
    "def tokenize(text):\r\n",
    "    tokens = nltk.word_tokenize(text)\r\n",
    "    stems = []\r\n",
    "    for item in tokens:\r\n",
    "        # Uses SnowBall stemmer as it is compatible with Russian.\r\n",
    "        # This strips prefixes/suffixes to give a base word.\r\n",
    "        stems.append(stemmer.stem(item))\r\n",
    "    return stems"
   ],
   "outputs": [],
   "metadata": {}
  },
  {
   "cell_type": "code",
   "execution_count": 5,
   "source": [
    "# Takes files and their content and adds them to a dictionary.\r\n",
    "# K= file directory V= file content\r\n",
    "def files_to_corpus():\r\n",
    "    corpus = {}\r\n",
    "\r\n",
    "    # Specifies directory\r\n",
    "    txt_dir = '../txts'\r\n",
    "\r\n",
    "    # Finds all text files in the directory\r\n",
    "    txt_path = os.path.join(txt_dir, '*.txt')\r\n",
    "\r\n",
    "    # Uses Glob with the txt_path variable to place all the txt file directories in a list\r\n",
    "    file_list = glob.glob(txt_path)\r\n",
    "\r\n",
    "    # Opens each file in file list, reads the file and adds the text to a dictionary.\r\n",
    "    # The key is the file and the value is the text.\r\n",
    "    for f in file_list:\r\n",
    "        with open(f, 'r', encoding=\"utf-8\") as fs:\r\n",
    "                text = fs.read()\r\n",
    "                corpus[f] = text\r\n",
    "    return corpus"
   ],
   "outputs": [],
   "metadata": {}
  },
  {
   "cell_type": "code",
   "execution_count": 6,
   "source": [
    "from sklearn.feature_extraction.text import TfidfVectorizer\r\n",
    "from nltk.stem import SnowballStemmer\r\n",
    "\r\n",
    "import pandas as pd\r\n",
    "import plotly.graph_objects as go\r\n",
    "\r\n",
    "# Links used for understanding tfidf\r\n",
    "# https://towardsdatascience.com/higher-accuracy-and-less-process-time-in-text-classification-with-lda-and-tf-idf-d2d949e344c3\r\n",
    "# https://www.bogotobogo.com/python/NLTK/tf_idf_with_scikit-learn_NLTK.php\r\n",
    "# https://www.datacamp.com/community/tutorials/stemming-lemmatization-python\r\n",
    "\r\n",
    "corpus = files_to_corpus()\r\n",
    "\r\n",
    "# TfidfVect object with variables specified.\r\n",
    "tfidf = TfidfVectorizer(tokenizer=tokenize, analyzer='word',\r\n",
    "                        sublinear_tf=True, smooth_idf=True, use_idf=True)\r\n",
    "\r\n",
    "# Forms a tfidf Matrix using the text from the files.\r\n",
    "tfidf_matrix = tfidf.fit_transform(corpus.values())\r\n",
    "feature_names = tfidf.get_feature_names()\r\n",
    "\r\n",
    "#  \r\n",
    "for i in range(len(corpus)):\r\n",
    "    feature_index = tfidf_matrix[i,:].nonzero()[1]\r\n",
    "    tfidf_scores = zip(feature_index, [tfidf_matrix[i, x] for x in feature_index])\r\n",
    "\r\n",
    "# sum tfidf frequency of each term through documents\r\n",
    "sums = tfidf_matrix.sum(axis=0)\r\n",
    "\r\n",
    "# connecting term to its sum frequency\r\n",
    "data = []\r\n",
    "for col, term in enumerate(feature_names):\r\n",
    "    if col > 1000 and len(term) > 3:\r\n",
    "        data.append( (str(posTag(term)), sums[0,col] ))"
   ],
   "outputs": [],
   "metadata": {}
  },
  {
   "cell_type": "code",
   "execution_count": 7,
   "source": [
    "df = pd.DataFrame(data, columns=['term','rank'])\r\n",
    "ordering = df.sort_values('rank', ascending=True)\r\n",
    "\r\n",
    "plt_data = [go.Bar(\r\n",
    "            x= list(ordering['rank'].head(10)),\r\n",
    "            y= list(ordering['term'].head(10)),\r\n",
    "            orientation='h',\r\n",
    "            marker=dict(\r\n",
    "                color='rgba(50, 171, 96, 0.6)',\r\n",
    "                line=dict(\r\n",
    "                    color='rgba(50, 171, 96, 1.0)',\r\n",
    "                    width=1),),)]\r\n",
    "\r\n",
    "plt_layout = ({\"title\": \"TFIDF - Russian Tweets 03/2020-06/2020\",\r\n",
    "                       \"yaxis\": {\"title\":\"Terms\"},\r\n",
    "                       \"xaxis\": {\"title\":\"IDF\"},\r\n",
    "                       \"showlegend\": False})\r\n",
    "\r\n",
    "fig = go.Figure(data=plt_data, layout=plt_layout)\r\n",
    "\r\n",
    "fig.show()"
   ],
   "outputs": [
    {
     "output_type": "display_data",
     "data": {
      "application/vnd.plotly.v1+json": {
       "config": {
        "plotlyServerURL": "https://plot.ly"
       },
       "data": [
        {
         "marker": {
          "color": "rgba(50, 171, 96, 0.6)",
          "line": {
           "color": "rgba(50, 171, 96, 1.0)",
           "width": 1
          }
         },
         "orientation": "h",
         "type": "bar",
         "x": [
          0.018051859035430946,
          0.018051859035430946,
          0.018051859035430946,
          0.018051859035430946,
          0.018051859035430946,
          0.018051859035430946,
          0.018051859035430946,
          0.018051859035430946,
          0.018051859035430946,
          0.018051859035430946
         ],
         "y": [
          "[('коток', 'S')]",
          "[('альош', 'S')]",
          "[('докаща', 'V')]",
          "[('джихадистск', 'V')]",
          "[('решал', 'V')]",
          "[('втор-трет', 'ADV')]",
          "[('решенопоправк', 'V')]",
          "[('правильно-т', 'ADV')]",
          "[('всякихшмакодявок', 'ADV')]",
          "[('всюж', 'V')]"
         ]
        }
       ],
       "layout": {
        "showlegend": false,
        "template": {
         "data": {
          "bar": [
           {
            "error_x": {
             "color": "#2a3f5f"
            },
            "error_y": {
             "color": "#2a3f5f"
            },
            "marker": {
             "line": {
              "color": "#E5ECF6",
              "width": 0.5
             },
             "pattern": {
              "fillmode": "overlay",
              "size": 10,
              "solidity": 0.2
             }
            },
            "type": "bar"
           }
          ],
          "barpolar": [
           {
            "marker": {
             "line": {
              "color": "#E5ECF6",
              "width": 0.5
             },
             "pattern": {
              "fillmode": "overlay",
              "size": 10,
              "solidity": 0.2
             }
            },
            "type": "barpolar"
           }
          ],
          "carpet": [
           {
            "aaxis": {
             "endlinecolor": "#2a3f5f",
             "gridcolor": "white",
             "linecolor": "white",
             "minorgridcolor": "white",
             "startlinecolor": "#2a3f5f"
            },
            "baxis": {
             "endlinecolor": "#2a3f5f",
             "gridcolor": "white",
             "linecolor": "white",
             "minorgridcolor": "white",
             "startlinecolor": "#2a3f5f"
            },
            "type": "carpet"
           }
          ],
          "choropleth": [
           {
            "colorbar": {
             "outlinewidth": 0,
             "ticks": ""
            },
            "type": "choropleth"
           }
          ],
          "contour": [
           {
            "colorbar": {
             "outlinewidth": 0,
             "ticks": ""
            },
            "colorscale": [
             [
              0,
              "#0d0887"
             ],
             [
              0.1111111111111111,
              "#46039f"
             ],
             [
              0.2222222222222222,
              "#7201a8"
             ],
             [
              0.3333333333333333,
              "#9c179e"
             ],
             [
              0.4444444444444444,
              "#bd3786"
             ],
             [
              0.5555555555555556,
              "#d8576b"
             ],
             [
              0.6666666666666666,
              "#ed7953"
             ],
             [
              0.7777777777777778,
              "#fb9f3a"
             ],
             [
              0.8888888888888888,
              "#fdca26"
             ],
             [
              1,
              "#f0f921"
             ]
            ],
            "type": "contour"
           }
          ],
          "contourcarpet": [
           {
            "colorbar": {
             "outlinewidth": 0,
             "ticks": ""
            },
            "type": "contourcarpet"
           }
          ],
          "heatmap": [
           {
            "colorbar": {
             "outlinewidth": 0,
             "ticks": ""
            },
            "colorscale": [
             [
              0,
              "#0d0887"
             ],
             [
              0.1111111111111111,
              "#46039f"
             ],
             [
              0.2222222222222222,
              "#7201a8"
             ],
             [
              0.3333333333333333,
              "#9c179e"
             ],
             [
              0.4444444444444444,
              "#bd3786"
             ],
             [
              0.5555555555555556,
              "#d8576b"
             ],
             [
              0.6666666666666666,
              "#ed7953"
             ],
             [
              0.7777777777777778,
              "#fb9f3a"
             ],
             [
              0.8888888888888888,
              "#fdca26"
             ],
             [
              1,
              "#f0f921"
             ]
            ],
            "type": "heatmap"
           }
          ],
          "heatmapgl": [
           {
            "colorbar": {
             "outlinewidth": 0,
             "ticks": ""
            },
            "colorscale": [
             [
              0,
              "#0d0887"
             ],
             [
              0.1111111111111111,
              "#46039f"
             ],
             [
              0.2222222222222222,
              "#7201a8"
             ],
             [
              0.3333333333333333,
              "#9c179e"
             ],
             [
              0.4444444444444444,
              "#bd3786"
             ],
             [
              0.5555555555555556,
              "#d8576b"
             ],
             [
              0.6666666666666666,
              "#ed7953"
             ],
             [
              0.7777777777777778,
              "#fb9f3a"
             ],
             [
              0.8888888888888888,
              "#fdca26"
             ],
             [
              1,
              "#f0f921"
             ]
            ],
            "type": "heatmapgl"
           }
          ],
          "histogram": [
           {
            "marker": {
             "pattern": {
              "fillmode": "overlay",
              "size": 10,
              "solidity": 0.2
             }
            },
            "type": "histogram"
           }
          ],
          "histogram2d": [
           {
            "colorbar": {
             "outlinewidth": 0,
             "ticks": ""
            },
            "colorscale": [
             [
              0,
              "#0d0887"
             ],
             [
              0.1111111111111111,
              "#46039f"
             ],
             [
              0.2222222222222222,
              "#7201a8"
             ],
             [
              0.3333333333333333,
              "#9c179e"
             ],
             [
              0.4444444444444444,
              "#bd3786"
             ],
             [
              0.5555555555555556,
              "#d8576b"
             ],
             [
              0.6666666666666666,
              "#ed7953"
             ],
             [
              0.7777777777777778,
              "#fb9f3a"
             ],
             [
              0.8888888888888888,
              "#fdca26"
             ],
             [
              1,
              "#f0f921"
             ]
            ],
            "type": "histogram2d"
           }
          ],
          "histogram2dcontour": [
           {
            "colorbar": {
             "outlinewidth": 0,
             "ticks": ""
            },
            "colorscale": [
             [
              0,
              "#0d0887"
             ],
             [
              0.1111111111111111,
              "#46039f"
             ],
             [
              0.2222222222222222,
              "#7201a8"
             ],
             [
              0.3333333333333333,
              "#9c179e"
             ],
             [
              0.4444444444444444,
              "#bd3786"
             ],
             [
              0.5555555555555556,
              "#d8576b"
             ],
             [
              0.6666666666666666,
              "#ed7953"
             ],
             [
              0.7777777777777778,
              "#fb9f3a"
             ],
             [
              0.8888888888888888,
              "#fdca26"
             ],
             [
              1,
              "#f0f921"
             ]
            ],
            "type": "histogram2dcontour"
           }
          ],
          "mesh3d": [
           {
            "colorbar": {
             "outlinewidth": 0,
             "ticks": ""
            },
            "type": "mesh3d"
           }
          ],
          "parcoords": [
           {
            "line": {
             "colorbar": {
              "outlinewidth": 0,
              "ticks": ""
             }
            },
            "type": "parcoords"
           }
          ],
          "pie": [
           {
            "automargin": true,
            "type": "pie"
           }
          ],
          "scatter": [
           {
            "marker": {
             "colorbar": {
              "outlinewidth": 0,
              "ticks": ""
             }
            },
            "type": "scatter"
           }
          ],
          "scatter3d": [
           {
            "line": {
             "colorbar": {
              "outlinewidth": 0,
              "ticks": ""
             }
            },
            "marker": {
             "colorbar": {
              "outlinewidth": 0,
              "ticks": ""
             }
            },
            "type": "scatter3d"
           }
          ],
          "scattercarpet": [
           {
            "marker": {
             "colorbar": {
              "outlinewidth": 0,
              "ticks": ""
             }
            },
            "type": "scattercarpet"
           }
          ],
          "scattergeo": [
           {
            "marker": {
             "colorbar": {
              "outlinewidth": 0,
              "ticks": ""
             }
            },
            "type": "scattergeo"
           }
          ],
          "scattergl": [
           {
            "marker": {
             "colorbar": {
              "outlinewidth": 0,
              "ticks": ""
             }
            },
            "type": "scattergl"
           }
          ],
          "scattermapbox": [
           {
            "marker": {
             "colorbar": {
              "outlinewidth": 0,
              "ticks": ""
             }
            },
            "type": "scattermapbox"
           }
          ],
          "scatterpolar": [
           {
            "marker": {
             "colorbar": {
              "outlinewidth": 0,
              "ticks": ""
             }
            },
            "type": "scatterpolar"
           }
          ],
          "scatterpolargl": [
           {
            "marker": {
             "colorbar": {
              "outlinewidth": 0,
              "ticks": ""
             }
            },
            "type": "scatterpolargl"
           }
          ],
          "scatterternary": [
           {
            "marker": {
             "colorbar": {
              "outlinewidth": 0,
              "ticks": ""
             }
            },
            "type": "scatterternary"
           }
          ],
          "surface": [
           {
            "colorbar": {
             "outlinewidth": 0,
             "ticks": ""
            },
            "colorscale": [
             [
              0,
              "#0d0887"
             ],
             [
              0.1111111111111111,
              "#46039f"
             ],
             [
              0.2222222222222222,
              "#7201a8"
             ],
             [
              0.3333333333333333,
              "#9c179e"
             ],
             [
              0.4444444444444444,
              "#bd3786"
             ],
             [
              0.5555555555555556,
              "#d8576b"
             ],
             [
              0.6666666666666666,
              "#ed7953"
             ],
             [
              0.7777777777777778,
              "#fb9f3a"
             ],
             [
              0.8888888888888888,
              "#fdca26"
             ],
             [
              1,
              "#f0f921"
             ]
            ],
            "type": "surface"
           }
          ],
          "table": [
           {
            "cells": {
             "fill": {
              "color": "#EBF0F8"
             },
             "line": {
              "color": "white"
             }
            },
            "header": {
             "fill": {
              "color": "#C8D4E3"
             },
             "line": {
              "color": "white"
             }
            },
            "type": "table"
           }
          ]
         },
         "layout": {
          "annotationdefaults": {
           "arrowcolor": "#2a3f5f",
           "arrowhead": 0,
           "arrowwidth": 1
          },
          "autotypenumbers": "strict",
          "coloraxis": {
           "colorbar": {
            "outlinewidth": 0,
            "ticks": ""
           }
          },
          "colorscale": {
           "diverging": [
            [
             0,
             "#8e0152"
            ],
            [
             0.1,
             "#c51b7d"
            ],
            [
             0.2,
             "#de77ae"
            ],
            [
             0.3,
             "#f1b6da"
            ],
            [
             0.4,
             "#fde0ef"
            ],
            [
             0.5,
             "#f7f7f7"
            ],
            [
             0.6,
             "#e6f5d0"
            ],
            [
             0.7,
             "#b8e186"
            ],
            [
             0.8,
             "#7fbc41"
            ],
            [
             0.9,
             "#4d9221"
            ],
            [
             1,
             "#276419"
            ]
           ],
           "sequential": [
            [
             0,
             "#0d0887"
            ],
            [
             0.1111111111111111,
             "#46039f"
            ],
            [
             0.2222222222222222,
             "#7201a8"
            ],
            [
             0.3333333333333333,
             "#9c179e"
            ],
            [
             0.4444444444444444,
             "#bd3786"
            ],
            [
             0.5555555555555556,
             "#d8576b"
            ],
            [
             0.6666666666666666,
             "#ed7953"
            ],
            [
             0.7777777777777778,
             "#fb9f3a"
            ],
            [
             0.8888888888888888,
             "#fdca26"
            ],
            [
             1,
             "#f0f921"
            ]
           ],
           "sequentialminus": [
            [
             0,
             "#0d0887"
            ],
            [
             0.1111111111111111,
             "#46039f"
            ],
            [
             0.2222222222222222,
             "#7201a8"
            ],
            [
             0.3333333333333333,
             "#9c179e"
            ],
            [
             0.4444444444444444,
             "#bd3786"
            ],
            [
             0.5555555555555556,
             "#d8576b"
            ],
            [
             0.6666666666666666,
             "#ed7953"
            ],
            [
             0.7777777777777778,
             "#fb9f3a"
            ],
            [
             0.8888888888888888,
             "#fdca26"
            ],
            [
             1,
             "#f0f921"
            ]
           ]
          },
          "colorway": [
           "#636efa",
           "#EF553B",
           "#00cc96",
           "#ab63fa",
           "#FFA15A",
           "#19d3f3",
           "#FF6692",
           "#B6E880",
           "#FF97FF",
           "#FECB52"
          ],
          "font": {
           "color": "#2a3f5f"
          },
          "geo": {
           "bgcolor": "white",
           "lakecolor": "white",
           "landcolor": "#E5ECF6",
           "showlakes": true,
           "showland": true,
           "subunitcolor": "white"
          },
          "hoverlabel": {
           "align": "left"
          },
          "hovermode": "closest",
          "mapbox": {
           "style": "light"
          },
          "paper_bgcolor": "white",
          "plot_bgcolor": "#E5ECF6",
          "polar": {
           "angularaxis": {
            "gridcolor": "white",
            "linecolor": "white",
            "ticks": ""
           },
           "bgcolor": "#E5ECF6",
           "radialaxis": {
            "gridcolor": "white",
            "linecolor": "white",
            "ticks": ""
           }
          },
          "scene": {
           "xaxis": {
            "backgroundcolor": "#E5ECF6",
            "gridcolor": "white",
            "gridwidth": 2,
            "linecolor": "white",
            "showbackground": true,
            "ticks": "",
            "zerolinecolor": "white"
           },
           "yaxis": {
            "backgroundcolor": "#E5ECF6",
            "gridcolor": "white",
            "gridwidth": 2,
            "linecolor": "white",
            "showbackground": true,
            "ticks": "",
            "zerolinecolor": "white"
           },
           "zaxis": {
            "backgroundcolor": "#E5ECF6",
            "gridcolor": "white",
            "gridwidth": 2,
            "linecolor": "white",
            "showbackground": true,
            "ticks": "",
            "zerolinecolor": "white"
           }
          },
          "shapedefaults": {
           "line": {
            "color": "#2a3f5f"
           }
          },
          "ternary": {
           "aaxis": {
            "gridcolor": "white",
            "linecolor": "white",
            "ticks": ""
           },
           "baxis": {
            "gridcolor": "white",
            "linecolor": "white",
            "ticks": ""
           },
           "bgcolor": "#E5ECF6",
           "caxis": {
            "gridcolor": "white",
            "linecolor": "white",
            "ticks": ""
           }
          },
          "title": {
           "x": 0.05
          },
          "xaxis": {
           "automargin": true,
           "gridcolor": "white",
           "linecolor": "white",
           "ticks": "",
           "title": {
            "standoff": 15
           },
           "zerolinecolor": "white",
           "zerolinewidth": 2
          },
          "yaxis": {
           "automargin": true,
           "gridcolor": "white",
           "linecolor": "white",
           "ticks": "",
           "title": {
            "standoff": 15
           },
           "zerolinecolor": "white",
           "zerolinewidth": 2
          }
         }
        },
        "title": {
         "text": "TFIDF - Russian Tweets 03/2020-06/2020"
        },
        "xaxis": {
         "title": {
          "text": "IDF"
         }
        },
        "yaxis": {
         "title": {
          "text": "Terms"
         }
        }
       }
      }
     },
     "metadata": {}
    }
   ],
   "metadata": {}
  },
  {
   "cell_type": "code",
   "execution_count": 8,
   "source": [
    "# Saves to CSV\r\n",
    "compression_opts = dict(method='zip',\r\n",
    "                        archive_name='out.csv')  \r\n",
    "\r\n",
    "ordering.to_csv('out.zip', index=False,\r\n",
    "          compression=compression_opts)"
   ],
   "outputs": [],
   "metadata": {}
  },
  {
   "cell_type": "markdown",
   "source": [
    "Read SCHEMA of json file"
   ],
   "metadata": {}
  },
  {
   "cell_type": "code",
   "execution_count": 9,
   "source": [
    "import pandas as pd\r\n",
    "\r\n",
    "# Open json, print json schema\r\n",
    "df_idf = pd.read_json(\"../russianDataSets/ru/2020-03-01.json\",lines=True)\r\n",
    "\r\n",
    "# print schema\r\n",
    "print(\"Schema:\\n\\n\",df_idf.dtypes)\r\n",
    "print(\"Number of questions,columns=\",df_idf.shape)"
   ],
   "outputs": [
    {
     "output_type": "stream",
     "name": "stdout",
     "text": [
      "Schema:\n",
      "\n",
      " quote_count                                int64\n",
      "contributors                             float64\n",
      "truncated                                   bool\n",
      "text                                      object\n",
      "is_quote_status                             bool\n",
      "in_reply_to_status_id                    float64\n",
      "reply_count                                int64\n",
      "id                                         int64\n",
      "favorite_count                             int64\n",
      "created_at_src                            object\n",
      "collected_by                              object\n",
      "retweeted                                   bool\n",
      "investigationId                            int64\n",
      "coordinates                               object\n",
      "timestamp_ms                      datetime64[ns]\n",
      "entities                                  object\n",
      "in_reply_to_screen_name                   object\n",
      "id_str                                     int64\n",
      "text_translation                          object\n",
      "retweet_count                              int64\n",
      "stored_at                    datetime64[ns, UTC]\n",
      "in_reply_to_user_id                      float64\n",
      "favorited                                   bool\n",
      "retweeted_status                          object\n",
      "text_cleaned                              object\n",
      "user                                      object\n",
      "geo                                       object\n",
      "in_reply_to_user_id_str                  float64\n",
      "lang                                      object\n",
      "created_at                   datetime64[ns, UTC]\n",
      "filter_level                              object\n",
      "in_reply_to_status_id_str                float64\n",
      "place                                     object\n",
      "source                                    object\n",
      "_id                                       object\n",
      "display_text_range                        object\n",
      "extended_tweet                            object\n",
      "possibly_sensitive                       float64\n",
      "extended_entities                         object\n",
      "quoted_status_permalink                   object\n",
      "quoted_status_id                         float64\n",
      "quoted_status                             object\n",
      "quoted_status_id_str                     float64\n",
      "dtype: object\n",
      "Number of questions,columns= (1077, 43)\n"
     ]
    }
   ],
   "metadata": {}
  },
  {
   "cell_type": "code",
   "execution_count": 10,
   "source": [
    "import re\r\n",
    "def pre_process(text):\r\n",
    "    \r\n",
    "    # lowercase\r\n",
    "    text=text.lower()\r\n",
    "    if text[2] == \"rt\":\r\n",
    "        text=\"\"\r\n",
    "    #remove tags\r\n",
    "    text=re.sub(\"\",\"\",text)\r\n",
    "    \r\n",
    "    # remove special characters and digits\r\n",
    "    text=re.sub(\"(\\\\d|\\\\W)+\",\" \",text)\r\n",
    "    \r\n",
    "    return text\r\n",
    "\r\n",
    "df_idf['text'] = df_idf['text'].apply(lambda x:pre_process(x))"
   ],
   "outputs": [],
   "metadata": {}
  },
  {
   "cell_type": "code",
   "execution_count": 11,
   "source": [
    "from sklearn.feature_extraction.text import CountVectorizer\r\n",
    "import re\r\n",
    "\r\n",
    "def get_stop_words(stop_file_path):\r\n",
    "    \"\"\"load stop words \"\"\"\r\n",
    "    \r\n",
    "    with open(stop_file_path, 'r', encoding=\"utf-8\") as f:\r\n",
    "        stopwords = f.readlines()\r\n",
    "        stop_set = set(m.strip() for m in stopwords)\r\n",
    "        return frozenset(stop_set)\r\n",
    "\r\n",
    "#load a set of stop words\r\n",
    "stopwords=get_stop_words(\"../txts/2020-03-01.txt\")\r\n",
    "\r\n",
    "#get the text column \r\n",
    "docs=df_idf['text'].tolist()\r\n",
    "\r\n",
    "#create a vocabulary of words, \r\n",
    "#ignore words that appear in 85% of documents, \r\n",
    "#eliminate stop words\r\n",
    "cv=CountVectorizer(max_df=0.85,stop_words=stopwords,max_features=10000)\r\n",
    "word_count_vector=cv.fit_transform(docs)\r\n",
    "list(cv.vocabulary_.keys())[:10]"
   ],
   "outputs": [
    {
     "output_type": "stream",
     "name": "stderr",
     "text": [
      "C:\\Users\\c1635922\\AppData\\Roaming\\Python\\Python38\\site-packages\\sklearn\\feature_extraction\\text.py:388: UserWarning:\n",
      "\n",
      "Your stop_words may be inconsistent with your preprocessing. Tokenizing the stop words generated tokens ['12', '13', '1400', '1595', '1600', '2008', '22', '2выздоровевшие', 'авто', 'астроном', 'блокчейн', 'вице', 'военно', 'военной', 'вторых', 'гей', 'демократа', 'док', 'доказательство', 'другому', 'душит', 'дь', 'европейска', 'женщину', 'журналистике', 'заболевшие', 'заек', 'захватчк', 'избавление', 'израиль', 'квартиры', 'коллега', 'коммунизм', 'крови', 'летняя', 'лужаек', 'марино', 'морских', 'морской', 'наркомана', 'недоразумение', 'нибудь', 'нон', 'ов', 'онлайн', 'оружии', 'отдохни', 'пекински', 'первых', 'пид', 'погибшие', 'подруга', 'порно', 'прежнему', 'премьер', 'прерогатива', 'пресс', 'причинно', 'пропаганда', 'рмот', 'салоном', 'сан', 'сканворды', 'следственных', 'службы', 'спаса', 'стопом', 'су', 'тату', 'тихо', 'толку', 'укро', 'чудо', 'чью', 'штаб', 'штирлицно', 'эксперта'] not in stop_words.\n",
      "\n"
     ]
    },
    {
     "output_type": "execute_result",
     "data": {
      "text/plain": [
       "['rt',\n",
       " 'shining_stri',\n",
       " 'coldabbess',\n",
       " 'тёмная',\n",
       " 'даёт',\n",
       " 'плю',\n",
       " 'https',\n",
       " 'co',\n",
       " 'oubahqve',\n",
       " 'vovablya']"
      ]
     },
     "metadata": {},
     "execution_count": 11
    }
   ],
   "metadata": {}
  },
  {
   "cell_type": "code",
   "execution_count": 12,
   "source": [
    "from sklearn.feature_extraction.text import TfidfTransformer\r\n",
    "\r\n",
    "tfidf_transformer=TfidfTransformer(smooth_idf=True,use_idf=True)\r\n",
    "tfidf_transformer.fit(word_count_vector)"
   ],
   "outputs": [
    {
     "output_type": "execute_result",
     "data": {
      "text/plain": [
       "TfidfTransformer()"
      ]
     },
     "metadata": {},
     "execution_count": 12
    }
   ],
   "metadata": {}
  },
  {
   "cell_type": "code",
   "execution_count": 13,
   "source": [
    "# read test docs into a dataframe and concatenate title and body\r\n",
    "df_test=pd.read_json(\"../russianDataSets/ru/2020-03-02.json\",lines=True)\r\n",
    "df_test['text'] =df_test['text'].apply(lambda x:pre_process(x))\r\n",
    "\r\n",
    "# get test docs into a list\r\n",
    "docs_test=df_test['text'].tolist()"
   ],
   "outputs": [],
   "metadata": {}
  },
  {
   "cell_type": "code",
   "execution_count": null,
   "source": [],
   "outputs": [],
   "metadata": {}
  }
 ],
 "metadata": {
  "orig_nbformat": 4,
  "language_info": {
   "name": "python",
   "version": "3.8.11",
   "mimetype": "text/x-python",
   "codemirror_mode": {
    "name": "ipython",
    "version": 3
   },
   "pygments_lexer": "ipython3",
   "nbconvert_exporter": "python",
   "file_extension": ".py"
  },
  "kernelspec": {
   "name": "python3",
   "display_name": "Python 3.8.11 64-bit"
  },
  "interpreter": {
   "hash": "6c91f7360f31a60595970ce0519c225953292631b532536816811087a825ec9b"
  }
 },
 "nbformat": 4,
 "nbformat_minor": 2
}