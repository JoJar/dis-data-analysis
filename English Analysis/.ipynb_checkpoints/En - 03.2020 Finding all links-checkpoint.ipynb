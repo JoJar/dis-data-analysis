{
 "cells": [
  {
   "cell_type": "code",
   "execution_count": 14,
   "metadata": {},
   "outputs": [
    {
     "name": "stdout",
     "output_type": "stream",
     "text": [
      "https://t.co/XsDyMp3AKr\n"
     ]
    }
   ],
   "source": [
    "import json, os, glob\n",
    "from tqdm import tqdm_notebook as tqdm\n",
    "import pandas as pd\n",
    "from collections import Counter\n",
    "from pathlib import Path\n",
    "\n",
    "rows = []\n",
    "links = []\n",
    "#num = Path('2020-03-19.json').stat().st_size\n",
    "count=0\n",
    "\n",
    "json_dir = 'en'\n",
    "# Uses the json_dir variable to navigate to the dataset directory and 'get' all json files\n",
    "json_pattern = os.path.join(json_dir, '*.json')\n",
    "\n",
    "# Uses Glob with the json pattern variable to place all the json files and their directories in a list\n",
    "file_list = glob.glob(json_pattern)\n",
    "\n",
    "# Opens the JSON file\n",
    "for file in file_list:\n",
    "    with open(file, 'r') as f:\n",
    "        for line in f:\n",
    "            if count > 10000:\n",
    "                break\n",
    "            count = 0\n",
    "            data = json.loads(line)\n",
    "\n",
    "            for i in data[\"entities\"][\"hashtags\"]:\n",
    "                if i[\"text\"].lower() == \"putin\":\n",
    "                    #with open('russia_tweet.json', 'w') as nf:\n",
    "                        #json.dump(data, nf, indent=2)\n",
    "                    count+=1\n",
    "\n",
    "            if count == 1:\n",
    "                #username\n",
    "                user_id = data[\"user\"][\"screen_name\"]\n",
    "                #location\n",
    "                user_location = data[\"user\"][\"location\"]\n",
    "                #Tweet ID\n",
    "                tweet_id = data[\"id_str\"]\n",
    "                #Hashtags\n",
    "                hashtags = data[\"entities\"][\"hashtags\"]\n",
    "                #tweet text\n",
    "                \n",
    "                if \"expanded_url\" in data\n",
    "                    url = data[\"expanded_url]\n",
    "                \n",
    "                if \"extended_tweet\" in data:\n",
    "                    text = data[\"extended_tweet\"][\"full_text\"]\n",
    "                else:\n",
    "                    text = data[\"text\"]\n",
    "\n",
    "                for x in data[\"text\"].split():\n",
    "                    if \"https://\" in x:\n",
    "                        rows.append((user_id, user_location, tweet_id, hashtags, text))\n",
    "                        links.append(x)\n",
    "pd.options.display.max_colwidth = 500\n",
    "datas = pd.DataFrame(rows, columns=[\"user_id\", \"user_location\", \"tweet_id\", \"hashtags\", \"text\"])\n",
    "#Counter(\" \".join(datas[\"text\"]).split()).most_common(100)\n",
    "#display(datas)\n",
    "print(x)"
   ]
  },
  {
   "cell_type": "code",
   "execution_count": null,
   "metadata": {},
   "outputs": [],
   "source": []
  }
 ],
 "metadata": {
  "kernelspec": {
   "display_name": "Python 3",
   "language": "python",
   "name": "python3"
  },
  "language_info": {
   "codemirror_mode": {
    "name": "ipython",
    "version": 3
   },
   "file_extension": ".py",
   "mimetype": "text/x-python",
   "name": "python",
   "nbconvert_exporter": "python",
   "pygments_lexer": "ipython3",
   "version": "3.8.3"
  }
 },
 "nbformat": 4,
 "nbformat_minor": 4
}
