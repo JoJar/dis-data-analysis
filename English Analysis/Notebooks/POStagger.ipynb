{
 "cells": [
  {
   "cell_type": "code",
   "execution_count": 3,
   "source": [
    "import nltk\r\n",
    "import re\r\n",
    "import multiprocessing as mp\r\n",
    "import plotly.express as px"
   ],
   "outputs": [],
   "metadata": {}
  },
  {
   "cell_type": "code",
   "execution_count": 20,
   "source": [
    "def writeToFile(filename, left_tokenize, right_tokenize, query):\r\n",
    "    obj=[query],left_tokenize,right_tokenize\r\n",
    "\r\n",
    "    with open(filename, 'a', encoding='utf8') as fin:\r\n",
    "        fin.write(str(obj) + \"\\n\")"
   ],
   "outputs": [],
   "metadata": {}
  },
  {
   "cell_type": "code",
   "execution_count": 18,
   "source": [
    "# Creates a new file, takes the base concordance file and runs POS tagging.\r\n",
    "# This code strips the concordance down to left and right of the query (word concordance query)\r\n",
    "def stripConcordance(query):\r\n",
    "    stripped_string = \"\".lower()\r\n",
    "    with open('../textFiles/Pronoun/concordance_'+ query + '.txt', 'r', encoding='utf8') as f:\r\n",
    "        for line in f.readlines():\r\n",
    "            \r\n",
    "            # Strips the left and right side of the concordance of unwanted parts.\r\n",
    "            left = line[line.find(\"left_print=\"):line.find(\"right_\")].strip(\"left_print=\")\r\n",
    "            left_re = re.sub('[^A-Za-z0-9 ]+', '', left)\r\n",
    "            right = line[line.find(\"right_print=\"):line.find(\"line=\")].strip(\"right_print=\")\r\n",
    "            right_re = re.sub('[^A-Za-z0-9 ]+', '', right)\r\n",
    "            \r\n",
    "            # Combines the left and right side of the concordance into a single string.\r\n",
    "            stripped_string += left_re\r\n",
    "            stripped_string += \" \"\r\n",
    "            stripped_string += right_re\r\n",
    "            \r\n",
    "            #left_tokenize = nltk.pos_tag(nltk.word_tokenize(left_re))\r\n",
    "            #right_tokenize = nltk.pos_tag(nltk.word_tokenize(right_re))\r\n",
    "            #writeToFile('../textFiles/Pronoun/POS-concordance-'+ query +'.txt', left_tokenize, right_tokenize, query)\r\n",
    "            writeToFile('../textFiles/Pronoun/POS-concordance-'+ query +'.txt', left_re, right_re, query)\r\n",
    "        \r\n",
    "        #return posTag(stripped_string, query)"
   ],
   "outputs": [],
   "metadata": {}
  },
  {
   "cell_type": "code",
   "execution_count": 7,
   "source": [
    "# Removes words used to obtain data as well as any words that have snuck into the concordance.\r\n",
    "def posStripper(stripped_string):\r\n",
    "    stripped_string = stripped_string.replace(\"conspiracy\", \"\")\r\n",
    "    stripped_string = stripped_string.replace(\"propaganda\", \"\")\r\n",
    "    stripped_string = stripped_string.replace(\"Trump\", \"\")\r\n",
    "    stripped_string = stripped_string.replace(\"fake\", \"\")\r\n",
    "    stripped_string = stripped_string.replace(\"realDonald\", \"\")\r\n",
    "    stripped_string = stripped_string.replace(\"misinformation\", \"\")\r\n",
    "    stripped_string = stripped_string.replace(\"https\", \"\")\r\n",
    "    return stripped_string"
   ],
   "outputs": [],
   "metadata": {}
  },
  {
   "cell_type": "code",
   "execution_count": 207,
   "source": [
    "def posTag(stripped_string, query):\r\n",
    "    # calls function to remove certain words used to obtain data.\r\n",
    "    stripped_string = posStripper(stripped_string)\r\n",
    "    \r\n",
    "    # POS tag the entire concordance.\r\n",
    "    token = nltk.pos_tag(nltk.word_tokenize(stripped_string))\r\n",
    "\r\n",
    "    nouns = getNouns(token, query)\r\n",
    "    verbs = getVerbs(token, query)\r\n",
    "    adj = get_adjective(token, query)\r\n",
    "    all = get_all(token, query)\r\n",
    "    return all"
   ],
   "outputs": [],
   "metadata": {}
  },
  {
   "cell_type": "code",
   "execution_count": 200,
   "source": [
    "def get_all(token, query):\r\n",
    "    most_common_any = []\r\n",
    "    for i, j in token:\r\n",
    "        if len(i) > 4:\r\n",
    "            most_common_any.append(i)\r\n",
    "\r\n",
    "    any_frq = nltk.FreqDist(any for any in most_common_any)\r\n",
    "    most_common_any = any_frq.most_common(20)\r\n",
    "    return most_common_any"
   ],
   "outputs": [],
   "metadata": {}
  },
  {
   "cell_type": "code",
   "execution_count": 8,
   "source": [
    "# get all nouns and return the 20 most common\r\n",
    "def getNouns(token, query):\r\n",
    "    most_common_nouns = []\r\n",
    "    for i, j in token:\r\n",
    "        if 'NN' in j and len(i) > 4:\r\n",
    "            most_common_nouns.append(i)\r\n",
    "    noun_frq = nltk.FreqDist(noun for noun in most_common_nouns)\r\n",
    "    most_common_nouns = noun_frq.most_common(20)\r\n",
    "    return most_common_nouns"
   ],
   "outputs": [],
   "metadata": {}
  },
  {
   "cell_type": "code",
   "execution_count": 52,
   "source": [
    "# get all verbs and return the 20 most common\r\n",
    "def getVerbs(token, query):\r\n",
    "    most_common_verbs = []\r\n",
    "\r\n",
    "    for i, j in token:\r\n",
    "        if 'V' in j and len(i) >= 4:\r\n",
    "            most_common_verbs.append(i)\r\n",
    "\r\n",
    "    verb_frq = nltk.FreqDist(verb for verb in most_common_verbs)\r\n",
    "    most_common_verbs = verb_frq.most_common(20)\r\n",
    "\r\n",
    "    return most_common_verbs"
   ],
   "outputs": [],
   "metadata": {}
  },
  {
   "cell_type": "code",
   "execution_count": 81,
   "source": [
    "def get_adjective(token, query):\r\n",
    "    most_common_adj = []\r\n",
    "    for i, j in token:\r\n",
    "        if 'J' in j and len(i) >= 3:\r\n",
    "            most_common_adj.append(i)\r\n",
    "    adj_frq = nltk.FreqDist(verb for verb in most_common_adj)\r\n",
    "    most_common_adj = adj_frq.most_common(20)\r\n",
    "\r\n",
    "    return most_common_adj"
   ],
   "outputs": [],
   "metadata": {}
  },
  {
   "cell_type": "code",
   "execution_count": 1,
   "source": [
    "# Function to sort the list of tuples by its second item\r\n",
    "def Sort_Tuple(tup): \r\n",
    "    # getting length of list of tuples\r\n",
    "    lst = len(tup)\r\n",
    "    for i in range(0, lst):\r\n",
    "        for j in range(0, lst-i-1):\r\n",
    "            if (tup[j][1] > tup[j + 1][1]): \r\n",
    "                temp = tup[j] \r\n",
    "                tup[j]= tup[j + 1] \r\n",
    "                tup[j + 1]= temp \r\n",
    "    return tup\r\n",
    "\r\n",
    "# Function to remove single letter 'e' which cropped up in Russian dataset.\r\n",
    "def remove_single_letter_words(tup):\r\n",
    "    for i in tup:\r\n",
    "        if i[0] == 'е':\r\n",
    "            tup.remove(i)\r\n",
    "    return tup"
   ],
   "outputs": [],
   "metadata": {}
  },
  {
   "cell_type": "code",
   "execution_count": 22,
   "source": [
    "# Saves concordance for each pronoun to a variable.\r\n",
    "# Will automate this and make it cleaner at some point\r\n",
    "\r\n",
    "vocab = [\"I\", \"They\", \"We\", \"My\", \"Us\", \"You\", \"Me\"]\r\n",
    "\r\n",
    "verbs_I = stripConcordance(vocab[0])[0]\r\n",
    "verbs_They = stripConcordance(vocab[1])[0]\r\n",
    "verbs_We = stripConcordance(vocab[2])[0]\r\n",
    "verbs_My = stripConcordance(vocab[3])[0]\r\n",
    "verbs_Us = stripConcordance(vocab[4])[0]\r\n",
    "verbs_You = stripConcordance(vocab[5])[0]\r\n",
    "verbs_Me = stripConcordance(vocab[6])[0]"
   ],
   "outputs": [
    {
     "output_type": "error",
     "ename": "TypeError",
     "evalue": "'NoneType' object is not subscriptable",
     "traceback": [
      "\u001b[1;31m---------------------------------------------------------------------------\u001b[0m",
      "\u001b[1;31mTypeError\u001b[0m                                 Traceback (most recent call last)",
      "\u001b[1;32m~\\AppData\\Local\\Temp/ipykernel_10120/2302652407.py\u001b[0m in \u001b[0;36m<module>\u001b[1;34m\u001b[0m\n\u001b[0;32m      4\u001b[0m \u001b[0mvocab\u001b[0m \u001b[1;33m=\u001b[0m \u001b[1;33m[\u001b[0m\u001b[1;34m\"I\"\u001b[0m\u001b[1;33m,\u001b[0m \u001b[1;34m\"They\"\u001b[0m\u001b[1;33m,\u001b[0m \u001b[1;34m\"We\"\u001b[0m\u001b[1;33m,\u001b[0m \u001b[1;34m\"My\"\u001b[0m\u001b[1;33m,\u001b[0m \u001b[1;34m\"Us\"\u001b[0m\u001b[1;33m,\u001b[0m \u001b[1;34m\"You\"\u001b[0m\u001b[1;33m,\u001b[0m \u001b[1;34m\"Me\"\u001b[0m\u001b[1;33m]\u001b[0m\u001b[1;33m\u001b[0m\u001b[1;33m\u001b[0m\u001b[0m\n\u001b[0;32m      5\u001b[0m \u001b[1;33m\u001b[0m\u001b[0m\n\u001b[1;32m----> 6\u001b[1;33m \u001b[0mverbs_I\u001b[0m \u001b[1;33m=\u001b[0m \u001b[0mstripConcordance\u001b[0m\u001b[1;33m(\u001b[0m\u001b[0mvocab\u001b[0m\u001b[1;33m[\u001b[0m\u001b[1;36m0\u001b[0m\u001b[1;33m]\u001b[0m\u001b[1;33m)\u001b[0m\u001b[1;33m[\u001b[0m\u001b[1;36m0\u001b[0m\u001b[1;33m]\u001b[0m\u001b[1;33m\u001b[0m\u001b[1;33m\u001b[0m\u001b[0m\n\u001b[0m\u001b[0;32m      7\u001b[0m \u001b[0mverbs_They\u001b[0m \u001b[1;33m=\u001b[0m \u001b[0mstripConcordance\u001b[0m\u001b[1;33m(\u001b[0m\u001b[0mvocab\u001b[0m\u001b[1;33m[\u001b[0m\u001b[1;36m1\u001b[0m\u001b[1;33m]\u001b[0m\u001b[1;33m)\u001b[0m\u001b[1;33m[\u001b[0m\u001b[1;36m0\u001b[0m\u001b[1;33m]\u001b[0m\u001b[1;33m\u001b[0m\u001b[1;33m\u001b[0m\u001b[0m\n\u001b[0;32m      8\u001b[0m \u001b[0mverbs_We\u001b[0m \u001b[1;33m=\u001b[0m \u001b[0mstripConcordance\u001b[0m\u001b[1;33m(\u001b[0m\u001b[0mvocab\u001b[0m\u001b[1;33m[\u001b[0m\u001b[1;36m2\u001b[0m\u001b[1;33m]\u001b[0m\u001b[1;33m)\u001b[0m\u001b[1;33m[\u001b[0m\u001b[1;36m0\u001b[0m\u001b[1;33m]\u001b[0m\u001b[1;33m\u001b[0m\u001b[1;33m\u001b[0m\u001b[0m\n",
      "\u001b[1;31mTypeError\u001b[0m: 'NoneType' object is not subscriptable"
     ]
    }
   ],
   "metadata": {}
  },
  {
   "cell_type": "code",
   "execution_count": 55,
   "source": [
    "print(type(verbs_Me))"
   ],
   "outputs": [
    {
     "output_type": "stream",
     "name": "stdout",
     "text": [
      "<class 'list'>\n"
     ]
    }
   ],
   "metadata": {}
  },
  {
   "cell_type": "code",
   "execution_count": 62,
   "source": [
    "# Sorts the tuple list in order of verb frequency\r\n",
    "\r\n",
    "verbs_I = Sort_Tuple(verbs_I)\r\n",
    "verbs_They = Sort_Tuple(verbs_They)\r\n",
    "verbs_We = Sort_Tuple(verbs_We)\r\n",
    "verbs_My = Sort_Tuple(verbs_My)\r\n",
    "verbs_Us = Sort_Tuple(verbs_Us)\r\n",
    "verbs_You = Sort_Tuple(verbs_You)\r\n",
    "verbs_Me = Sort_Tuple(verbs_Me)"
   ],
   "outputs": [],
   "metadata": {}
  },
  {
   "cell_type": "code",
   "execution_count": 63,
   "source": [
    "import plotly.express as px\r\n",
    "import math\r\n",
    "\r\n",
    "# Constructors\r\n",
    "verbs = []\r\n",
    "verbCounter=[]\r\n",
    "\r\n",
    "# Simple function to find a percentage.\r\n",
    "def findPercentage(num, total):\r\n",
    "    quotient = num / total\r\n",
    "    return quotient*100\r\n",
    "\r\n",
    "# returns total number of verbs associated with a pronoun.\r\n",
    "def findTotalFreq(verbListTuple):\r\n",
    "    total=[]\r\n",
    "    for i,j in verbListTuple:\r\n",
    "        total.append(j)\r\n",
    "    return sum(total)\r\n",
    "\r\n",
    "# Function to find the rounded down percent of a single verb in\r\n",
    "# comparison to all other verbs associated with the pronoun,\r\n",
    "def findPerecentTotalFreq(verbListTuple):\r\n",
    "    verbCounterPercentage=[]\r\n",
    "    total = findTotalFreq(verbListTuple)\r\n",
    "    temp = []\r\n",
    "    for i,j in verbListTuple:\r\n",
    "        temp.append(math.floor(findPercentage(j, total)))\r\n",
    "    verbCounterPercentage.append(temp)\r\n",
    "    \r\n",
    "    return verbCounterPercentage\r\n",
    "\r\n",
    "# Function to split a list of tuples into two seperate ordered lists.\r\n",
    "# Here we add the verb to \"verbs\" and the frequency of the verb to \"verbCounter\"\r\n",
    "def splitTuple(verbListTuples):\r\n",
    "    temp = []\r\n",
    "    tempCount = []\r\n",
    "\r\n",
    "    for i, j in enumerate(verbListTuples):\r\n",
    "        temp.append(j[0])\r\n",
    "        tempCount.append(j[1])\r\n",
    "        if i == 19:\r\n",
    "            verbCounter.append(tempCount)\r\n",
    "            verbs.append(temp)\r\n",
    "            temp=[]\r\n",
    "            tempCount=[]\r\n",
    "            break\r\n",
    "\r\n",
    "# Uses the ST function to seperate the verb and frequency count and add them to seperate lists.\r\n",
    "# splitTuple(verbs_I)\r\n",
    "splitTuple(verbs_Me)\r\n",
    "# splitTuple(verbs_You)\r\n",
    "\r\n",
    "# Using the FPTF function to add each perecnt frequency to an ordered list.\r\n",
    "# findPerecentTotalFreq(verbs_I)\r\n",
    "findPerecentTotalFreq(verbs_Me)\r\n",
    "# findPerecentTotalFreq(verbs_You)"
   ],
   "outputs": [],
   "metadata": {}
  },
  {
   "cell_type": "code",
   "execution_count": 222,
   "source": [
    "import plotly.express as px\r\n",
    "import pandas as pd\r\n",
    "\r\n",
    "# Function which creates a dataframe containing\r\n",
    "# the verb tuple and associated pronoun. \r\n",
    "def dataframer(words_tuple, pnoun):\r\n",
    "    data = {}\r\n",
    "    counter = []\r\n",
    "    words = []\r\n",
    "\r\n",
    "    for i in words_tuple:\r\n",
    "        j, k = i\r\n",
    "        words.append(j)\r\n",
    "        counter.append(k)\r\n",
    "\r\n",
    "    for pronoun in range(len(words)):\r\n",
    "        data[\"Pronoun\"] = pnoun\r\n",
    "        data[\"Word\"] = words\r\n",
    "        data[\"Count\"] = counter\r\n",
    "\r\n",
    "    df_new = pd.DataFrame(data=data)\r\n",
    "    return df_new"
   ],
   "outputs": [],
   "metadata": {}
  },
  {
   "cell_type": "markdown",
   "source": [
    "Below function creates a graph based on the tuple of data provided.\r\n",
    "The end goal is to produce a stacked bar chart displaying the frequency\r\n",
    "of commonly occuring words associated with the concorded word.\r\n",
    "For example \r\n",
    "\r\n",
    "- [a list containing a tuple]\r\n",
    "- (a tuple containing a list of words and their frequency, and the number of results the user wants to see)\r\n",
    "\r\n",
    "** Need to return the result as a percentage not a count **\r\n"
   ],
   "metadata": {}
  },
  {
   "cell_type": "code",
   "execution_count": 218,
   "source": [
    "# Function takes a tuple of the (list of words) and the (concorded word) and the most frequent (X)\r\n",
    "# That the user wants returned.\r\n",
    "# Returns a stacked bar chart of the processed data.\r\n",
    "def bar_stacked(list_of_tuples, x, title):\r\n",
    "    x = -abs(x)\r\n",
    "    df = pd.DataFrame(columns=[\"Base Word\", \"Word\", \"Count\"])\r\n",
    "    # i_df = dataframer(verbs_I[-5:], \"I\")\r\n",
    "    new = df\r\n",
    "\r\n",
    "    for i, j in list_of_tuples:\r\n",
    "        temp = dataframer(i[x:], j)\r\n",
    "        new = new.append(temp)\r\n",
    "\r\n",
    "    new = new.sort_values(by=['Count'], ascending=True)\r\n",
    "\r\n",
    "    fig = px.bar(new, x=\"Base Word\", y=\"Count\", color=\"Pronoun\", title=title, text=new['Word'], color_discrete_sequence=px.colors.sequential.Viridis)\r\n",
    "    fig.update_layout(hovermode=\"closest\")\r\n",
    "\r\n",
    "    fig.show()"
   ],
   "outputs": [],
   "metadata": {}
  },
  {
   "cell_type": "code",
   "execution_count": 227,
   "source": [
    "verb_list_and_pronoun = [(verbs_I, \"I\"), (verbs_They, \"They\"), (verbs_We, \"We\"), (verbs_My, \"My\"), (verbs_Us, \"Us\"), (verbs_You, \"You\"), (verbs_Me, \"Me\")]\r\n",
    "bar_stacked(verb_list_and_pronoun, 10, \"10 Most Common Verbs Found Alongside English Pronouns\")"
   ],
   "outputs": [
    {
     "output_type": "display_data",
     "data": {
      "application/vnd.plotly.v1+json": {
       "config": {
        "plotlyServerURL": "https://plot.ly"
       },
       "data": [
        {
         "alignmentgroup": "True",
         "hovertemplate": "Pronoun=%{x}<br>Count=%{y}<br>Word=%{text}<extra></extra>",
         "legendgroup": "My",
         "marker": {
          "color": "#440154",
          "pattern": {
           "shape": ""
          }
         },
         "name": "My",
         "offsetgroup": "My",
         "orientation": "v",
         "showlegend": true,
         "text": [
          "make",
          "being",
          "dont",
          "think",
          "said",
          "fake",
          "want",
          "know",
          "been",
          "have"
         ],
         "textposition": "auto",
         "type": "bar",
         "x": [
          "My",
          "My",
          "My",
          "My",
          "My",
          "My",
          "My",
          "My",
          "My",
          "My"
         ],
         "xaxis": "x",
         "y": [
          84,
          84,
          98,
          98,
          114,
          117,
          128,
          146,
          183,
          448
         ],
         "yaxis": "y"
        },
        {
         "alignmentgroup": "True",
         "hovertemplate": "Pronoun=%{x}<br>Count=%{y}<br>Word=%{text}<extra></extra>",
         "legendgroup": "Me",
         "marker": {
          "color": "#482878",
          "pattern": {
           "shape": ""
          }
         },
         "name": "Me",
         "offsetgroup": "Me",
         "orientation": "v",
         "showlegend": true,
         "text": [
          "think",
          "believe",
          "make",
          "want",
          "told",
          "makes",
          "know",
          "fake",
          "tell",
          "have"
         ],
         "textposition": "auto",
         "type": "bar",
         "x": [
          "Me",
          "Me",
          "Me",
          "Me",
          "Me",
          "Me",
          "Me",
          "Me",
          "Me",
          "Me"
         ],
         "xaxis": "x",
         "y": [
          111,
          119,
          123,
          135,
          155,
          168,
          186,
          263,
          273,
          284
         ],
         "yaxis": "y"
        },
        {
         "alignmentgroup": "True",
         "hovertemplate": "Pronoun=%{x}<br>Count=%{y}<br>Word=%{text}<extra></extra>",
         "legendgroup": "Us",
         "marker": {
          "color": "#3e4989",
          "pattern": {
           "shape": ""
          }
         },
         "name": "Us",
         "offsetgroup": "Us",
         "orientation": "v",
         "showlegend": true,
         "text": [
          "make",
          "keep",
          "think",
          "been",
          "going",
          "telling",
          "tell",
          "want",
          "know",
          "have"
         ],
         "textposition": "auto",
         "type": "bar",
         "x": [
          "Us",
          "Us",
          "Us",
          "Us",
          "Us",
          "Us",
          "Us",
          "Us",
          "Us",
          "Us"
         ],
         "xaxis": "x",
         "y": [
          113,
          115,
          119,
          126,
          126,
          132,
          174,
          186,
          195,
          448
         ],
         "yaxis": "y"
        },
        {
         "alignmentgroup": "True",
         "hovertemplate": "Pronoun=%{x}<br>Count=%{y}<br>Word=%{text}<extra></extra>",
         "legendgroup": "We",
         "marker": {
          "color": "#31688e",
          "pattern": {
           "shape": ""
          }
         },
         "name": "We",
         "offsetgroup": "We",
         "orientation": "v",
         "showlegend": true,
         "text": [
          "going",
          "think",
          "stop",
          "believe",
          "fake",
          "were",
          "want",
          "need",
          "know",
          "have"
         ],
         "textposition": "auto",
         "type": "bar",
         "x": [
          "We",
          "We",
          "We",
          "We",
          "We",
          "We",
          "We",
          "We",
          "We",
          "We"
         ],
         "xaxis": "x",
         "y": [
          274,
          292,
          293,
          305,
          307,
          372,
          381,
          1065,
          1377,
          2654
         ],
         "yaxis": "y"
        },
        {
         "alignmentgroup": "True",
         "hovertemplate": "Pronoun=%{x}<br>Count=%{y}<br>Word=%{text}<extra></extra>",
         "legendgroup": "They",
         "marker": {
          "color": "#26828e",
          "pattern": {
           "shape": ""
          }
         },
         "name": "They",
         "offsetgroup": "They",
         "orientation": "v",
         "showlegend": true,
         "text": [
          "doing",
          "need",
          "said",
          "been",
          "believe",
          "think",
          "know",
          "want",
          "were",
          "have"
         ],
         "textposition": "auto",
         "type": "bar",
         "x": [
          "They",
          "They",
          "They",
          "They",
          "They",
          "They",
          "They",
          "They",
          "They",
          "They"
         ],
         "xaxis": "x",
         "y": [
          388,
          409,
          413,
          466,
          517,
          594,
          818,
          831,
          883,
          2481
         ],
         "yaxis": "y"
        },
        {
         "alignmentgroup": "True",
         "hovertemplate": "Pronoun=%{x}<br>Count=%{y}<br>Word=%{text}<extra></extra>",
         "legendgroup": "I",
         "marker": {
          "color": "#1f9e89",
          "pattern": {
           "shape": ""
          }
         },
         "name": "I",
         "offsetgroup": "I",
         "orientation": "v",
         "showlegend": true,
         "text": [
          "read",
          "dont",
          "fake",
          "been",
          "said",
          "want",
          "believe",
          "think",
          "know",
          "have"
         ],
         "textposition": "auto",
         "type": "bar",
         "x": [
          "I",
          "I",
          "I",
          "I",
          "I",
          "I",
          "I",
          "I",
          "I",
          "I"
         ],
         "xaxis": "x",
         "y": [
          600,
          644,
          724,
          760,
          781,
          977,
          1341,
          2290,
          2293,
          3122
         ],
         "yaxis": "y"
        },
        {
         "alignmentgroup": "True",
         "hovertemplate": "Pronoun=%{x}<br>Count=%{y}<br>Word=%{text}<extra></extra>",
         "legendgroup": "You",
         "marker": {
          "color": "#35b779",
          "pattern": {
           "shape": ""
          }
         },
         "name": "You",
         "offsetgroup": "You",
         "orientation": "v",
         "showlegend": true,
         "text": [
          "said",
          "were",
          "need",
          "spreading",
          "fake",
          "believe",
          "want",
          "think",
          "know",
          "have"
         ],
         "textposition": "auto",
         "type": "bar",
         "x": [
          "You",
          "You",
          "You",
          "You",
          "You",
          "You",
          "You",
          "You",
          "You",
          "You"
         ],
         "xaxis": "x",
         "y": [
          814,
          905,
          923,
          1176,
          1209,
          1287,
          1290,
          1761,
          3109,
          4381
         ],
         "yaxis": "y"
        }
       ],
       "layout": {
        "barmode": "relative",
        "hovermode": "closest",
        "legend": {
         "title": {
          "text": "Pronoun"
         },
         "tracegroupgap": 0
        },
        "template": {
         "data": {
          "bar": [
           {
            "error_x": {
             "color": "#2a3f5f"
            },
            "error_y": {
             "color": "#2a3f5f"
            },
            "marker": {
             "line": {
              "color": "#E5ECF6",
              "width": 0.5
             },
             "pattern": {
              "fillmode": "overlay",
              "size": 10,
              "solidity": 0.2
             }
            },
            "type": "bar"
           }
          ],
          "barpolar": [
           {
            "marker": {
             "line": {
              "color": "#E5ECF6",
              "width": 0.5
             },
             "pattern": {
              "fillmode": "overlay",
              "size": 10,
              "solidity": 0.2
             }
            },
            "type": "barpolar"
           }
          ],
          "carpet": [
           {
            "aaxis": {
             "endlinecolor": "#2a3f5f",
             "gridcolor": "white",
             "linecolor": "white",
             "minorgridcolor": "white",
             "startlinecolor": "#2a3f5f"
            },
            "baxis": {
             "endlinecolor": "#2a3f5f",
             "gridcolor": "white",
             "linecolor": "white",
             "minorgridcolor": "white",
             "startlinecolor": "#2a3f5f"
            },
            "type": "carpet"
           }
          ],
          "choropleth": [
           {
            "colorbar": {
             "outlinewidth": 0,
             "ticks": ""
            },
            "type": "choropleth"
           }
          ],
          "contour": [
           {
            "colorbar": {
             "outlinewidth": 0,
             "ticks": ""
            },
            "colorscale": [
             [
              0,
              "#0d0887"
             ],
             [
              0.1111111111111111,
              "#46039f"
             ],
             [
              0.2222222222222222,
              "#7201a8"
             ],
             [
              0.3333333333333333,
              "#9c179e"
             ],
             [
              0.4444444444444444,
              "#bd3786"
             ],
             [
              0.5555555555555556,
              "#d8576b"
             ],
             [
              0.6666666666666666,
              "#ed7953"
             ],
             [
              0.7777777777777778,
              "#fb9f3a"
             ],
             [
              0.8888888888888888,
              "#fdca26"
             ],
             [
              1,
              "#f0f921"
             ]
            ],
            "type": "contour"
           }
          ],
          "contourcarpet": [
           {
            "colorbar": {
             "outlinewidth": 0,
             "ticks": ""
            },
            "type": "contourcarpet"
           }
          ],
          "heatmap": [
           {
            "colorbar": {
             "outlinewidth": 0,
             "ticks": ""
            },
            "colorscale": [
             [
              0,
              "#0d0887"
             ],
             [
              0.1111111111111111,
              "#46039f"
             ],
             [
              0.2222222222222222,
              "#7201a8"
             ],
             [
              0.3333333333333333,
              "#9c179e"
             ],
             [
              0.4444444444444444,
              "#bd3786"
             ],
             [
              0.5555555555555556,
              "#d8576b"
             ],
             [
              0.6666666666666666,
              "#ed7953"
             ],
             [
              0.7777777777777778,
              "#fb9f3a"
             ],
             [
              0.8888888888888888,
              "#fdca26"
             ],
             [
              1,
              "#f0f921"
             ]
            ],
            "type": "heatmap"
           }
          ],
          "heatmapgl": [
           {
            "colorbar": {
             "outlinewidth": 0,
             "ticks": ""
            },
            "colorscale": [
             [
              0,
              "#0d0887"
             ],
             [
              0.1111111111111111,
              "#46039f"
             ],
             [
              0.2222222222222222,
              "#7201a8"
             ],
             [
              0.3333333333333333,
              "#9c179e"
             ],
             [
              0.4444444444444444,
              "#bd3786"
             ],
             [
              0.5555555555555556,
              "#d8576b"
             ],
             [
              0.6666666666666666,
              "#ed7953"
             ],
             [
              0.7777777777777778,
              "#fb9f3a"
             ],
             [
              0.8888888888888888,
              "#fdca26"
             ],
             [
              1,
              "#f0f921"
             ]
            ],
            "type": "heatmapgl"
           }
          ],
          "histogram": [
           {
            "marker": {
             "pattern": {
              "fillmode": "overlay",
              "size": 10,
              "solidity": 0.2
             }
            },
            "type": "histogram"
           }
          ],
          "histogram2d": [
           {
            "colorbar": {
             "outlinewidth": 0,
             "ticks": ""
            },
            "colorscale": [
             [
              0,
              "#0d0887"
             ],
             [
              0.1111111111111111,
              "#46039f"
             ],
             [
              0.2222222222222222,
              "#7201a8"
             ],
             [
              0.3333333333333333,
              "#9c179e"
             ],
             [
              0.4444444444444444,
              "#bd3786"
             ],
             [
              0.5555555555555556,
              "#d8576b"
             ],
             [
              0.6666666666666666,
              "#ed7953"
             ],
             [
              0.7777777777777778,
              "#fb9f3a"
             ],
             [
              0.8888888888888888,
              "#fdca26"
             ],
             [
              1,
              "#f0f921"
             ]
            ],
            "type": "histogram2d"
           }
          ],
          "histogram2dcontour": [
           {
            "colorbar": {
             "outlinewidth": 0,
             "ticks": ""
            },
            "colorscale": [
             [
              0,
              "#0d0887"
             ],
             [
              0.1111111111111111,
              "#46039f"
             ],
             [
              0.2222222222222222,
              "#7201a8"
             ],
             [
              0.3333333333333333,
              "#9c179e"
             ],
             [
              0.4444444444444444,
              "#bd3786"
             ],
             [
              0.5555555555555556,
              "#d8576b"
             ],
             [
              0.6666666666666666,
              "#ed7953"
             ],
             [
              0.7777777777777778,
              "#fb9f3a"
             ],
             [
              0.8888888888888888,
              "#fdca26"
             ],
             [
              1,
              "#f0f921"
             ]
            ],
            "type": "histogram2dcontour"
           }
          ],
          "mesh3d": [
           {
            "colorbar": {
             "outlinewidth": 0,
             "ticks": ""
            },
            "type": "mesh3d"
           }
          ],
          "parcoords": [
           {
            "line": {
             "colorbar": {
              "outlinewidth": 0,
              "ticks": ""
             }
            },
            "type": "parcoords"
           }
          ],
          "pie": [
           {
            "automargin": true,
            "type": "pie"
           }
          ],
          "scatter": [
           {
            "marker": {
             "colorbar": {
              "outlinewidth": 0,
              "ticks": ""
             }
            },
            "type": "scatter"
           }
          ],
          "scatter3d": [
           {
            "line": {
             "colorbar": {
              "outlinewidth": 0,
              "ticks": ""
             }
            },
            "marker": {
             "colorbar": {
              "outlinewidth": 0,
              "ticks": ""
             }
            },
            "type": "scatter3d"
           }
          ],
          "scattercarpet": [
           {
            "marker": {
             "colorbar": {
              "outlinewidth": 0,
              "ticks": ""
             }
            },
            "type": "scattercarpet"
           }
          ],
          "scattergeo": [
           {
            "marker": {
             "colorbar": {
              "outlinewidth": 0,
              "ticks": ""
             }
            },
            "type": "scattergeo"
           }
          ],
          "scattergl": [
           {
            "marker": {
             "colorbar": {
              "outlinewidth": 0,
              "ticks": ""
             }
            },
            "type": "scattergl"
           }
          ],
          "scattermapbox": [
           {
            "marker": {
             "colorbar": {
              "outlinewidth": 0,
              "ticks": ""
             }
            },
            "type": "scattermapbox"
           }
          ],
          "scatterpolar": [
           {
            "marker": {
             "colorbar": {
              "outlinewidth": 0,
              "ticks": ""
             }
            },
            "type": "scatterpolar"
           }
          ],
          "scatterpolargl": [
           {
            "marker": {
             "colorbar": {
              "outlinewidth": 0,
              "ticks": ""
             }
            },
            "type": "scatterpolargl"
           }
          ],
          "scatterternary": [
           {
            "marker": {
             "colorbar": {
              "outlinewidth": 0,
              "ticks": ""
             }
            },
            "type": "scatterternary"
           }
          ],
          "surface": [
           {
            "colorbar": {
             "outlinewidth": 0,
             "ticks": ""
            },
            "colorscale": [
             [
              0,
              "#0d0887"
             ],
             [
              0.1111111111111111,
              "#46039f"
             ],
             [
              0.2222222222222222,
              "#7201a8"
             ],
             [
              0.3333333333333333,
              "#9c179e"
             ],
             [
              0.4444444444444444,
              "#bd3786"
             ],
             [
              0.5555555555555556,
              "#d8576b"
             ],
             [
              0.6666666666666666,
              "#ed7953"
             ],
             [
              0.7777777777777778,
              "#fb9f3a"
             ],
             [
              0.8888888888888888,
              "#fdca26"
             ],
             [
              1,
              "#f0f921"
             ]
            ],
            "type": "surface"
           }
          ],
          "table": [
           {
            "cells": {
             "fill": {
              "color": "#EBF0F8"
             },
             "line": {
              "color": "white"
             }
            },
            "header": {
             "fill": {
              "color": "#C8D4E3"
             },
             "line": {
              "color": "white"
             }
            },
            "type": "table"
           }
          ]
         },
         "layout": {
          "annotationdefaults": {
           "arrowcolor": "#2a3f5f",
           "arrowhead": 0,
           "arrowwidth": 1
          },
          "autotypenumbers": "strict",
          "coloraxis": {
           "colorbar": {
            "outlinewidth": 0,
            "ticks": ""
           }
          },
          "colorscale": {
           "diverging": [
            [
             0,
             "#8e0152"
            ],
            [
             0.1,
             "#c51b7d"
            ],
            [
             0.2,
             "#de77ae"
            ],
            [
             0.3,
             "#f1b6da"
            ],
            [
             0.4,
             "#fde0ef"
            ],
            [
             0.5,
             "#f7f7f7"
            ],
            [
             0.6,
             "#e6f5d0"
            ],
            [
             0.7,
             "#b8e186"
            ],
            [
             0.8,
             "#7fbc41"
            ],
            [
             0.9,
             "#4d9221"
            ],
            [
             1,
             "#276419"
            ]
           ],
           "sequential": [
            [
             0,
             "#0d0887"
            ],
            [
             0.1111111111111111,
             "#46039f"
            ],
            [
             0.2222222222222222,
             "#7201a8"
            ],
            [
             0.3333333333333333,
             "#9c179e"
            ],
            [
             0.4444444444444444,
             "#bd3786"
            ],
            [
             0.5555555555555556,
             "#d8576b"
            ],
            [
             0.6666666666666666,
             "#ed7953"
            ],
            [
             0.7777777777777778,
             "#fb9f3a"
            ],
            [
             0.8888888888888888,
             "#fdca26"
            ],
            [
             1,
             "#f0f921"
            ]
           ],
           "sequentialminus": [
            [
             0,
             "#0d0887"
            ],
            [
             0.1111111111111111,
             "#46039f"
            ],
            [
             0.2222222222222222,
             "#7201a8"
            ],
            [
             0.3333333333333333,
             "#9c179e"
            ],
            [
             0.4444444444444444,
             "#bd3786"
            ],
            [
             0.5555555555555556,
             "#d8576b"
            ],
            [
             0.6666666666666666,
             "#ed7953"
            ],
            [
             0.7777777777777778,
             "#fb9f3a"
            ],
            [
             0.8888888888888888,
             "#fdca26"
            ],
            [
             1,
             "#f0f921"
            ]
           ]
          },
          "colorway": [
           "#636efa",
           "#EF553B",
           "#00cc96",
           "#ab63fa",
           "#FFA15A",
           "#19d3f3",
           "#FF6692",
           "#B6E880",
           "#FF97FF",
           "#FECB52"
          ],
          "font": {
           "color": "#2a3f5f"
          },
          "geo": {
           "bgcolor": "white",
           "lakecolor": "white",
           "landcolor": "#E5ECF6",
           "showlakes": true,
           "showland": true,
           "subunitcolor": "white"
          },
          "hoverlabel": {
           "align": "left"
          },
          "hovermode": "closest",
          "mapbox": {
           "style": "light"
          },
          "paper_bgcolor": "white",
          "plot_bgcolor": "#E5ECF6",
          "polar": {
           "angularaxis": {
            "gridcolor": "white",
            "linecolor": "white",
            "ticks": ""
           },
           "bgcolor": "#E5ECF6",
           "radialaxis": {
            "gridcolor": "white",
            "linecolor": "white",
            "ticks": ""
           }
          },
          "scene": {
           "xaxis": {
            "backgroundcolor": "#E5ECF6",
            "gridcolor": "white",
            "gridwidth": 2,
            "linecolor": "white",
            "showbackground": true,
            "ticks": "",
            "zerolinecolor": "white"
           },
           "yaxis": {
            "backgroundcolor": "#E5ECF6",
            "gridcolor": "white",
            "gridwidth": 2,
            "linecolor": "white",
            "showbackground": true,
            "ticks": "",
            "zerolinecolor": "white"
           },
           "zaxis": {
            "backgroundcolor": "#E5ECF6",
            "gridcolor": "white",
            "gridwidth": 2,
            "linecolor": "white",
            "showbackground": true,
            "ticks": "",
            "zerolinecolor": "white"
           }
          },
          "shapedefaults": {
           "line": {
            "color": "#2a3f5f"
           }
          },
          "ternary": {
           "aaxis": {
            "gridcolor": "white",
            "linecolor": "white",
            "ticks": ""
           },
           "baxis": {
            "gridcolor": "white",
            "linecolor": "white",
            "ticks": ""
           },
           "bgcolor": "#E5ECF6",
           "caxis": {
            "gridcolor": "white",
            "linecolor": "white",
            "ticks": ""
           }
          },
          "title": {
           "x": 0.05
          },
          "xaxis": {
           "automargin": true,
           "gridcolor": "white",
           "linecolor": "white",
           "ticks": "",
           "title": {
            "standoff": 15
           },
           "zerolinecolor": "white",
           "zerolinewidth": 2
          },
          "yaxis": {
           "automargin": true,
           "gridcolor": "white",
           "linecolor": "white",
           "ticks": "",
           "title": {
            "standoff": 15
           },
           "zerolinecolor": "white",
           "zerolinewidth": 2
          }
         }
        },
        "title": {
         "text": "10 Most Common Verbs Found Alongside English Pronouns"
        },
        "xaxis": {
         "anchor": "y",
         "categoryarray": [
          "My",
          "Me",
          "Us",
          "We",
          "They",
          "I",
          "You"
         ],
         "categoryorder": "array",
         "domain": [
          0,
          1
         ],
         "title": {
          "text": "Pronoun"
         }
        },
        "yaxis": {
         "anchor": "x",
         "domain": [
          0,
          1
         ],
         "title": {
          "text": "Count"
         }
        }
       }
      }
     },
     "metadata": {}
    }
   ],
   "metadata": {}
  },
  {
   "cell_type": "code",
   "execution_count": 197,
   "source": [
    "# Function to automate concordance stripping\r\n",
    "# Takes a list of words which are the relevant files the concordance was carried out on.\r\n",
    "def automatic_concordance_stripping(vocab):\r\n",
    "    ls = []\r\n",
    "    for i in vocab:\r\n",
    "        ls.append((Sort_Tuple(stripConcordance(i)), i))\r\n",
    "    return ls"
   ],
   "outputs": [],
   "metadata": {}
  },
  {
   "cell_type": "code",
   "execution_count": 211,
   "source": [
    "vocab = [\"have\", \"believe\", \"think\", \"know\", \"tell\", \"need\", \"want\"]\r\n",
    "ls_vrb_adj = automatic_concordance_stripping(vocab)"
   ],
   "outputs": [],
   "metadata": {}
  },
  {
   "cell_type": "code",
   "execution_count": 230,
   "source": [
    "ls_of_vars = []\r\n",
    "\r\n",
    "for i in ls_vrb_adj:\r\n",
    "    ls_of_vars.append(i)\r\n",
    "    \r\n",
    "bar_stacked(ls_of_vars, 10, \"10 Most Common Words (all types) Alongside The Most Frequent Verbs From Concorded Pronouns.\")"
   ],
   "outputs": [
    {
     "output_type": "display_data",
     "data": {
      "application/vnd.plotly.v1+json": {
       "config": {
        "plotlyServerURL": "https://plot.ly"
       },
       "data": [
        {
         "alignmentgroup": "True",
         "hovertemplate": "Pronoun=%{x}<br>Count=%{y}<br>Word=%{text}<extra></extra>",
         "legendgroup": "tell",
         "marker": {
          "color": "#440154",
          "pattern": {
           "shape": ""
          }
         },
         "name": "tell",
         "offsetgroup": "tell",
         "orientation": "v",
         "showlegend": true,
         "text": [
          "other",
          "really",
          "someone",
          "should",
          "these",
          "President",
          "Please",
          "about",
          "people",
          "truth"
         ],
         "textposition": "auto",
         "type": "bar",
         "x": [
          "tell",
          "tell",
          "tell",
          "tell",
          "tell",
          "tell",
          "tell",
          "tell",
          "tell",
          "tell"
         ],
         "xaxis": "x",
         "y": [
          5,
          6,
          6,
          6,
          6,
          7,
          8,
          13,
          16,
          20
         ],
         "yaxis": "y"
        },
        {
         "alignmentgroup": "True",
         "hovertemplate": "Pronoun=%{x}<br>Count=%{y}<br>Word=%{text}<extra></extra>",
         "legendgroup": "need",
         "marker": {
          "color": "#482878",
          "pattern": {
           "shape": ""
          }
         },
         "name": "need",
         "offsetgroup": "need",
         "orientation": "v",
         "showlegend": true,
         "text": [
          "truth",
          "world",
          "right",
          "these",
          "media",
          "really",
          "People",
          "their",
          "about",
          "people"
         ],
         "textposition": "auto",
         "type": "bar",
         "x": [
          "need",
          "need",
          "need",
          "need",
          "need",
          "need",
          "need",
          "need",
          "need",
          "need"
         ],
         "xaxis": "x",
         "y": [
          8,
          9,
          11,
          14,
          14,
          15,
          17,
          18,
          20,
          30
         ],
         "yaxis": "y"
        },
        {
         "alignmentgroup": "True",
         "hovertemplate": "Pronoun=%{x}<br>Count=%{y}<br>Word=%{text}<extra></extra>",
         "legendgroup": "want",
         "marker": {
          "color": "#3e4989",
          "pattern": {
           "shape": ""
          }
         },
         "name": "want",
         "offsetgroup": "want",
         "orientation": "v",
         "showlegend": true,
         "text": [
          "truth",
          "Americans",
          "spread",
          "economy",
          "about",
          "media",
          "country",
          "because",
          "their",
          "people"
         ],
         "textposition": "auto",
         "type": "bar",
         "x": [
          "want",
          "want",
          "want",
          "want",
          "want",
          "want",
          "want",
          "want",
          "want",
          "want"
         ],
         "xaxis": "x",
         "y": [
          13,
          14,
          14,
          15,
          17,
          18,
          19,
          22,
          23,
          65
         ],
         "yaxis": "y"
        },
        {
         "alignmentgroup": "True",
         "hovertemplate": "Pronoun=%{x}<br>Count=%{y}<br>Word=%{text}<extra></extra>",
         "legendgroup": "think",
         "marker": {
          "color": "#31688e",
          "pattern": {
           "shape": ""
          }
         },
         "name": "think",
         "offsetgroup": "think",
         "orientation": "v",
         "showlegend": true,
         "text": [
          "should",
          "virus",
          "their",
          "really",
          "theory",
          "clear",
          "there",
          "about",
          "would",
          "people"
         ],
         "textposition": "auto",
         "type": "bar",
         "x": [
          "think",
          "think",
          "think",
          "think",
          "think",
          "think",
          "think",
          "think",
          "think",
          "think"
         ],
         "xaxis": "x",
         "y": [
          14,
          15,
          15,
          16,
          16,
          16,
          33,
          35,
          45,
          56
         ],
         "yaxis": "y"
        },
        {
         "alignmentgroup": "True",
         "hovertemplate": "Pronoun=%{x}<br>Count=%{y}<br>Word=%{text}<extra></extra>",
         "legendgroup": "know",
         "marker": {
          "color": "#26828e",
          "pattern": {
           "shape": ""
          }
         },
         "name": "know",
         "offsetgroup": "know",
         "orientation": "v",
         "showlegend": true,
         "text": [
          "better",
          "everything",
          "right",
          "should",
          "their",
          "media",
          "would",
          "because",
          "people",
          "about"
         ],
         "textposition": "auto",
         "type": "bar",
         "x": [
          "know",
          "know",
          "know",
          "know",
          "know",
          "know",
          "know",
          "know",
          "know",
          "know"
         ],
         "xaxis": "x",
         "y": [
          14,
          14,
          18,
          19,
          20,
          20,
          25,
          26,
          53,
          67
         ],
         "yaxis": "y"
        },
        {
         "alignmentgroup": "True",
         "hovertemplate": "Pronoun=%{x}<br>Count=%{y}<br>Word=%{text}<extra></extra>",
         "legendgroup": "believe",
         "marker": {
          "color": "#1f9e89",
          "pattern": {
           "shape": ""
          }
         },
         "name": "believe",
         "offsetgroup": "believe",
         "orientation": "v",
         "showlegend": true,
         "text": [
          "President",
          "anything",
          "their",
          "theories",
          "normal",
          "about",
          "anybody",
          "There",
          "really",
          "people"
         ],
         "textposition": "auto",
         "type": "bar",
         "x": [
          "believe",
          "believe",
          "believe",
          "believe",
          "believe",
          "believe",
          "believe",
          "believe",
          "believe",
          "believe"
         ],
         "xaxis": "x",
         "y": [
          15,
          17,
          17,
          19,
          20,
          21,
          21,
          22,
          28,
          52
         ],
         "yaxis": "y"
        },
        {
         "alignmentgroup": "True",
         "hovertemplate": "Pronoun=%{x}<br>Count=%{y}<br>Word=%{text}<extra></extra>",
         "legendgroup": "have",
         "marker": {
          "color": "#35b779",
          "pattern": {
           "shape": ""
          }
         },
         "name": "have",
         "offsetgroup": "have",
         "orientation": "v",
         "showlegend": true,
         "text": [
          "their",
          "mation",
          "deadly",
          "about",
          "millions",
          "consequences",
          "Americans",
          "should",
          "would",
          "people"
         ],
         "textposition": "auto",
         "type": "bar",
         "x": [
          "have",
          "have",
          "have",
          "have",
          "have",
          "have",
          "have",
          "have",
          "have",
          "have"
         ],
         "xaxis": "x",
         "y": [
          60,
          60,
          62,
          63,
          64,
          65,
          69,
          75,
          85,
          93
         ],
         "yaxis": "y"
        }
       ],
       "layout": {
        "barmode": "relative",
        "hovermode": "closest",
        "legend": {
         "title": {
          "text": "Pronoun"
         },
         "tracegroupgap": 0
        },
        "template": {
         "data": {
          "bar": [
           {
            "error_x": {
             "color": "#2a3f5f"
            },
            "error_y": {
             "color": "#2a3f5f"
            },
            "marker": {
             "line": {
              "color": "#E5ECF6",
              "width": 0.5
             },
             "pattern": {
              "fillmode": "overlay",
              "size": 10,
              "solidity": 0.2
             }
            },
            "type": "bar"
           }
          ],
          "barpolar": [
           {
            "marker": {
             "line": {
              "color": "#E5ECF6",
              "width": 0.5
             },
             "pattern": {
              "fillmode": "overlay",
              "size": 10,
              "solidity": 0.2
             }
            },
            "type": "barpolar"
           }
          ],
          "carpet": [
           {
            "aaxis": {
             "endlinecolor": "#2a3f5f",
             "gridcolor": "white",
             "linecolor": "white",
             "minorgridcolor": "white",
             "startlinecolor": "#2a3f5f"
            },
            "baxis": {
             "endlinecolor": "#2a3f5f",
             "gridcolor": "white",
             "linecolor": "white",
             "minorgridcolor": "white",
             "startlinecolor": "#2a3f5f"
            },
            "type": "carpet"
           }
          ],
          "choropleth": [
           {
            "colorbar": {
             "outlinewidth": 0,
             "ticks": ""
            },
            "type": "choropleth"
           }
          ],
          "contour": [
           {
            "colorbar": {
             "outlinewidth": 0,
             "ticks": ""
            },
            "colorscale": [
             [
              0,
              "#0d0887"
             ],
             [
              0.1111111111111111,
              "#46039f"
             ],
             [
              0.2222222222222222,
              "#7201a8"
             ],
             [
              0.3333333333333333,
              "#9c179e"
             ],
             [
              0.4444444444444444,
              "#bd3786"
             ],
             [
              0.5555555555555556,
              "#d8576b"
             ],
             [
              0.6666666666666666,
              "#ed7953"
             ],
             [
              0.7777777777777778,
              "#fb9f3a"
             ],
             [
              0.8888888888888888,
              "#fdca26"
             ],
             [
              1,
              "#f0f921"
             ]
            ],
            "type": "contour"
           }
          ],
          "contourcarpet": [
           {
            "colorbar": {
             "outlinewidth": 0,
             "ticks": ""
            },
            "type": "contourcarpet"
           }
          ],
          "heatmap": [
           {
            "colorbar": {
             "outlinewidth": 0,
             "ticks": ""
            },
            "colorscale": [
             [
              0,
              "#0d0887"
             ],
             [
              0.1111111111111111,
              "#46039f"
             ],
             [
              0.2222222222222222,
              "#7201a8"
             ],
             [
              0.3333333333333333,
              "#9c179e"
             ],
             [
              0.4444444444444444,
              "#bd3786"
             ],
             [
              0.5555555555555556,
              "#d8576b"
             ],
             [
              0.6666666666666666,
              "#ed7953"
             ],
             [
              0.7777777777777778,
              "#fb9f3a"
             ],
             [
              0.8888888888888888,
              "#fdca26"
             ],
             [
              1,
              "#f0f921"
             ]
            ],
            "type": "heatmap"
           }
          ],
          "heatmapgl": [
           {
            "colorbar": {
             "outlinewidth": 0,
             "ticks": ""
            },
            "colorscale": [
             [
              0,
              "#0d0887"
             ],
             [
              0.1111111111111111,
              "#46039f"
             ],
             [
              0.2222222222222222,
              "#7201a8"
             ],
             [
              0.3333333333333333,
              "#9c179e"
             ],
             [
              0.4444444444444444,
              "#bd3786"
             ],
             [
              0.5555555555555556,
              "#d8576b"
             ],
             [
              0.6666666666666666,
              "#ed7953"
             ],
             [
              0.7777777777777778,
              "#fb9f3a"
             ],
             [
              0.8888888888888888,
              "#fdca26"
             ],
             [
              1,
              "#f0f921"
             ]
            ],
            "type": "heatmapgl"
           }
          ],
          "histogram": [
           {
            "marker": {
             "pattern": {
              "fillmode": "overlay",
              "size": 10,
              "solidity": 0.2
             }
            },
            "type": "histogram"
           }
          ],
          "histogram2d": [
           {
            "colorbar": {
             "outlinewidth": 0,
             "ticks": ""
            },
            "colorscale": [
             [
              0,
              "#0d0887"
             ],
             [
              0.1111111111111111,
              "#46039f"
             ],
             [
              0.2222222222222222,
              "#7201a8"
             ],
             [
              0.3333333333333333,
              "#9c179e"
             ],
             [
              0.4444444444444444,
              "#bd3786"
             ],
             [
              0.5555555555555556,
              "#d8576b"
             ],
             [
              0.6666666666666666,
              "#ed7953"
             ],
             [
              0.7777777777777778,
              "#fb9f3a"
             ],
             [
              0.8888888888888888,
              "#fdca26"
             ],
             [
              1,
              "#f0f921"
             ]
            ],
            "type": "histogram2d"
           }
          ],
          "histogram2dcontour": [
           {
            "colorbar": {
             "outlinewidth": 0,
             "ticks": ""
            },
            "colorscale": [
             [
              0,
              "#0d0887"
             ],
             [
              0.1111111111111111,
              "#46039f"
             ],
             [
              0.2222222222222222,
              "#7201a8"
             ],
             [
              0.3333333333333333,
              "#9c179e"
             ],
             [
              0.4444444444444444,
              "#bd3786"
             ],
             [
              0.5555555555555556,
              "#d8576b"
             ],
             [
              0.6666666666666666,
              "#ed7953"
             ],
             [
              0.7777777777777778,
              "#fb9f3a"
             ],
             [
              0.8888888888888888,
              "#fdca26"
             ],
             [
              1,
              "#f0f921"
             ]
            ],
            "type": "histogram2dcontour"
           }
          ],
          "mesh3d": [
           {
            "colorbar": {
             "outlinewidth": 0,
             "ticks": ""
            },
            "type": "mesh3d"
           }
          ],
          "parcoords": [
           {
            "line": {
             "colorbar": {
              "outlinewidth": 0,
              "ticks": ""
             }
            },
            "type": "parcoords"
           }
          ],
          "pie": [
           {
            "automargin": true,
            "type": "pie"
           }
          ],
          "scatter": [
           {
            "marker": {
             "colorbar": {
              "outlinewidth": 0,
              "ticks": ""
             }
            },
            "type": "scatter"
           }
          ],
          "scatter3d": [
           {
            "line": {
             "colorbar": {
              "outlinewidth": 0,
              "ticks": ""
             }
            },
            "marker": {
             "colorbar": {
              "outlinewidth": 0,
              "ticks": ""
             }
            },
            "type": "scatter3d"
           }
          ],
          "scattercarpet": [
           {
            "marker": {
             "colorbar": {
              "outlinewidth": 0,
              "ticks": ""
             }
            },
            "type": "scattercarpet"
           }
          ],
          "scattergeo": [
           {
            "marker": {
             "colorbar": {
              "outlinewidth": 0,
              "ticks": ""
             }
            },
            "type": "scattergeo"
           }
          ],
          "scattergl": [
           {
            "marker": {
             "colorbar": {
              "outlinewidth": 0,
              "ticks": ""
             }
            },
            "type": "scattergl"
           }
          ],
          "scattermapbox": [
           {
            "marker": {
             "colorbar": {
              "outlinewidth": 0,
              "ticks": ""
             }
            },
            "type": "scattermapbox"
           }
          ],
          "scatterpolar": [
           {
            "marker": {
             "colorbar": {
              "outlinewidth": 0,
              "ticks": ""
             }
            },
            "type": "scatterpolar"
           }
          ],
          "scatterpolargl": [
           {
            "marker": {
             "colorbar": {
              "outlinewidth": 0,
              "ticks": ""
             }
            },
            "type": "scatterpolargl"
           }
          ],
          "scatterternary": [
           {
            "marker": {
             "colorbar": {
              "outlinewidth": 0,
              "ticks": ""
             }
            },
            "type": "scatterternary"
           }
          ],
          "surface": [
           {
            "colorbar": {
             "outlinewidth": 0,
             "ticks": ""
            },
            "colorscale": [
             [
              0,
              "#0d0887"
             ],
             [
              0.1111111111111111,
              "#46039f"
             ],
             [
              0.2222222222222222,
              "#7201a8"
             ],
             [
              0.3333333333333333,
              "#9c179e"
             ],
             [
              0.4444444444444444,
              "#bd3786"
             ],
             [
              0.5555555555555556,
              "#d8576b"
             ],
             [
              0.6666666666666666,
              "#ed7953"
             ],
             [
              0.7777777777777778,
              "#fb9f3a"
             ],
             [
              0.8888888888888888,
              "#fdca26"
             ],
             [
              1,
              "#f0f921"
             ]
            ],
            "type": "surface"
           }
          ],
          "table": [
           {
            "cells": {
             "fill": {
              "color": "#EBF0F8"
             },
             "line": {
              "color": "white"
             }
            },
            "header": {
             "fill": {
              "color": "#C8D4E3"
             },
             "line": {
              "color": "white"
             }
            },
            "type": "table"
           }
          ]
         },
         "layout": {
          "annotationdefaults": {
           "arrowcolor": "#2a3f5f",
           "arrowhead": 0,
           "arrowwidth": 1
          },
          "autotypenumbers": "strict",
          "coloraxis": {
           "colorbar": {
            "outlinewidth": 0,
            "ticks": ""
           }
          },
          "colorscale": {
           "diverging": [
            [
             0,
             "#8e0152"
            ],
            [
             0.1,
             "#c51b7d"
            ],
            [
             0.2,
             "#de77ae"
            ],
            [
             0.3,
             "#f1b6da"
            ],
            [
             0.4,
             "#fde0ef"
            ],
            [
             0.5,
             "#f7f7f7"
            ],
            [
             0.6,
             "#e6f5d0"
            ],
            [
             0.7,
             "#b8e186"
            ],
            [
             0.8,
             "#7fbc41"
            ],
            [
             0.9,
             "#4d9221"
            ],
            [
             1,
             "#276419"
            ]
           ],
           "sequential": [
            [
             0,
             "#0d0887"
            ],
            [
             0.1111111111111111,
             "#46039f"
            ],
            [
             0.2222222222222222,
             "#7201a8"
            ],
            [
             0.3333333333333333,
             "#9c179e"
            ],
            [
             0.4444444444444444,
             "#bd3786"
            ],
            [
             0.5555555555555556,
             "#d8576b"
            ],
            [
             0.6666666666666666,
             "#ed7953"
            ],
            [
             0.7777777777777778,
             "#fb9f3a"
            ],
            [
             0.8888888888888888,
             "#fdca26"
            ],
            [
             1,
             "#f0f921"
            ]
           ],
           "sequentialminus": [
            [
             0,
             "#0d0887"
            ],
            [
             0.1111111111111111,
             "#46039f"
            ],
            [
             0.2222222222222222,
             "#7201a8"
            ],
            [
             0.3333333333333333,
             "#9c179e"
            ],
            [
             0.4444444444444444,
             "#bd3786"
            ],
            [
             0.5555555555555556,
             "#d8576b"
            ],
            [
             0.6666666666666666,
             "#ed7953"
            ],
            [
             0.7777777777777778,
             "#fb9f3a"
            ],
            [
             0.8888888888888888,
             "#fdca26"
            ],
            [
             1,
             "#f0f921"
            ]
           ]
          },
          "colorway": [
           "#636efa",
           "#EF553B",
           "#00cc96",
           "#ab63fa",
           "#FFA15A",
           "#19d3f3",
           "#FF6692",
           "#B6E880",
           "#FF97FF",
           "#FECB52"
          ],
          "font": {
           "color": "#2a3f5f"
          },
          "geo": {
           "bgcolor": "white",
           "lakecolor": "white",
           "landcolor": "#E5ECF6",
           "showlakes": true,
           "showland": true,
           "subunitcolor": "white"
          },
          "hoverlabel": {
           "align": "left"
          },
          "hovermode": "closest",
          "mapbox": {
           "style": "light"
          },
          "paper_bgcolor": "white",
          "plot_bgcolor": "#E5ECF6",
          "polar": {
           "angularaxis": {
            "gridcolor": "white",
            "linecolor": "white",
            "ticks": ""
           },
           "bgcolor": "#E5ECF6",
           "radialaxis": {
            "gridcolor": "white",
            "linecolor": "white",
            "ticks": ""
           }
          },
          "scene": {
           "xaxis": {
            "backgroundcolor": "#E5ECF6",
            "gridcolor": "white",
            "gridwidth": 2,
            "linecolor": "white",
            "showbackground": true,
            "ticks": "",
            "zerolinecolor": "white"
           },
           "yaxis": {
            "backgroundcolor": "#E5ECF6",
            "gridcolor": "white",
            "gridwidth": 2,
            "linecolor": "white",
            "showbackground": true,
            "ticks": "",
            "zerolinecolor": "white"
           },
           "zaxis": {
            "backgroundcolor": "#E5ECF6",
            "gridcolor": "white",
            "gridwidth": 2,
            "linecolor": "white",
            "showbackground": true,
            "ticks": "",
            "zerolinecolor": "white"
           }
          },
          "shapedefaults": {
           "line": {
            "color": "#2a3f5f"
           }
          },
          "ternary": {
           "aaxis": {
            "gridcolor": "white",
            "linecolor": "white",
            "ticks": ""
           },
           "baxis": {
            "gridcolor": "white",
            "linecolor": "white",
            "ticks": ""
           },
           "bgcolor": "#E5ECF6",
           "caxis": {
            "gridcolor": "white",
            "linecolor": "white",
            "ticks": ""
           }
          },
          "title": {
           "x": 0.05
          },
          "xaxis": {
           "automargin": true,
           "gridcolor": "white",
           "linecolor": "white",
           "ticks": "",
           "title": {
            "standoff": 15
           },
           "zerolinecolor": "white",
           "zerolinewidth": 2
          },
          "yaxis": {
           "automargin": true,
           "gridcolor": "white",
           "linecolor": "white",
           "ticks": "",
           "title": {
            "standoff": 15
           },
           "zerolinecolor": "white",
           "zerolinewidth": 2
          }
         }
        },
        "title": {
         "text": "10 Most Common Words (all types) Alongside The Most Frequent Verbs From Concorded Pronouns."
        },
        "xaxis": {
         "anchor": "y",
         "categoryarray": [
          "tell",
          "need",
          "want",
          "think",
          "know",
          "believe",
          "have"
         ],
         "categoryorder": "array",
         "domain": [
          0,
          1
         ],
         "title": {
          "text": "Pronoun"
         }
        },
        "yaxis": {
         "anchor": "x",
         "domain": [
          0,
          1
         ],
         "title": {
          "text": "Count"
         }
        }
       }
      }
     },
     "metadata": {}
    }
   ],
   "metadata": {}
  },
  {
   "cell_type": "code",
   "execution_count": null,
   "source": [],
   "outputs": [],
   "metadata": {}
  }
 ],
 "metadata": {
  "kernelspec": {
   "name": "python3",
   "display_name": "Python 3.8.11 64-bit ('base': conda)"
  },
  "language_info": {
   "name": "python",
   "version": "3.8.11",
   "mimetype": "text/x-python",
   "codemirror_mode": {
    "name": "ipython",
    "version": 3
   },
   "pygments_lexer": "ipython3",
   "nbconvert_exporter": "python",
   "file_extension": ".py"
  },
  "interpreter": {
   "hash": "6c91f7360f31a60595970ce0519c225953292631b532536816811087a825ec9b"
  }
 },
 "nbformat": 4,
 "nbformat_minor": 5
}