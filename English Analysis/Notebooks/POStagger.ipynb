{
 "cells": [
  {
   "cell_type": "code",
   "execution_count": 16,
   "metadata": {},
   "outputs": [],
   "source": [
    "import nltk\n",
    "import re\n",
    "import multiprocessing as mp\n",
    "import plotly.express as px\n",
    "from string import punctuation\n",
    "import import_ipynb\n",
    "import prepro"
   ]
  },
  {
   "cell_type": "markdown",
   "metadata": {},
   "source": [
    "# This file carries out POS tagging and places them in a graph"
   ]
  },
  {
   "cell_type": "code",
   "execution_count": 3,
   "metadata": {},
   "outputs": [],
   "source": [
    "# Creates a new file, takes the base concordance file and runs POS tagging.\n",
    "# This code strips the concordance down to left and right of the query (word concordance query)\n",
    "def concordance_word_type(query, wordtype):\n",
    "    stripped_string = []\n",
    "\n",
    "    with open('../March-No-Retweets/Concordance/'+ wordtype+'/concordance_'+ query + '.txt', 'r', encoding='utf8') as f:\n",
    "        for line in f.readlines():\n",
    "            stripped_string.append(nltk.word_tokenize(line.rstrip(\"\\n\")))\n",
    "\n",
    "    return posTag(stripped_string, query)"
   ]
  },
  {
   "cell_type": "code",
   "execution_count": 9,
   "metadata": {},
   "outputs": [],
   "source": [
    "def posTag(stripped_string, query):\n",
    "    # POS tag the entire concordance.\n",
    "    k=[]\n",
    "    for line in stripped_string:\n",
    "        token = nltk.pos_tag(line) #nltk.word_tokenize(line))\n",
    "        k.append(token)\n",
    "\n",
    "    nouns = getNouns(k, query)\n",
    "\n",
    "    #verbs = getVerbs(k, query)\n",
    "    #adj = get_adjective(token, query)\n",
    "    #all_types = get_all(k, query)\n",
    "    return nouns"
   ]
  },
  {
   "cell_type": "code",
   "execution_count": 86,
   "metadata": {},
   "outputs": [],
   "source": [
    "def get_all(token, query):\n",
    "    exclude = [\"hundred\", \"thousand\", \"dont\", \"they\", \"theyre\", \"would\", \"cant\"]\n",
    "    most_common_any = []\n",
    "\n",
    "    for ls in token:\n",
    "        for i, j in ls:\n",
    "\n",
    "            if i not in exclude:\n",
    "                if len(i) >= 4:\n",
    "                    most_common_any.append(i)\n",
    "\n",
    "    any_frq = nltk.FreqDist(any for any in most_common_any)\n",
    "    most_common_any = any_frq.most_common(20)\n",
    "    return most_common_any"
   ]
  },
  {
   "cell_type": "code",
   "execution_count": 5,
   "metadata": {},
   "outputs": [],
   "source": [
    "# get all nouns and return the 20 most common\n",
    "def getNouns(token, query):\n",
    "    exclude = [\"hundred\", \"thousand\", \"dont\", \"they\", \"theyre\", \"would\", \"cant\"]\n",
    "    most_common_nouns = []\n",
    "\n",
    "    for ls in token:\n",
    "        for i, j in ls:\n",
    "            if i not in exclude:\n",
    "                if 'NN' in j and len(i) > 4:\n",
    "                    most_common_nouns.append(i)\n",
    "\n",
    "    noun_frq = nltk.FreqDist(noun for noun in most_common_nouns)\n",
    "    most_common_nouns = noun_frq.most_common(20)\n",
    "    return most_common_nouns"
   ]
  },
  {
   "cell_type": "code",
   "execution_count": 52,
   "metadata": {},
   "outputs": [],
   "source": [
    "# get all verbs and return the 20 most common\n",
    "def getVerbs(token, query):\n",
    "    exclude = [\"hundred\", \"thousand\"]\n",
    "    most_common_verbs = []\n",
    "\n",
    "    for ls in token:\n",
    "        for i, j in ls:\n",
    "            if i not in exclude:\n",
    "                if 'V' in j and len(i) >= 4:\n",
    "                    most_common_verbs.append(i)\n",
    "\n",
    "    verb_frq = nltk.FreqDist(verb for verb in most_common_verbs)\n",
    "    most_common_verbs = verb_frq.most_common(20)\n",
    "\n",
    "    return most_common_verbs"
   ]
  },
  {
   "cell_type": "code",
   "execution_count": 19,
   "metadata": {},
   "outputs": [],
   "source": [
    "def get_adjective(token, query):\n",
    "    most_common_adj = []\n",
    "    for i, j in token:\n",
    "        if 'J' in j and len(i) >= 3:\n",
    "            most_common_adj.append(i)\n",
    "    adj_frq = nltk.FreqDist(verb for verb in most_common_adj)\n",
    "    most_common_adj = adj_frq.most_common(20)\n",
    "\n",
    "    return most_common_adj"
   ]
  },
  {
   "cell_type": "code",
   "execution_count": 6,
   "metadata": {},
   "outputs": [],
   "source": [
    "# Function to sort the list of tuples by its second item\n",
    "def Sort_Tuple(tup): \n",
    "    # getting length of list of tuples\n",
    "    lst = len(tup)\n",
    "    for i in range(0, lst):\n",
    "        for j in range(0, lst-i-1):\n",
    "            if (tup[j][1] > tup[j + 1][1]): \n",
    "                temp = tup[j] \n",
    "                tup[j]= tup[j + 1] \n",
    "                tup[j + 1]= temp \n",
    "    return tup\n",
    "\n",
    "# Function to remove single letter 'e' which cropped up in Russian dataset.\n",
    "def remove_single_letter_words(tup):\n",
    "    for i in tup:\n",
    "        if i[0] == 'е':\n",
    "            tup.remove(i)\n",
    "    return tup"
   ]
  },
  {
   "cell_type": "code",
   "execution_count": null,
   "metadata": {},
   "outputs": [],
   "source": [
    "import plotly.express as px\n",
    "import pandas as pd\n",
    "\n",
    "# Function which creates a dataframe containing\n",
    "# the verb tuple and associated pronoun. \n",
    "def dataframer(words_tuple, pnoun):\n",
    "    data = {}\n",
    "    counter = []\n",
    "    words = []\n",
    "\n",
    "    for i in words_tuple:\n",
    "        j, k = i\n",
    "        words.append(j)\n",
    "        counter.append(k)\n",
    "\n",
    "    for pronoun in range(len(words)):\n",
    "        data[\"Pronoun\"] = pnoun\n",
    "        data[\"Word\"] = words\n",
    "        data[\"Count\"] = counter\n",
    "\n",
    "    df_new = pd.DataFrame(data=data)\n",
    "    return df_new"
   ]
  },
  {
   "cell_type": "code",
   "execution_count": null,
   "metadata": {},
   "outputs": [],
   "source": [
    "# Function to automate Concordance and POS tagging\n",
    "# Takes a list of words which are the relevant files the concordance was carried out on.\n",
    "def automatic_concordance_stripping(vocab):\n",
    "    ls = []\n",
    "    for i in vocab:\n",
    "        ls_tup = concordance_word_type(i, 'Verbs')[1:]\n",
    "        ls.append((Sort_Tuple(ls_tup), i))\n",
    "\n",
    "    return ls"
   ]
  },
  {
   "cell_type": "markdown",
   "metadata": {},
   "source": [
    "Below function creates a graph based on the tuple of data provided.\n",
    "The end goal is to produce a stacked bar chart displaying the frequency\n",
    "of commonly occuring words associated with the concorded word.\n",
    "For example \n",
    "\n",
    "- [a list containing a tuple]\n",
    "- (a tuple containing a list of words and their frequency, and the number of results the user wants to see)\n",
    "\n",
    "** Need to return the result as a percentage not a count **\n"
   ]
  },
  {
   "cell_type": "code",
   "execution_count": null,
   "metadata": {},
   "outputs": [],
   "source": [
    "# Function takes a tuple of the (list of words) and the (concorded word) and the most frequent (X)\n",
    "# That the user wants returned.\n",
    "# Returns a stacked bar chart of the processed data.\n",
    "def bar_stacked(list_of_tuples, x, title):\n",
    "    x = -abs(x)\n",
    "    df = pd.DataFrame(columns=[\"Pronoun\", \"Word\", \"Count\"])\n",
    "    # i_df = dataframer(verbs_I[-5:], \"I\")\n",
    "    new = df\n",
    "\n",
    "    for i, j in list_of_tuples:\n",
    "        temp = dataframer(i[x:], j)\n",
    "        new = new.append(temp)\n",
    "\n",
    "    new = new.sort_values(by=['Count'], ascending=True)\n",
    "\n",
    "    fig = px.bar(new, x=\"Pronoun\", y=\"Count\", color=\"Pronoun\", title=title, text=new['Word'], color_discrete_sequence=px.colors.sequential.Viridis)\n",
    "    fig.update_layout(hovermode=\"closest\")\n",
    "\n",
    "    fig.write_html(\"../Images/pronoun-nouns-file.html\")\n",
    "\n",
    "    fig.show()"
   ]
  },
  {
   "cell_type": "code",
   "execution_count": null,
   "metadata": {},
   "outputs": [],
   "source": [
    "pronouns =[\"I\", \"They\", \"We\", \"My\", \"Us\", \"You\", \"Me\"]\n",
    "\n",
    "ls_pronouns = automatic_concordance_stripping(pronouns)"
   ]
  },
  {
   "cell_type": "code",
   "execution_count": null,
   "metadata": {},
   "outputs": [],
   "source": [
    "ls_of_pros = []\n",
    "\n",
    "for i in ls_pronouns:\n",
    "    ls_of_pros.append(i)\n",
    "    \n",
    "bar_stacked(ls_of_pros, 10, \"10 Most Common Verbs Found Alongside English Pronouns\")"
   ]
  },
  {
   "cell_type": "code",
   "execution_count": 57,
   "metadata": {},
   "outputs": [
    {
     "data": {
      "application/vnd.plotly.v1+json": {
       "config": {
        "plotlyServerURL": "https://plot.ly"
       },
       "data": [
        {
         "alignmentgroup": "True",
         "hovertemplate": "Pronoun=%{x}<br>Count=%{y}<br>Word=%{text}<extra></extra>",
         "legendgroup": "Us",
         "marker": {
          "color": "#440154",
          "pattern": {
           "shape": ""
          }
         },
         "name": "Us",
         "offsetgroup": "Us",
         "orientation": "v",
         "showlegend": true,
         "text": [
          "designed",
          "spread",
          "china",
          "look",
          "medium",
          "lying",
          "trump",
          "know",
          "want",
          "believe"
         ],
         "textposition": "auto",
         "type": "bar",
         "x": [
          "Us",
          "Us",
          "Us",
          "Us",
          "Us",
          "Us",
          "Us",
          "Us",
          "Us",
          "Us"
         ],
         "xaxis": "x",
         "y": [
          3,
          3,
          3,
          3,
          4,
          4,
          5,
          6,
          6,
          7
         ],
         "yaxis": "y"
        },
        {
         "alignmentgroup": "True",
         "hovertemplate": "Pronoun=%{x}<br>Count=%{y}<br>Word=%{text}<extra></extra>",
         "legendgroup": "My",
         "marker": {
          "color": "#482878",
          "pattern": {
           "shape": ""
          }
         },
         "name": "My",
         "offsetgroup": "My",
         "orientation": "v",
         "showlegend": true,
         "text": [
          "spreading",
          "read",
          "believe",
          "said",
          "dont",
          "want",
          "make",
          "going",
          "think",
          "know"
         ],
         "textposition": "auto",
         "type": "bar",
         "x": [
          "My",
          "My",
          "My",
          "My",
          "My",
          "My",
          "My",
          "My",
          "My",
          "My"
         ],
         "xaxis": "x",
         "y": [
          795,
          855,
          880,
          1096,
          1105,
          1170,
          1187,
          1218,
          1394,
          1692
         ],
         "yaxis": "y"
        },
        {
         "alignmentgroup": "True",
         "hovertemplate": "Pronoun=%{x}<br>Count=%{y}<br>Word=%{text}<extra></extra>",
         "legendgroup": "Me",
         "marker": {
          "color": "#3e4989",
          "pattern": {
           "shape": ""
          }
         },
         "name": "Me",
         "offsetgroup": "Me",
         "orientation": "v",
         "showlegend": true,
         "text": [
          "going",
          "told",
          "give",
          "dont",
          "want",
          "believe",
          "think",
          "know",
          "make",
          "tell"
         ],
         "textposition": "auto",
         "type": "bar",
         "x": [
          "Me",
          "Me",
          "Me",
          "Me",
          "Me",
          "Me",
          "Me",
          "Me",
          "Me",
          "Me"
         ],
         "xaxis": "x",
         "y": [
          1078,
          1104,
          1139,
          1299,
          1430,
          1459,
          1687,
          2160,
          2734,
          3290
         ],
         "yaxis": "y"
        },
        {
         "alignmentgroup": "True",
         "hovertemplate": "Pronoun=%{x}<br>Count=%{y}<br>Word=%{text}<extra></extra>",
         "legendgroup": "We",
         "marker": {
          "color": "#31688e",
          "pattern": {
           "shape": ""
          }
         },
         "name": "We",
         "offsetgroup": "We",
         "orientation": "v",
         "showlegend": true,
         "text": [
          "spreading",
          "said",
          "make",
          "believe",
          "going",
          "want",
          "think",
          "dont",
          "need",
          "know"
         ],
         "textposition": "auto",
         "type": "bar",
         "x": [
          "We",
          "We",
          "We",
          "We",
          "We",
          "We",
          "We",
          "We",
          "We",
          "We"
         ],
         "xaxis": "x",
         "y": [
          1867,
          1975,
          2145,
          2362,
          2466,
          2648,
          3032,
          5382,
          7888,
          8777
         ],
         "yaxis": "y"
        },
        {
         "alignmentgroup": "True",
         "hovertemplate": "Pronoun=%{x}<br>Count=%{y}<br>Word=%{text}<extra></extra>",
         "legendgroup": "They",
         "marker": {
          "color": "#26828e",
          "pattern": {
           "shape": ""
          }
         },
         "name": "They",
         "offsetgroup": "They",
         "orientation": "v",
         "showlegend": true,
         "text": [
          "going",
          "said",
          "spreading",
          "make",
          "need",
          "believe",
          "think",
          "want",
          "dont",
          "know"
         ],
         "textposition": "auto",
         "type": "bar",
         "x": [
          "They",
          "They",
          "They",
          "They",
          "They",
          "They",
          "They",
          "They",
          "They",
          "They"
         ],
         "xaxis": "x",
         "y": [
          2666,
          3088,
          3106,
          3599,
          3876,
          4030,
          5067,
          5457,
          6188,
          6727
         ],
         "yaxis": "y"
        },
        {
         "alignmentgroup": "True",
         "hovertemplate": "Pronoun=%{x}<br>Count=%{y}<br>Word=%{text}<extra></extra>",
         "legendgroup": "I",
         "marker": {
          "color": "#1f9e89",
          "pattern": {
           "shape": ""
          }
         },
         "name": "I",
         "offsetgroup": "I",
         "orientation": "v",
         "showlegend": true,
         "text": [
          "need",
          "make",
          "going",
          "hope",
          "said",
          "want",
          "believe",
          "dont",
          "know",
          "think"
         ],
         "textposition": "auto",
         "type": "bar",
         "x": [
          "I",
          "I",
          "I",
          "I",
          "I",
          "I",
          "I",
          "I",
          "I",
          "I"
         ],
         "xaxis": "x",
         "y": [
          3886,
          4233,
          4324,
          5103,
          5685,
          6096,
          9097,
          11432,
          13900,
          16322
         ],
         "yaxis": "y"
        },
        {
         "alignmentgroup": "True",
         "hovertemplate": "Pronoun=%{x}<br>Count=%{y}<br>Word=%{text}<extra></extra>",
         "legendgroup": "You",
         "marker": {
          "color": "#35b779",
          "pattern": {
           "shape": ""
          }
         },
         "name": "You",
         "offsetgroup": "You",
         "orientation": "v",
         "showlegend": true,
         "text": [
          "said",
          "stop",
          "need",
          "make",
          "want",
          "believe",
          "dont",
          "spreading",
          "think",
          "know"
         ],
         "textposition": "auto",
         "type": "bar",
         "x": [
          "You",
          "You",
          "You",
          "You",
          "You",
          "You",
          "You",
          "You",
          "You",
          "You"
         ],
         "xaxis": "x",
         "y": [
          6223,
          6451,
          7063,
          7914,
          8667,
          9026,
          10085,
          11177,
          11814,
          18623
         ],
         "yaxis": "y"
        }
       ],
       "layout": {
        "barmode": "relative",
        "hovermode": "closest",
        "legend": {
         "title": {
          "text": "Pronoun"
         },
         "tracegroupgap": 0
        },
        "template": {
         "data": {
          "bar": [
           {
            "error_x": {
             "color": "#2a3f5f"
            },
            "error_y": {
             "color": "#2a3f5f"
            },
            "marker": {
             "line": {
              "color": "#E5ECF6",
              "width": 0.5
             },
             "pattern": {
              "fillmode": "overlay",
              "size": 10,
              "solidity": 0.2
             }
            },
            "type": "bar"
           }
          ],
          "barpolar": [
           {
            "marker": {
             "line": {
              "color": "#E5ECF6",
              "width": 0.5
             },
             "pattern": {
              "fillmode": "overlay",
              "size": 10,
              "solidity": 0.2
             }
            },
            "type": "barpolar"
           }
          ],
          "carpet": [
           {
            "aaxis": {
             "endlinecolor": "#2a3f5f",
             "gridcolor": "white",
             "linecolor": "white",
             "minorgridcolor": "white",
             "startlinecolor": "#2a3f5f"
            },
            "baxis": {
             "endlinecolor": "#2a3f5f",
             "gridcolor": "white",
             "linecolor": "white",
             "minorgridcolor": "white",
             "startlinecolor": "#2a3f5f"
            },
            "type": "carpet"
           }
          ],
          "choropleth": [
           {
            "colorbar": {
             "outlinewidth": 0,
             "ticks": ""
            },
            "type": "choropleth"
           }
          ],
          "contour": [
           {
            "colorbar": {
             "outlinewidth": 0,
             "ticks": ""
            },
            "colorscale": [
             [
              0,
              "#0d0887"
             ],
             [
              0.1111111111111111,
              "#46039f"
             ],
             [
              0.2222222222222222,
              "#7201a8"
             ],
             [
              0.3333333333333333,
              "#9c179e"
             ],
             [
              0.4444444444444444,
              "#bd3786"
             ],
             [
              0.5555555555555556,
              "#d8576b"
             ],
             [
              0.6666666666666666,
              "#ed7953"
             ],
             [
              0.7777777777777778,
              "#fb9f3a"
             ],
             [
              0.8888888888888888,
              "#fdca26"
             ],
             [
              1,
              "#f0f921"
             ]
            ],
            "type": "contour"
           }
          ],
          "contourcarpet": [
           {
            "colorbar": {
             "outlinewidth": 0,
             "ticks": ""
            },
            "type": "contourcarpet"
           }
          ],
          "heatmap": [
           {
            "colorbar": {
             "outlinewidth": 0,
             "ticks": ""
            },
            "colorscale": [
             [
              0,
              "#0d0887"
             ],
             [
              0.1111111111111111,
              "#46039f"
             ],
             [
              0.2222222222222222,
              "#7201a8"
             ],
             [
              0.3333333333333333,
              "#9c179e"
             ],
             [
              0.4444444444444444,
              "#bd3786"
             ],
             [
              0.5555555555555556,
              "#d8576b"
             ],
             [
              0.6666666666666666,
              "#ed7953"
             ],
             [
              0.7777777777777778,
              "#fb9f3a"
             ],
             [
              0.8888888888888888,
              "#fdca26"
             ],
             [
              1,
              "#f0f921"
             ]
            ],
            "type": "heatmap"
           }
          ],
          "heatmapgl": [
           {
            "colorbar": {
             "outlinewidth": 0,
             "ticks": ""
            },
            "colorscale": [
             [
              0,
              "#0d0887"
             ],
             [
              0.1111111111111111,
              "#46039f"
             ],
             [
              0.2222222222222222,
              "#7201a8"
             ],
             [
              0.3333333333333333,
              "#9c179e"
             ],
             [
              0.4444444444444444,
              "#bd3786"
             ],
             [
              0.5555555555555556,
              "#d8576b"
             ],
             [
              0.6666666666666666,
              "#ed7953"
             ],
             [
              0.7777777777777778,
              "#fb9f3a"
             ],
             [
              0.8888888888888888,
              "#fdca26"
             ],
             [
              1,
              "#f0f921"
             ]
            ],
            "type": "heatmapgl"
           }
          ],
          "histogram": [
           {
            "marker": {
             "pattern": {
              "fillmode": "overlay",
              "size": 10,
              "solidity": 0.2
             }
            },
            "type": "histogram"
           }
          ],
          "histogram2d": [
           {
            "colorbar": {
             "outlinewidth": 0,
             "ticks": ""
            },
            "colorscale": [
             [
              0,
              "#0d0887"
             ],
             [
              0.1111111111111111,
              "#46039f"
             ],
             [
              0.2222222222222222,
              "#7201a8"
             ],
             [
              0.3333333333333333,
              "#9c179e"
             ],
             [
              0.4444444444444444,
              "#bd3786"
             ],
             [
              0.5555555555555556,
              "#d8576b"
             ],
             [
              0.6666666666666666,
              "#ed7953"
             ],
             [
              0.7777777777777778,
              "#fb9f3a"
             ],
             [
              0.8888888888888888,
              "#fdca26"
             ],
             [
              1,
              "#f0f921"
             ]
            ],
            "type": "histogram2d"
           }
          ],
          "histogram2dcontour": [
           {
            "colorbar": {
             "outlinewidth": 0,
             "ticks": ""
            },
            "colorscale": [
             [
              0,
              "#0d0887"
             ],
             [
              0.1111111111111111,
              "#46039f"
             ],
             [
              0.2222222222222222,
              "#7201a8"
             ],
             [
              0.3333333333333333,
              "#9c179e"
             ],
             [
              0.4444444444444444,
              "#bd3786"
             ],
             [
              0.5555555555555556,
              "#d8576b"
             ],
             [
              0.6666666666666666,
              "#ed7953"
             ],
             [
              0.7777777777777778,
              "#fb9f3a"
             ],
             [
              0.8888888888888888,
              "#fdca26"
             ],
             [
              1,
              "#f0f921"
             ]
            ],
            "type": "histogram2dcontour"
           }
          ],
          "mesh3d": [
           {
            "colorbar": {
             "outlinewidth": 0,
             "ticks": ""
            },
            "type": "mesh3d"
           }
          ],
          "parcoords": [
           {
            "line": {
             "colorbar": {
              "outlinewidth": 0,
              "ticks": ""
             }
            },
            "type": "parcoords"
           }
          ],
          "pie": [
           {
            "automargin": true,
            "type": "pie"
           }
          ],
          "scatter": [
           {
            "marker": {
             "colorbar": {
              "outlinewidth": 0,
              "ticks": ""
             }
            },
            "type": "scatter"
           }
          ],
          "scatter3d": [
           {
            "line": {
             "colorbar": {
              "outlinewidth": 0,
              "ticks": ""
             }
            },
            "marker": {
             "colorbar": {
              "outlinewidth": 0,
              "ticks": ""
             }
            },
            "type": "scatter3d"
           }
          ],
          "scattercarpet": [
           {
            "marker": {
             "colorbar": {
              "outlinewidth": 0,
              "ticks": ""
             }
            },
            "type": "scattercarpet"
           }
          ],
          "scattergeo": [
           {
            "marker": {
             "colorbar": {
              "outlinewidth": 0,
              "ticks": ""
             }
            },
            "type": "scattergeo"
           }
          ],
          "scattergl": [
           {
            "marker": {
             "colorbar": {
              "outlinewidth": 0,
              "ticks": ""
             }
            },
            "type": "scattergl"
           }
          ],
          "scattermapbox": [
           {
            "marker": {
             "colorbar": {
              "outlinewidth": 0,
              "ticks": ""
             }
            },
            "type": "scattermapbox"
           }
          ],
          "scatterpolar": [
           {
            "marker": {
             "colorbar": {
              "outlinewidth": 0,
              "ticks": ""
             }
            },
            "type": "scatterpolar"
           }
          ],
          "scatterpolargl": [
           {
            "marker": {
             "colorbar": {
              "outlinewidth": 0,
              "ticks": ""
             }
            },
            "type": "scatterpolargl"
           }
          ],
          "scatterternary": [
           {
            "marker": {
             "colorbar": {
              "outlinewidth": 0,
              "ticks": ""
             }
            },
            "type": "scatterternary"
           }
          ],
          "surface": [
           {
            "colorbar": {
             "outlinewidth": 0,
             "ticks": ""
            },
            "colorscale": [
             [
              0,
              "#0d0887"
             ],
             [
              0.1111111111111111,
              "#46039f"
             ],
             [
              0.2222222222222222,
              "#7201a8"
             ],
             [
              0.3333333333333333,
              "#9c179e"
             ],
             [
              0.4444444444444444,
              "#bd3786"
             ],
             [
              0.5555555555555556,
              "#d8576b"
             ],
             [
              0.6666666666666666,
              "#ed7953"
             ],
             [
              0.7777777777777778,
              "#fb9f3a"
             ],
             [
              0.8888888888888888,
              "#fdca26"
             ],
             [
              1,
              "#f0f921"
             ]
            ],
            "type": "surface"
           }
          ],
          "table": [
           {
            "cells": {
             "fill": {
              "color": "#EBF0F8"
             },
             "line": {
              "color": "white"
             }
            },
            "header": {
             "fill": {
              "color": "#C8D4E3"
             },
             "line": {
              "color": "white"
             }
            },
            "type": "table"
           }
          ]
         },
         "layout": {
          "annotationdefaults": {
           "arrowcolor": "#2a3f5f",
           "arrowhead": 0,
           "arrowwidth": 1
          },
          "autotypenumbers": "strict",
          "coloraxis": {
           "colorbar": {
            "outlinewidth": 0,
            "ticks": ""
           }
          },
          "colorscale": {
           "diverging": [
            [
             0,
             "#8e0152"
            ],
            [
             0.1,
             "#c51b7d"
            ],
            [
             0.2,
             "#de77ae"
            ],
            [
             0.3,
             "#f1b6da"
            ],
            [
             0.4,
             "#fde0ef"
            ],
            [
             0.5,
             "#f7f7f7"
            ],
            [
             0.6,
             "#e6f5d0"
            ],
            [
             0.7,
             "#b8e186"
            ],
            [
             0.8,
             "#7fbc41"
            ],
            [
             0.9,
             "#4d9221"
            ],
            [
             1,
             "#276419"
            ]
           ],
           "sequential": [
            [
             0,
             "#0d0887"
            ],
            [
             0.1111111111111111,
             "#46039f"
            ],
            [
             0.2222222222222222,
             "#7201a8"
            ],
            [
             0.3333333333333333,
             "#9c179e"
            ],
            [
             0.4444444444444444,
             "#bd3786"
            ],
            [
             0.5555555555555556,
             "#d8576b"
            ],
            [
             0.6666666666666666,
             "#ed7953"
            ],
            [
             0.7777777777777778,
             "#fb9f3a"
            ],
            [
             0.8888888888888888,
             "#fdca26"
            ],
            [
             1,
             "#f0f921"
            ]
           ],
           "sequentialminus": [
            [
             0,
             "#0d0887"
            ],
            [
             0.1111111111111111,
             "#46039f"
            ],
            [
             0.2222222222222222,
             "#7201a8"
            ],
            [
             0.3333333333333333,
             "#9c179e"
            ],
            [
             0.4444444444444444,
             "#bd3786"
            ],
            [
             0.5555555555555556,
             "#d8576b"
            ],
            [
             0.6666666666666666,
             "#ed7953"
            ],
            [
             0.7777777777777778,
             "#fb9f3a"
            ],
            [
             0.8888888888888888,
             "#fdca26"
            ],
            [
             1,
             "#f0f921"
            ]
           ]
          },
          "colorway": [
           "#636efa",
           "#EF553B",
           "#00cc96",
           "#ab63fa",
           "#FFA15A",
           "#19d3f3",
           "#FF6692",
           "#B6E880",
           "#FF97FF",
           "#FECB52"
          ],
          "font": {
           "color": "#2a3f5f"
          },
          "geo": {
           "bgcolor": "white",
           "lakecolor": "white",
           "landcolor": "#E5ECF6",
           "showlakes": true,
           "showland": true,
           "subunitcolor": "white"
          },
          "hoverlabel": {
           "align": "left"
          },
          "hovermode": "closest",
          "mapbox": {
           "style": "light"
          },
          "paper_bgcolor": "white",
          "plot_bgcolor": "#E5ECF6",
          "polar": {
           "angularaxis": {
            "gridcolor": "white",
            "linecolor": "white",
            "ticks": ""
           },
           "bgcolor": "#E5ECF6",
           "radialaxis": {
            "gridcolor": "white",
            "linecolor": "white",
            "ticks": ""
           }
          },
          "scene": {
           "xaxis": {
            "backgroundcolor": "#E5ECF6",
            "gridcolor": "white",
            "gridwidth": 2,
            "linecolor": "white",
            "showbackground": true,
            "ticks": "",
            "zerolinecolor": "white"
           },
           "yaxis": {
            "backgroundcolor": "#E5ECF6",
            "gridcolor": "white",
            "gridwidth": 2,
            "linecolor": "white",
            "showbackground": true,
            "ticks": "",
            "zerolinecolor": "white"
           },
           "zaxis": {
            "backgroundcolor": "#E5ECF6",
            "gridcolor": "white",
            "gridwidth": 2,
            "linecolor": "white",
            "showbackground": true,
            "ticks": "",
            "zerolinecolor": "white"
           }
          },
          "shapedefaults": {
           "line": {
            "color": "#2a3f5f"
           }
          },
          "ternary": {
           "aaxis": {
            "gridcolor": "white",
            "linecolor": "white",
            "ticks": ""
           },
           "baxis": {
            "gridcolor": "white",
            "linecolor": "white",
            "ticks": ""
           },
           "bgcolor": "#E5ECF6",
           "caxis": {
            "gridcolor": "white",
            "linecolor": "white",
            "ticks": ""
           }
          },
          "title": {
           "x": 0.05
          },
          "xaxis": {
           "automargin": true,
           "gridcolor": "white",
           "linecolor": "white",
           "ticks": "",
           "title": {
            "standoff": 15
           },
           "zerolinecolor": "white",
           "zerolinewidth": 2
          },
          "yaxis": {
           "automargin": true,
           "gridcolor": "white",
           "linecolor": "white",
           "ticks": "",
           "title": {
            "standoff": 15
           },
           "zerolinecolor": "white",
           "zerolinewidth": 2
          }
         }
        },
        "title": {
         "text": "10 Most Common Verbs Found Alongside English Pronouns"
        },
        "xaxis": {
         "anchor": "y",
         "categoryarray": [
          "Us",
          "My",
          "Me",
          "We",
          "They",
          "I",
          "You"
         ],
         "categoryorder": "array",
         "domain": [
          0,
          1
         ],
         "title": {
          "text": "Pronoun"
         }
        },
        "yaxis": {
         "anchor": "x",
         "domain": [
          0,
          1
         ],
         "title": {
          "text": "Count"
         }
        }
       }
      }
     },
     "metadata": {},
     "output_type": "display_data"
    }
   ],
   "source": [
    "bar_stacked(ls_of_pros, 10, \"10 Most Common Verbs Found Alongside English Pronouns\")"
   ]
  },
  {
   "cell_type": "code",
   "execution_count": 11,
   "metadata": {},
   "outputs": [],
   "source": [
    "vocab = [\"believe\", \"think\", \"know\", \"tell\", \"need\", \"want\", \"read\", \"spreading\", \"stop\", \"give\"]\n",
    "\n",
    "ls_vrb_adj = automatic_concordance_stripping(vocab)"
   ]
  },
  {
   "cell_type": "code",
   "execution_count": 18,
   "metadata": {},
   "outputs": [
    {
     "data": {
      "application/vnd.plotly.v1+json": {
       "config": {
        "plotlyServerURL": "https://plot.ly"
       },
       "data": [
        {
         "alignmentgroup": "True",
         "hovertemplate": "Pronoun=%{x}<br>Count=%{y}<br>Word=%{text}<extra></extra>",
         "legendgroup": "give",
         "marker": {
          "color": "#440154",
          "pattern": {
           "shape": ""
          }
         },
         "name": "give",
         "offsetgroup": "give",
         "orientation": "v",
         "showlegend": true,
         "text": [
          "group",
          "country",
          "friend",
          "please",
          "opinion",
          "thing",
          "point",
          "money",
          "trump",
          "theory"
         ],
         "textposition": "auto",
         "type": "bar",
         "x": [
          "give",
          "give",
          "give",
          "give",
          "give",
          "give",
          "give",
          "give",
          "give",
          "give"
         ],
         "xaxis": "x",
         "y": [
          16,
          16,
          17,
          18,
          19,
          19,
          20,
          22,
          31,
          39
         ],
         "yaxis": "y"
        },
        {
         "alignmentgroup": "True",
         "hovertemplate": "Pronoun=%{x}<br>Count=%{y}<br>Word=%{text}<extra></extra>",
         "legendgroup": "stop",
         "marker": {
          "color": "#482878",
          "pattern": {
           "shape": ""
          }
         },
         "name": "stop",
         "offsetgroup": "stop",
         "orientation": "v",
         "showlegend": true,
         "text": [
          "nothing",
          "virus",
          "thats",
          "president",
          "medium",
          "spreading",
          "thing",
          "trump",
          "please",
          "theory"
         ],
         "textposition": "auto",
         "type": "bar",
         "x": [
          "stop",
          "stop",
          "stop",
          "stop",
          "stop",
          "stop",
          "stop",
          "stop",
          "stop",
          "stop"
         ],
         "xaxis": "x",
         "y": [
          26,
          28,
          28,
          32,
          34,
          36,
          41,
          57,
          74,
          82
         ],
         "yaxis": "y"
        },
        {
         "alignmentgroup": "True",
         "hovertemplate": "Pronoun=%{x}<br>Count=%{y}<br>Word=%{text}<extra></extra>",
         "legendgroup": "think",
         "marker": {
          "color": "#3e4989",
          "pattern": {
           "shape": ""
          }
         },
         "name": "think",
         "offsetgroup": "think",
         "orientation": "v",
         "showlegend": true,
         "text": [
          "anyone",
          "world",
          "someone",
          "medium",
          "thats",
          "something",
          "trump",
          "thing",
          "think",
          "theory"
         ],
         "textposition": "auto",
         "type": "bar",
         "x": [
          "think",
          "think",
          "think",
          "think",
          "think",
          "think",
          "think",
          "think",
          "think",
          "think"
         ],
         "xaxis": "x",
         "y": [
          47,
          47,
          54,
          60,
          64,
          67,
          68,
          78,
          108,
          130
         ],
         "yaxis": "y"
        },
        {
         "alignmentgroup": "True",
         "hovertemplate": "Pronoun=%{x}<br>Count=%{y}<br>Word=%{text}<extra></extra>",
         "legendgroup": "need",
         "marker": {
          "color": "#31688e",
          "pattern": {
           "shape": ""
          }
         },
         "name": "need",
         "offsetgroup": "need",
         "orientation": "v",
         "showlegend": true,
         "text": [
          "thing",
          "theory",
          "virus",
          "world",
          "president",
          "country",
          "information",
          "medium",
          "china",
          "trump"
         ],
         "textposition": "auto",
         "type": "bar",
         "x": [
          "need",
          "need",
          "need",
          "need",
          "need",
          "need",
          "need",
          "need",
          "need",
          "need"
         ],
         "xaxis": "x",
         "y": [
          60,
          65,
          70,
          80,
          84,
          89,
          89,
          112,
          123,
          152
         ],
         "yaxis": "y"
        },
        {
         "alignmentgroup": "True",
         "hovertemplate": "Pronoun=%{x}<br>Count=%{y}<br>Word=%{text}<extra></extra>",
         "legendgroup": "know",
         "marker": {
          "color": "#26828e",
          "pattern": {
           "shape": ""
          }
         },
         "name": "know",
         "offsetgroup": "know",
         "orientation": "v",
         "showlegend": true,
         "text": [
          "someone",
          "anyone",
          "medium",
          "virus",
          "trump",
          "family",
          "friend",
          "thats",
          "thing",
          "theory"
         ],
         "textposition": "auto",
         "type": "bar",
         "x": [
          "know",
          "know",
          "know",
          "know",
          "know",
          "know",
          "know",
          "know",
          "know",
          "know"
         ],
         "xaxis": "x",
         "y": [
          68,
          69,
          76,
          80,
          87,
          91,
          92,
          100,
          101,
          184
         ],
         "yaxis": "y"
        },
        {
         "alignmentgroup": "True",
         "hovertemplate": "Pronoun=%{x}<br>Count=%{y}<br>Word=%{text}<extra></extra>",
         "legendgroup": "tell",
         "marker": {
          "color": "#1f9e89",
          "pattern": {
           "shape": ""
          }
         },
         "name": "tell",
         "offsetgroup": "tell",
         "orientation": "v",
         "showlegend": true,
         "text": [
          "please",
          "everything",
          "china",
          "government",
          "story",
          "thing",
          "world",
          "trump",
          "medium",
          "truth"
         ],
         "textposition": "auto",
         "type": "bar",
         "x": [
          "tell",
          "tell",
          "tell",
          "tell",
          "tell",
          "tell",
          "tell",
          "tell",
          "tell",
          "tell"
         ],
         "xaxis": "x",
         "y": [
          86,
          86,
          87,
          90,
          93,
          103,
          110,
          186,
          194,
          244
         ],
         "yaxis": "y"
        },
        {
         "alignmentgroup": "True",
         "hovertemplate": "Pronoun=%{x}<br>Count=%{y}<br>Word=%{text}<extra></extra>",
         "legendgroup": "want",
         "marker": {
          "color": "#35b779",
          "pattern": {
           "shape": ""
          }
         },
         "name": "want",
         "offsetgroup": "want",
         "orientation": "v",
         "showlegend": true,
         "text": [
          "world",
          "government",
          "china",
          "thats",
          "truth",
          "thing",
          "country",
          "president",
          "medium",
          "trump"
         ],
         "textposition": "auto",
         "type": "bar",
         "x": [
          "want",
          "want",
          "want",
          "want",
          "want",
          "want",
          "want",
          "want",
          "want",
          "want"
         ],
         "xaxis": "x",
         "y": [
          115,
          115,
          123,
          134,
          145,
          152,
          169,
          200,
          213,
          281
         ],
         "yaxis": "y"
        },
        {
         "alignmentgroup": "True",
         "hovertemplate": "Pronoun=%{x}<br>Count=%{y}<br>Word=%{text}<extra></extra>",
         "legendgroup": "read",
         "marker": {
          "color": "#6ece58",
          "pattern": {
           "shape": ""
          }
         },
         "name": "read",
         "offsetgroup": "read",
         "orientation": "v",
         "showlegend": true,
         "text": [
          "source",
          "thats",
          "thing",
          "please",
          "everything",
          "tweet",
          "theory",
          "medium",
          "trump",
          "article"
         ],
         "textposition": "auto",
         "type": "bar",
         "x": [
          "read",
          "read",
          "read",
          "read",
          "read",
          "read",
          "read",
          "read",
          "read",
          "read"
         ],
         "xaxis": "x",
         "y": [
          144,
          144,
          158,
          166,
          173,
          186,
          187,
          190,
          221,
          426
         ],
         "yaxis": "y"
        },
        {
         "alignmentgroup": "True",
         "hovertemplate": "Pronoun=%{x}<br>Count=%{y}<br>Word=%{text}<extra></extra>",
         "legendgroup": "spreading",
         "marker": {
          "color": "#b5de2b",
          "pattern": {
           "shape": ""
          }
         },
         "name": "spreading",
         "offsetgroup": "spreading",
         "orientation": "v",
         "showlegend": true,
         "text": [
          "please",
          "information",
          "tweet",
          "thats",
          "thing",
          "trump",
          "theory",
          "virus",
          "medium",
          "spreading"
         ],
         "textposition": "auto",
         "type": "bar",
         "x": [
          "spreading",
          "spreading",
          "spreading",
          "spreading",
          "spreading",
          "spreading",
          "spreading",
          "spreading",
          "spreading",
          "spreading"
         ],
         "xaxis": "x",
         "y": [
          151,
          152,
          153,
          177,
          203,
          254,
          257,
          278,
          280,
          473
         ],
         "yaxis": "y"
        },
        {
         "alignmentgroup": "True",
         "hovertemplate": "Pronoun=%{x}<br>Count=%{y}<br>Word=%{text}<extra></extra>",
         "legendgroup": "believe",
         "marker": {
          "color": "#fde725",
          "pattern": {
           "shape": ""
          }
         },
         "name": "believe",
         "offsetgroup": "believe",
         "orientation": "v",
         "showlegend": true,
         "text": [
          "world",
          "president",
          "thats",
          "china",
          "virus",
          "thing",
          "anything",
          "medium",
          "trump",
          "theory"
         ],
         "textposition": "auto",
         "type": "bar",
         "x": [
          "believe",
          "believe",
          "believe",
          "believe",
          "believe",
          "believe",
          "believe",
          "believe",
          "believe",
          "believe"
         ],
         "xaxis": "x",
         "y": [
          269,
          270,
          311,
          385,
          393,
          422,
          426,
          453,
          601,
          993
         ],
         "yaxis": "y"
        }
       ],
       "layout": {
        "barmode": "relative",
        "hovermode": "closest",
        "legend": {
         "title": {
          "text": "Pronoun"
         },
         "tracegroupgap": 0
        },
        "template": {
         "data": {
          "bar": [
           {
            "error_x": {
             "color": "#2a3f5f"
            },
            "error_y": {
             "color": "#2a3f5f"
            },
            "marker": {
             "line": {
              "color": "#E5ECF6",
              "width": 0.5
             },
             "pattern": {
              "fillmode": "overlay",
              "size": 10,
              "solidity": 0.2
             }
            },
            "type": "bar"
           }
          ],
          "barpolar": [
           {
            "marker": {
             "line": {
              "color": "#E5ECF6",
              "width": 0.5
             },
             "pattern": {
              "fillmode": "overlay",
              "size": 10,
              "solidity": 0.2
             }
            },
            "type": "barpolar"
           }
          ],
          "carpet": [
           {
            "aaxis": {
             "endlinecolor": "#2a3f5f",
             "gridcolor": "white",
             "linecolor": "white",
             "minorgridcolor": "white",
             "startlinecolor": "#2a3f5f"
            },
            "baxis": {
             "endlinecolor": "#2a3f5f",
             "gridcolor": "white",
             "linecolor": "white",
             "minorgridcolor": "white",
             "startlinecolor": "#2a3f5f"
            },
            "type": "carpet"
           }
          ],
          "choropleth": [
           {
            "colorbar": {
             "outlinewidth": 0,
             "ticks": ""
            },
            "type": "choropleth"
           }
          ],
          "contour": [
           {
            "colorbar": {
             "outlinewidth": 0,
             "ticks": ""
            },
            "colorscale": [
             [
              0,
              "#0d0887"
             ],
             [
              0.1111111111111111,
              "#46039f"
             ],
             [
              0.2222222222222222,
              "#7201a8"
             ],
             [
              0.3333333333333333,
              "#9c179e"
             ],
             [
              0.4444444444444444,
              "#bd3786"
             ],
             [
              0.5555555555555556,
              "#d8576b"
             ],
             [
              0.6666666666666666,
              "#ed7953"
             ],
             [
              0.7777777777777778,
              "#fb9f3a"
             ],
             [
              0.8888888888888888,
              "#fdca26"
             ],
             [
              1,
              "#f0f921"
             ]
            ],
            "type": "contour"
           }
          ],
          "contourcarpet": [
           {
            "colorbar": {
             "outlinewidth": 0,
             "ticks": ""
            },
            "type": "contourcarpet"
           }
          ],
          "heatmap": [
           {
            "colorbar": {
             "outlinewidth": 0,
             "ticks": ""
            },
            "colorscale": [
             [
              0,
              "#0d0887"
             ],
             [
              0.1111111111111111,
              "#46039f"
             ],
             [
              0.2222222222222222,
              "#7201a8"
             ],
             [
              0.3333333333333333,
              "#9c179e"
             ],
             [
              0.4444444444444444,
              "#bd3786"
             ],
             [
              0.5555555555555556,
              "#d8576b"
             ],
             [
              0.6666666666666666,
              "#ed7953"
             ],
             [
              0.7777777777777778,
              "#fb9f3a"
             ],
             [
              0.8888888888888888,
              "#fdca26"
             ],
             [
              1,
              "#f0f921"
             ]
            ],
            "type": "heatmap"
           }
          ],
          "heatmapgl": [
           {
            "colorbar": {
             "outlinewidth": 0,
             "ticks": ""
            },
            "colorscale": [
             [
              0,
              "#0d0887"
             ],
             [
              0.1111111111111111,
              "#46039f"
             ],
             [
              0.2222222222222222,
              "#7201a8"
             ],
             [
              0.3333333333333333,
              "#9c179e"
             ],
             [
              0.4444444444444444,
              "#bd3786"
             ],
             [
              0.5555555555555556,
              "#d8576b"
             ],
             [
              0.6666666666666666,
              "#ed7953"
             ],
             [
              0.7777777777777778,
              "#fb9f3a"
             ],
             [
              0.8888888888888888,
              "#fdca26"
             ],
             [
              1,
              "#f0f921"
             ]
            ],
            "type": "heatmapgl"
           }
          ],
          "histogram": [
           {
            "marker": {
             "pattern": {
              "fillmode": "overlay",
              "size": 10,
              "solidity": 0.2
             }
            },
            "type": "histogram"
           }
          ],
          "histogram2d": [
           {
            "colorbar": {
             "outlinewidth": 0,
             "ticks": ""
            },
            "colorscale": [
             [
              0,
              "#0d0887"
             ],
             [
              0.1111111111111111,
              "#46039f"
             ],
             [
              0.2222222222222222,
              "#7201a8"
             ],
             [
              0.3333333333333333,
              "#9c179e"
             ],
             [
              0.4444444444444444,
              "#bd3786"
             ],
             [
              0.5555555555555556,
              "#d8576b"
             ],
             [
              0.6666666666666666,
              "#ed7953"
             ],
             [
              0.7777777777777778,
              "#fb9f3a"
             ],
             [
              0.8888888888888888,
              "#fdca26"
             ],
             [
              1,
              "#f0f921"
             ]
            ],
            "type": "histogram2d"
           }
          ],
          "histogram2dcontour": [
           {
            "colorbar": {
             "outlinewidth": 0,
             "ticks": ""
            },
            "colorscale": [
             [
              0,
              "#0d0887"
             ],
             [
              0.1111111111111111,
              "#46039f"
             ],
             [
              0.2222222222222222,
              "#7201a8"
             ],
             [
              0.3333333333333333,
              "#9c179e"
             ],
             [
              0.4444444444444444,
              "#bd3786"
             ],
             [
              0.5555555555555556,
              "#d8576b"
             ],
             [
              0.6666666666666666,
              "#ed7953"
             ],
             [
              0.7777777777777778,
              "#fb9f3a"
             ],
             [
              0.8888888888888888,
              "#fdca26"
             ],
             [
              1,
              "#f0f921"
             ]
            ],
            "type": "histogram2dcontour"
           }
          ],
          "mesh3d": [
           {
            "colorbar": {
             "outlinewidth": 0,
             "ticks": ""
            },
            "type": "mesh3d"
           }
          ],
          "parcoords": [
           {
            "line": {
             "colorbar": {
              "outlinewidth": 0,
              "ticks": ""
             }
            },
            "type": "parcoords"
           }
          ],
          "pie": [
           {
            "automargin": true,
            "type": "pie"
           }
          ],
          "scatter": [
           {
            "marker": {
             "colorbar": {
              "outlinewidth": 0,
              "ticks": ""
             }
            },
            "type": "scatter"
           }
          ],
          "scatter3d": [
           {
            "line": {
             "colorbar": {
              "outlinewidth": 0,
              "ticks": ""
             }
            },
            "marker": {
             "colorbar": {
              "outlinewidth": 0,
              "ticks": ""
             }
            },
            "type": "scatter3d"
           }
          ],
          "scattercarpet": [
           {
            "marker": {
             "colorbar": {
              "outlinewidth": 0,
              "ticks": ""
             }
            },
            "type": "scattercarpet"
           }
          ],
          "scattergeo": [
           {
            "marker": {
             "colorbar": {
              "outlinewidth": 0,
              "ticks": ""
             }
            },
            "type": "scattergeo"
           }
          ],
          "scattergl": [
           {
            "marker": {
             "colorbar": {
              "outlinewidth": 0,
              "ticks": ""
             }
            },
            "type": "scattergl"
           }
          ],
          "scattermapbox": [
           {
            "marker": {
             "colorbar": {
              "outlinewidth": 0,
              "ticks": ""
             }
            },
            "type": "scattermapbox"
           }
          ],
          "scatterpolar": [
           {
            "marker": {
             "colorbar": {
              "outlinewidth": 0,
              "ticks": ""
             }
            },
            "type": "scatterpolar"
           }
          ],
          "scatterpolargl": [
           {
            "marker": {
             "colorbar": {
              "outlinewidth": 0,
              "ticks": ""
             }
            },
            "type": "scatterpolargl"
           }
          ],
          "scatterternary": [
           {
            "marker": {
             "colorbar": {
              "outlinewidth": 0,
              "ticks": ""
             }
            },
            "type": "scatterternary"
           }
          ],
          "surface": [
           {
            "colorbar": {
             "outlinewidth": 0,
             "ticks": ""
            },
            "colorscale": [
             [
              0,
              "#0d0887"
             ],
             [
              0.1111111111111111,
              "#46039f"
             ],
             [
              0.2222222222222222,
              "#7201a8"
             ],
             [
              0.3333333333333333,
              "#9c179e"
             ],
             [
              0.4444444444444444,
              "#bd3786"
             ],
             [
              0.5555555555555556,
              "#d8576b"
             ],
             [
              0.6666666666666666,
              "#ed7953"
             ],
             [
              0.7777777777777778,
              "#fb9f3a"
             ],
             [
              0.8888888888888888,
              "#fdca26"
             ],
             [
              1,
              "#f0f921"
             ]
            ],
            "type": "surface"
           }
          ],
          "table": [
           {
            "cells": {
             "fill": {
              "color": "#EBF0F8"
             },
             "line": {
              "color": "white"
             }
            },
            "header": {
             "fill": {
              "color": "#C8D4E3"
             },
             "line": {
              "color": "white"
             }
            },
            "type": "table"
           }
          ]
         },
         "layout": {
          "annotationdefaults": {
           "arrowcolor": "#2a3f5f",
           "arrowhead": 0,
           "arrowwidth": 1
          },
          "autotypenumbers": "strict",
          "coloraxis": {
           "colorbar": {
            "outlinewidth": 0,
            "ticks": ""
           }
          },
          "colorscale": {
           "diverging": [
            [
             0,
             "#8e0152"
            ],
            [
             0.1,
             "#c51b7d"
            ],
            [
             0.2,
             "#de77ae"
            ],
            [
             0.3,
             "#f1b6da"
            ],
            [
             0.4,
             "#fde0ef"
            ],
            [
             0.5,
             "#f7f7f7"
            ],
            [
             0.6,
             "#e6f5d0"
            ],
            [
             0.7,
             "#b8e186"
            ],
            [
             0.8,
             "#7fbc41"
            ],
            [
             0.9,
             "#4d9221"
            ],
            [
             1,
             "#276419"
            ]
           ],
           "sequential": [
            [
             0,
             "#0d0887"
            ],
            [
             0.1111111111111111,
             "#46039f"
            ],
            [
             0.2222222222222222,
             "#7201a8"
            ],
            [
             0.3333333333333333,
             "#9c179e"
            ],
            [
             0.4444444444444444,
             "#bd3786"
            ],
            [
             0.5555555555555556,
             "#d8576b"
            ],
            [
             0.6666666666666666,
             "#ed7953"
            ],
            [
             0.7777777777777778,
             "#fb9f3a"
            ],
            [
             0.8888888888888888,
             "#fdca26"
            ],
            [
             1,
             "#f0f921"
            ]
           ],
           "sequentialminus": [
            [
             0,
             "#0d0887"
            ],
            [
             0.1111111111111111,
             "#46039f"
            ],
            [
             0.2222222222222222,
             "#7201a8"
            ],
            [
             0.3333333333333333,
             "#9c179e"
            ],
            [
             0.4444444444444444,
             "#bd3786"
            ],
            [
             0.5555555555555556,
             "#d8576b"
            ],
            [
             0.6666666666666666,
             "#ed7953"
            ],
            [
             0.7777777777777778,
             "#fb9f3a"
            ],
            [
             0.8888888888888888,
             "#fdca26"
            ],
            [
             1,
             "#f0f921"
            ]
           ]
          },
          "colorway": [
           "#636efa",
           "#EF553B",
           "#00cc96",
           "#ab63fa",
           "#FFA15A",
           "#19d3f3",
           "#FF6692",
           "#B6E880",
           "#FF97FF",
           "#FECB52"
          ],
          "font": {
           "color": "#2a3f5f"
          },
          "geo": {
           "bgcolor": "white",
           "lakecolor": "white",
           "landcolor": "#E5ECF6",
           "showlakes": true,
           "showland": true,
           "subunitcolor": "white"
          },
          "hoverlabel": {
           "align": "left"
          },
          "hovermode": "closest",
          "mapbox": {
           "style": "light"
          },
          "paper_bgcolor": "white",
          "plot_bgcolor": "#E5ECF6",
          "polar": {
           "angularaxis": {
            "gridcolor": "white",
            "linecolor": "white",
            "ticks": ""
           },
           "bgcolor": "#E5ECF6",
           "radialaxis": {
            "gridcolor": "white",
            "linecolor": "white",
            "ticks": ""
           }
          },
          "scene": {
           "xaxis": {
            "backgroundcolor": "#E5ECF6",
            "gridcolor": "white",
            "gridwidth": 2,
            "linecolor": "white",
            "showbackground": true,
            "ticks": "",
            "zerolinecolor": "white"
           },
           "yaxis": {
            "backgroundcolor": "#E5ECF6",
            "gridcolor": "white",
            "gridwidth": 2,
            "linecolor": "white",
            "showbackground": true,
            "ticks": "",
            "zerolinecolor": "white"
           },
           "zaxis": {
            "backgroundcolor": "#E5ECF6",
            "gridcolor": "white",
            "gridwidth": 2,
            "linecolor": "white",
            "showbackground": true,
            "ticks": "",
            "zerolinecolor": "white"
           }
          },
          "shapedefaults": {
           "line": {
            "color": "#2a3f5f"
           }
          },
          "ternary": {
           "aaxis": {
            "gridcolor": "white",
            "linecolor": "white",
            "ticks": ""
           },
           "baxis": {
            "gridcolor": "white",
            "linecolor": "white",
            "ticks": ""
           },
           "bgcolor": "#E5ECF6",
           "caxis": {
            "gridcolor": "white",
            "linecolor": "white",
            "ticks": ""
           }
          },
          "title": {
           "x": 0.05
          },
          "xaxis": {
           "automargin": true,
           "gridcolor": "white",
           "linecolor": "white",
           "ticks": "",
           "title": {
            "standoff": 15
           },
           "zerolinecolor": "white",
           "zerolinewidth": 2
          },
          "yaxis": {
           "automargin": true,
           "gridcolor": "white",
           "linecolor": "white",
           "ticks": "",
           "title": {
            "standoff": 15
           },
           "zerolinecolor": "white",
           "zerolinewidth": 2
          }
         }
        },
        "title": {
         "text": "10 Most Common Nouns Alongside The Most Frequent Verbs From Concorded Pronouns."
        },
        "xaxis": {
         "anchor": "y",
         "categoryarray": [
          "give",
          "stop",
          "think",
          "need",
          "know",
          "tell",
          "want",
          "read",
          "spreading",
          "believe"
         ],
         "categoryorder": "array",
         "domain": [
          0,
          1
         ],
         "title": {
          "text": "Pronoun"
         }
        },
        "yaxis": {
         "anchor": "x",
         "domain": [
          0,
          1
         ],
         "title": {
          "text": "Count"
         }
        }
       }
      }
     },
     "metadata": {},
     "output_type": "display_data"
    }
   ],
   "source": [
    "ls_of_vars = []\n",
    "\n",
    "for i in ls_vrb_adj:\n",
    "    ls_of_vars.append(i)\n",
    "    \n",
    "bar_stacked(ls_of_vars, 10, \"10 Most Common Nouns Alongside The Most Frequent Verbs From Concorded Pronouns.\")"
   ]
  }
 ],
 "metadata": {
  "interpreter": {
   "hash": "6c91f7360f31a60595970ce0519c225953292631b532536816811087a825ec9b"
  },
  "kernelspec": {
   "display_name": "Python 3.8.11 64-bit ('base': conda)",
   "name": "python3"
  },
  "language_info": {
   "codemirror_mode": {
    "name": "ipython",
    "version": 3
   },
   "file_extension": ".py",
   "mimetype": "text/x-python",
   "name": "python",
   "nbconvert_exporter": "python",
   "pygments_lexer": "ipython3",
   "version": "3.8.11"
  }
 },
 "nbformat": 4,
 "nbformat_minor": 5
}
