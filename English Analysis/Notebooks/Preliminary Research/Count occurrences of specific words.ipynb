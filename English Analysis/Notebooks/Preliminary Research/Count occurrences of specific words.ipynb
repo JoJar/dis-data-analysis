{
 "cells": [
  {
   "cell_type": "code",
   "execution_count": 6,
   "metadata": {},
   "outputs": [
    {
     "name": "stdout",
     "output_type": "stream",
     "text": [
      "{'i': 259, 'we': 437, 'you': 1770, 'they': 739, 'us': 219}\n"
     ]
    }
   ],
   "source": [
    "import re\n",
    "import pandas as pd\n",
    "import feather\n",
    "\n",
    "# adjustable file in ftr format\n",
    "save_dir = \"./KremlinHashtag.ftr\"\n",
    "\n",
    "# reads contents of save_dir.ftr\n",
    "read_ftr = pd.read_feather(save_dir, columns=None, use_threads=True);\n",
    "\n",
    "# adjustable vocabulary list.\n",
    "# only works if the words do not contain whitespace.\n",
    "vocab = [\"i\", \"we\", \"you\", \"they\", \"us\"]\n",
    "\n",
    "# series to list adapter\n",
    "# Places all tweet text in a list, seperated by word.\n",
    "s = (\" \".join(read_ftr[\"text\"]).split())\n",
    "\n",
    "# creates a dictionary object where k=vocab[x] and v=counter\n",
    "wordcount = dict((x,0) for x in vocab)\n",
    "\n",
    "# for each w in text, if w is in the dictionary object, increase the respective counter.\n",
    "for i in s:\n",
    "    for w in re.findall(r\"\\w+\", i):\n",
    "        if w in wordcount:\n",
    "            wordcount[w] += 1\n",
    "            \n",
    "# prints results to console.\n",
    "print(wordcount)"
   ]
  }
 ],
 "metadata": {
  "kernelspec": {
   "display_name": "Python 3",
   "language": "python",
   "name": "python3"
  },
  "language_info": {
   "codemirror_mode": {
    "name": "ipython",
    "version": 3
   },
   "file_extension": ".py",
   "mimetype": "text/x-python",
   "name": "python",
   "nbconvert_exporter": "python",
   "pygments_lexer": "ipython3",
   "version": "3.8.3"
  }
 },
 "nbformat": 4,
 "nbformat_minor": 4
}
