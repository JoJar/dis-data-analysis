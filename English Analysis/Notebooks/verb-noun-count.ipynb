{
 "cells": [
  {
   "cell_type": "code",
   "execution_count": 9,
   "metadata": {},
   "outputs": [],
   "source": [
    "import nltk, glob, os\n",
    "from collections import Counter\n",
    "import pandas as pd\n",
    "from tqdm import tqdm"
   ]
  },
  {
   "cell_type": "code",
   "execution_count": 26,
   "metadata": {},
   "outputs": [
    {
     "data": {
      "text/plain": [
       "Counter({'DT': 1, 'JJ': 1, 'NN': 2, 'VBD': 1})"
      ]
     },
     "execution_count": 26,
     "metadata": {},
     "output_type": "execute_result"
    }
   ],
   "source": [
    "def posTag(stripped_string):\n",
    "    # POS tag the entire concordance.\n",
    "    k=[]\n",
    "    for line in stripped_string:\n",
    "        line =  nltk.word_tokenize(line) \n",
    "        token = nltk.pos_tag(line)\n",
    "        for tpl in token:\n",
    "            k.append(tpl[1])\n",
    "\n",
    "    return Counter(k)\n",
    "\n",
    "posTag([\"the quick brown fox jumped\"])"
   ]
  },
  {
   "cell_type": "code",
   "execution_count": 36,
   "metadata": {},
   "outputs": [],
   "source": [
    "conc_dict = {}\n",
    "pronouns = [\"i\", \"me\", \"my\", \"they\", \"us\", \"we\", \"you\"]\n",
    "\n",
    "file_path = '../all-en-ftrs/Words'\n",
    "lt = [x[0] for x in os.walk(file_path)]\n",
    "\n",
    "counting = Counter()\n",
    "flat_list = []\n",
    "for ftr_dir in lt[1:]:\n",
    "    ftr_pattern = os.path.join(ftr_dir, '*.ftr')\n",
    "    file_list = glob.glob(ftr_pattern)\n",
    "    \n",
    "    for i in file_list: \n",
    "        read_ftr = pd.read_feather(i, columns=None, use_threads=True)\n",
    "        ls = read_ftr[\"text\"].tolist()\n",
    "        \n",
    "        flat_list = flat_list + [item for sublist in ls for item in sublist]"
   ]
  },
  {
   "cell_type": "code",
   "execution_count": null,
   "metadata": {},
   "outputs": [
    {
     "name": "stdout",
     "output_type": "stream",
     "text": [
      "['darinaivanov' 'seeing' 'talking' 'theory' 'mate' 'medical' 'letter'\n",
      " 'year' 'ago' 'you' 'make' 'mind']\n"
     ]
    }
   ],
   "source": [
    "print(counting)"
   ]
  },
  {
   "cell_type": "code",
   "execution_count": 38,
   "metadata": {},
   "outputs": [],
   "source": [
    "string = \" \".join(flat_list)"
   ]
  },
  {
   "cell_type": "code",
   "execution_count": 40,
   "metadata": {},
   "outputs": [],
   "source": [
    "tokens = nltk.word_tokenize(string)"
   ]
  },
  {
   "cell_type": "code",
   "execution_count": 41,
   "metadata": {},
   "outputs": [
    {
     "name": "stdout",
     "output_type": "stream",
     "text": [
      "13645250\n"
     ]
    }
   ],
   "source": [
    "print(len(tokens))"
   ]
  },
  {
   "cell_type": "code",
   "execution_count": 18,
   "metadata": {},
   "outputs": [
    {
     "name": "stdout",
     "output_type": "stream",
     "text": [
      "['marlenelooney', 'youre', 'wrong', 'i', 'tell', 'youre', 'trump', 'hater', 'you', 'democrat']\n"
     ]
    }
   ],
   "source": [
    "print(tokens[0:10])"
   ]
  }
 ],
 "metadata": {
  "interpreter": {
   "hash": "6c91f7360f31a60595970ce0519c225953292631b532536816811087a825ec9b"
  },
  "kernelspec": {
   "display_name": "Python 3.8.11 64-bit ('base': conda)",
   "name": "python3"
  },
  "language_info": {
   "codemirror_mode": {
    "name": "ipython",
    "version": 3
   },
   "file_extension": ".py",
   "mimetype": "text/x-python",
   "name": "python",
   "nbconvert_exporter": "python",
   "pygments_lexer": "ipython3",
   "version": "3.8.11"
  },
  "orig_nbformat": 4
 },
 "nbformat": 4,
 "nbformat_minor": 2
}
