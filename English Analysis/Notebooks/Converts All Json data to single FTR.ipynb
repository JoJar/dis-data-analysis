{
 "cells": [
  {
   "cell_type": "code",
   "execution_count": null,
   "source": [
    "import json, os, glob\r\n",
    "import pandas as pd\r\n",
    "import feather\r\n",
    "from collections import Counter\r\n",
    "from pathlib import Path"
   ],
   "outputs": [],
   "metadata": {}
  },
  {
   "cell_type": "markdown",
   "source": [
    "# File converts all .json data into a single .ftr file.\r\n",
    "The first programme includes retweets.\r\n",
    "The seconds programme excludes retweets."
   ],
   "metadata": {}
  },
  {
   "cell_type": "code",
   "execution_count": 9,
   "source": [
    "rows = []\r\n",
    "links = []\r\n",
    "#num = Path('2020-03-19.json').stat().st_size\r\n",
    "count=0\r\n",
    "\r\n",
    "json_dir = './en'\r\n",
    "# Uses the json_dir variable to navigate to the dataset directory and 'get' all json files\r\n",
    "json_pattern = os.path.join(json_dir, '*.json')\r\n",
    "\r\n",
    "# Uses Glob with the json pattern variable to place all the json files and their directories in a list\r\n",
    "file_list = glob.glob(json_pattern)\r\n",
    "\r\n",
    "# directory to save data to\r\n",
    "save_dir = \"allEnglishTweets.ftr\"\r\n",
    "\r\n",
    "# Opens the JSON file\r\n",
    "for file in file_list:\r\n",
    "    with open(file, 'r') as f:\r\n",
    "        for line in f:\r\n",
    "            if count > 10000:\r\n",
    "                break\r\n",
    "            count = 0\r\n",
    "            data = json.loads(line)\r\n",
    "\r\n",
    "            if count == 0:\r\n",
    "                #username\r\n",
    "                user_id = data[\"user\"][\"screen_name\"]\r\n",
    "                #location\r\n",
    "                user_location = data[\"user\"][\"location\"]\r\n",
    "                #Tweet ID\r\n",
    "                tweet_id = data[\"id_str\"]\r\n",
    "                #Hashtags\r\n",
    "                hashtags = data[\"entities\"][\"hashtags\"]\r\n",
    "                #tweet text\r\n",
    "                if \"extended_tweet\" in data:\r\n",
    "                    text = data[\"extended_tweet\"][\"full_text\"]\r\n",
    "                else:\r\n",
    "                    text = data[\"text\"]\r\n",
    "                rows.append((user_id, user_location, tweet_id, hashtags, text))\r\n",
    "        \r\n",
    "pd.options.display.max_colwidth = 500\r\n",
    "datas = pd.DataFrame(rows, columns=[\"user_id\", \"user_location\", \"tweet_id\", \"hashtags\", \"text\"])\r\n",
    "datas.to_feather(save_dir)\r\n",
    "display(datas)"
   ],
   "outputs": [
    {
     "output_type": "error",
     "ename": "ValueError",
     "evalue": "feather does not support serializing <class 'pandas.core.indexes.base.Index'> for the index; you can .reset_index() to make the index into column(s)",
     "traceback": [
      "\u001b[1;31m---------------------------------------------------------------------------\u001b[0m",
      "\u001b[1;31mValueError\u001b[0m                                Traceback (most recent call last)",
      "\u001b[1;32m<ipython-input-9-5806ea0610a0>\u001b[0m in \u001b[0;36m<module>\u001b[1;34m\u001b[0m\n\u001b[0;32m     47\u001b[0m \u001b[0mpd\u001b[0m\u001b[1;33m.\u001b[0m\u001b[0moptions\u001b[0m\u001b[1;33m.\u001b[0m\u001b[0mdisplay\u001b[0m\u001b[1;33m.\u001b[0m\u001b[0mmax_colwidth\u001b[0m \u001b[1;33m=\u001b[0m \u001b[1;36m500\u001b[0m\u001b[1;33m\u001b[0m\u001b[1;33m\u001b[0m\u001b[0m\n\u001b[0;32m     48\u001b[0m \u001b[0mdatas\u001b[0m \u001b[1;33m=\u001b[0m \u001b[0mpd\u001b[0m\u001b[1;33m.\u001b[0m\u001b[0mDataFrame\u001b[0m\u001b[1;33m(\u001b[0m\u001b[0mrows\u001b[0m\u001b[1;33m,\u001b[0m \u001b[0mcolumns\u001b[0m\u001b[1;33m=\u001b[0m\u001b[1;33m[\u001b[0m\u001b[1;34m\"user_id\"\u001b[0m\u001b[1;33m,\u001b[0m \u001b[1;34m\"user_location\"\u001b[0m\u001b[1;33m,\u001b[0m \u001b[1;34m\"tweet_id\"\u001b[0m\u001b[1;33m,\u001b[0m \u001b[1;34m\"hashtags\"\u001b[0m\u001b[1;33m,\u001b[0m \u001b[1;34m\"text\"\u001b[0m\u001b[1;33m]\u001b[0m\u001b[1;33m)\u001b[0m\u001b[1;33m\u001b[0m\u001b[1;33m\u001b[0m\u001b[0m\n\u001b[1;32m---> 49\u001b[1;33m \u001b[0mdatas\u001b[0m\u001b[1;33m.\u001b[0m\u001b[0mto_feather\u001b[0m\u001b[1;33m(\u001b[0m\u001b[0msave_dir\u001b[0m\u001b[1;33m)\u001b[0m\u001b[1;33m\u001b[0m\u001b[1;33m\u001b[0m\u001b[0m\n\u001b[0m\u001b[0;32m     50\u001b[0m \u001b[0mdisplay\u001b[0m\u001b[1;33m(\u001b[0m\u001b[0mdatas\u001b[0m\u001b[1;33m)\u001b[0m\u001b[1;33m\u001b[0m\u001b[1;33m\u001b[0m\u001b[0m\n",
      "\u001b[1;32m~\\Anaconda3\\lib\\site-packages\\pandas\\util\\_decorators.py\u001b[0m in \u001b[0;36mwrapper\u001b[1;34m(*args, **kwargs)\u001b[0m\n\u001b[0;32m    212\u001b[0m                 \u001b[1;32melse\u001b[0m\u001b[1;33m:\u001b[0m\u001b[1;33m\u001b[0m\u001b[1;33m\u001b[0m\u001b[0m\n\u001b[0;32m    213\u001b[0m                     \u001b[0mkwargs\u001b[0m\u001b[1;33m[\u001b[0m\u001b[0mnew_arg_name\u001b[0m\u001b[1;33m]\u001b[0m \u001b[1;33m=\u001b[0m \u001b[0mnew_arg_value\u001b[0m\u001b[1;33m\u001b[0m\u001b[1;33m\u001b[0m\u001b[0m\n\u001b[1;32m--> 214\u001b[1;33m             \u001b[1;32mreturn\u001b[0m \u001b[0mfunc\u001b[0m\u001b[1;33m(\u001b[0m\u001b[1;33m*\u001b[0m\u001b[0margs\u001b[0m\u001b[1;33m,\u001b[0m \u001b[1;33m**\u001b[0m\u001b[0mkwargs\u001b[0m\u001b[1;33m)\u001b[0m\u001b[1;33m\u001b[0m\u001b[1;33m\u001b[0m\u001b[0m\n\u001b[0m\u001b[0;32m    215\u001b[0m \u001b[1;33m\u001b[0m\u001b[0m\n\u001b[0;32m    216\u001b[0m         \u001b[1;32mreturn\u001b[0m \u001b[0mcast\u001b[0m\u001b[1;33m(\u001b[0m\u001b[0mF\u001b[0m\u001b[1;33m,\u001b[0m \u001b[0mwrapper\u001b[0m\u001b[1;33m)\u001b[0m\u001b[1;33m\u001b[0m\u001b[1;33m\u001b[0m\u001b[0m\n",
      "\u001b[1;32m~\\Anaconda3\\lib\\site-packages\\pandas\\core\\frame.py\u001b[0m in \u001b[0;36mto_feather\u001b[1;34m(self, path)\u001b[0m\n\u001b[0;32m   1992\u001b[0m         \u001b[1;32mfrom\u001b[0m \u001b[0mpandas\u001b[0m\u001b[1;33m.\u001b[0m\u001b[0mio\u001b[0m\u001b[1;33m.\u001b[0m\u001b[0mfeather_format\u001b[0m \u001b[1;32mimport\u001b[0m \u001b[0mto_feather\u001b[0m\u001b[1;33m\u001b[0m\u001b[1;33m\u001b[0m\u001b[0m\n\u001b[0;32m   1993\u001b[0m \u001b[1;33m\u001b[0m\u001b[0m\n\u001b[1;32m-> 1994\u001b[1;33m         \u001b[0mto_feather\u001b[0m\u001b[1;33m(\u001b[0m\u001b[0mself\u001b[0m\u001b[1;33m,\u001b[0m \u001b[0mpath\u001b[0m\u001b[1;33m)\u001b[0m\u001b[1;33m\u001b[0m\u001b[1;33m\u001b[0m\u001b[0m\n\u001b[0m\u001b[0;32m   1995\u001b[0m \u001b[1;33m\u001b[0m\u001b[0m\n\u001b[0;32m   1996\u001b[0m     @Appender(\n",
      "\u001b[1;32m~\\Anaconda3\\lib\\site-packages\\pandas\\io\\feather_format.py\u001b[0m in \u001b[0;36mto_feather\u001b[1;34m(df, path)\u001b[0m\n\u001b[0;32m     36\u001b[0m     \u001b[1;32mif\u001b[0m \u001b[1;32mnot\u001b[0m \u001b[0misinstance\u001b[0m\u001b[1;33m(\u001b[0m\u001b[0mdf\u001b[0m\u001b[1;33m.\u001b[0m\u001b[0mindex\u001b[0m\u001b[1;33m,\u001b[0m \u001b[0mInt64Index\u001b[0m\u001b[1;33m)\u001b[0m\u001b[1;33m:\u001b[0m\u001b[1;33m\u001b[0m\u001b[1;33m\u001b[0m\u001b[0m\n\u001b[0;32m     37\u001b[0m         \u001b[0mtyp\u001b[0m \u001b[1;33m=\u001b[0m \u001b[0mtype\u001b[0m\u001b[1;33m(\u001b[0m\u001b[0mdf\u001b[0m\u001b[1;33m.\u001b[0m\u001b[0mindex\u001b[0m\u001b[1;33m)\u001b[0m\u001b[1;33m\u001b[0m\u001b[1;33m\u001b[0m\u001b[0m\n\u001b[1;32m---> 38\u001b[1;33m         raise ValueError(\n\u001b[0m\u001b[0;32m     39\u001b[0m             \u001b[1;34mf\"feather does not support serializing {typ} \"\u001b[0m\u001b[1;33m\u001b[0m\u001b[1;33m\u001b[0m\u001b[0m\n\u001b[0;32m     40\u001b[0m             \u001b[1;34m\"for the index; you can .reset_index() \"\u001b[0m\u001b[1;33m\u001b[0m\u001b[1;33m\u001b[0m\u001b[0m\n",
      "\u001b[1;31mValueError\u001b[0m: feather does not support serializing <class 'pandas.core.indexes.base.Index'> for the index; you can .reset_index() to make the index into column(s)"
     ]
    }
   ],
   "metadata": {}
  },
  {
   "cell_type": "code",
   "execution_count": null,
   "source": [
    "import json, os, glob\r\n",
    "import pandas as pd\r\n",
    "import feather\r\n",
    "from collections import Counter\r\n",
    "from pathlib import Path\r\n",
    "\r\n",
    "rows = []\r\n",
    "links = []\r\n",
    "#num = Path('2020-03-19.json').stat().st_size\r\n",
    "count=0\r\n",
    "\r\n",
    "json_dir = './en'\r\n",
    "# Uses the json_dir variable to navigate to the dataset directory and 'get' all json files\r\n",
    "json_pattern = os.path.join(json_dir, '*.json')\r\n",
    "\r\n",
    "# Uses Glob with the json pattern variable to place all the json files and their directories in a list\r\n",
    "file_list = glob.glob(json_pattern)\r\n",
    "\r\n",
    "# directory to save data to\r\n",
    "save_dir = \"EN-03-2020-No-Retweets.ftr\"\r\n",
    "\r\n",
    "# Opens the JSON file\r\n",
    "for file in file_list:\r\n",
    "    with open(file, 'r') as f:\r\n",
    "        for line in f:\r\n",
    "            if count > 10000:\r\n",
    "                break\r\n",
    "            count = 0\r\n",
    "            data = json.loads(line)\r\n",
    "\r\n",
    "            if count == 0:\r\n",
    "                # Retweet?\r\n",
    "                if data[\"text\"][:2] != \"RT\":\r\n",
    "                    #username\r\n",
    "                    user_id = data[\"user\"][\"screen_name\"]\r\n",
    "                    #location\r\n",
    "                    user_location = data[\"user\"][\"location\"]\r\n",
    "                    #Tweet ID\r\n",
    "                    tweet_id = data[\"id_str\"]\r\n",
    "                    #Hashtags\r\n",
    "                    hashtags = data[\"entities\"][\"hashtags\"]\r\n",
    "                    # Retweet?\r\n",
    "                    retweet = data[\"retweeted\"]\r\n",
    "                    #tweet text\r\n",
    "                    if \"extended_tweet\" in data:\r\n",
    "                        text = data[\"extended_tweet\"][\"full_text\"]\r\n",
    "                    else:\r\n",
    "                        text = data[\"text\"]\r\n",
    "                    rows.append((user_id, user_location, tweet_id, hashtags, text))\r\n",
    "        \r\n",
    "pd.options.display.max_colwidth = 500\r\n",
    "datas = pd.DataFrame(rows, columns=[\"user_id\", \"user_location\", \"tweet_id\", \"hashtags\", \"text\"])\r\n",
    "datas.to_feather(save_dir)\r\n",
    "display(datas)"
   ],
   "outputs": [],
   "metadata": {}
  }
 ],
 "metadata": {
  "kernelspec": {
   "name": "python3",
   "display_name": "Python 3.8.11 64-bit ('base': conda)"
  },
  "language_info": {
   "codemirror_mode": {
    "name": "ipython",
    "version": 3
   },
   "file_extension": ".py",
   "mimetype": "text/x-python",
   "name": "python",
   "nbconvert_exporter": "python",
   "pygments_lexer": "ipython3",
   "version": "3.8.11"
  },
  "interpreter": {
   "hash": "6c91f7360f31a60595970ce0519c225953292631b532536816811087a825ec9b"
  }
 },
 "nbformat": 4,
 "nbformat_minor": 4
}