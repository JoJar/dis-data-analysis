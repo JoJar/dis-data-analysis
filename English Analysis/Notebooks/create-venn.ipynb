{
 "cells": [
  {
   "cell_type": "code",
   "execution_count": 1,
   "source": [
    "#Import libraries\r\n",
    "from matplotlib_venn import venn2, venn2_circles, venn2_unweighted\r\n",
    "from matplotlib_venn import venn3, venn3_circles\r\n",
    "from matplotlib import pyplot as plt\r\n",
    "%matplotlib inline"
   ],
   "outputs": [
    {
     "output_type": "error",
     "ename": "SyntaxError",
     "evalue": "invalid syntax (Temp/ipykernel_18372/1665475449.py, line 1)",
     "traceback": [
      "\u001b[1;36m  File \u001b[1;32m\"C:\\Users\\c1635922\\AppData\\Local\\Temp/ipykernel_18372/1665475449.py\"\u001b[1;36m, line \u001b[1;32m1\u001b[0m\n\u001b[1;33m    import matplotlib-venn\u001b[0m\n\u001b[1;37m                     ^\u001b[0m\n\u001b[1;31mSyntaxError\u001b[0m\u001b[1;31m:\u001b[0m invalid syntax\n"
     ]
    }
   ],
   "metadata": {}
  },
  {
   "cell_type": "code",
   "execution_count": null,
   "source": [
    "venn2(subsets = (\"you\", \"i\", \"they\"), set_labels = ('Group A', 'Group B'))\r\n",
    "\r\n",
    "you=[\"know\", \"think\", \"spreading\", \"dont\", \"believe\", \"want\", \"make\", \"need\", \"stop\", \"said\"]\r\n",
    "i=[\"think\", \"know\", \"dont\", \"believe\", \"want\", \"said\", \"hope\", \"going\", \"make\", \"need\"]\r\n",
    "they=[\"know\", \"dont\", \"want\", \"think\", \"believe\", \"need\", \"make\", \"spreading\", \"said\", \"going\"]"
   ],
   "outputs": [],
   "metadata": {}
  }
 ],
 "metadata": {
  "orig_nbformat": 4,
  "language_info": {
   "name": "python",
   "version": "3.8.11",
   "mimetype": "text/x-python",
   "codemirror_mode": {
    "name": "ipython",
    "version": 3
   },
   "pygments_lexer": "ipython3",
   "nbconvert_exporter": "python",
   "file_extension": ".py"
  },
  "kernelspec": {
   "name": "python3",
   "display_name": "Python 3.8.11 64-bit ('base': conda)"
  },
  "interpreter": {
   "hash": "6c91f7360f31a60595970ce0519c225953292631b532536816811087a825ec9b"
  }
 },
 "nbformat": 4,
 "nbformat_minor": 2
}