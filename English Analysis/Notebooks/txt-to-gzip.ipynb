{
 "cells": [
  {
   "cell_type": "code",
   "execution_count": 4,
   "id": "24fb4f16-3e0d-4b19-a545-fd9abcce84d1",
   "metadata": {},
   "outputs": [],
   "source": [
    "import gzip\n",
    "\n",
    "# enter file to convert\n",
    "# opens the specified file in binary\n",
    "f_in = open('allEn-03-2020-TweetText.txt', 'rb')\n",
    "\n",
    "# enter new file name to save conversion to.\n",
    "# writes to a new file in binary.\n",
    "f_out = gzip.open('allEn-03-2020-TweetText-Converted.txt.gz', 'wb')\n",
    "\n",
    "f_out.writelines(f_in)\n",
    "f_out.close()\n",
    "f_in.close()"
   ]
  }
 ],
 "metadata": {
  "kernelspec": {
   "display_name": "Python 3",
   "language": "python",
   "name": "python3"
  },
  "language_info": {
   "codemirror_mode": {
    "name": "ipython",
    "version": 3
   },
   "file_extension": ".py",
   "mimetype": "text/x-python",
   "name": "python",
   "nbconvert_exporter": "python",
   "pygments_lexer": "ipython3",
   "version": "3.8.11"
  }
 },
 "nbformat": 4,
 "nbformat_minor": 5
}
