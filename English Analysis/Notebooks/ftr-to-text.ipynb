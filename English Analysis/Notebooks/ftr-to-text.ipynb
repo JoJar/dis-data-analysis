{
 "cells": [
  {
   "cell_type": "code",
   "execution_count": 6,
   "source": [
    "from tqdm import tqdm\r\n",
    "import pandas as pd\r\n",
    "import feather\r\n",
    "import os,glob"
   ],
   "outputs": [],
   "metadata": {}
  },
  {
   "cell_type": "markdown",
   "source": [
    "For a single file"
   ],
   "metadata": {}
  },
  {
   "cell_type": "code",
   "execution_count": 1,
   "source": [
    "from tqdm import tqdm\r\n",
    "import pandas as pd\r\n",
    "import feather\r\n",
    "import os,glob\r\n",
    "\r\n",
    "json_dir = '../jsons'\r\n",
    "\r\n",
    "# Uses the json_dir variable to navigate to the dataset directory and 'get' all json files\r\n",
    "json_pattern = os.path.join(json_dir, '*.json')\r\n",
    "\r\n",
    "# Uses Glob with the json pattern variable to place all the json files and their directories in a list\r\n",
    "file_list = glob.glob(json_pattern)\r\n",
    "\r\n",
    "# reads contents of save_dir.ftr\r\n",
    "read_ftr = pd.read_feather(save_dir, columns=None, use_threads=True)\r\n",
    "\r\n",
    "# words to ignore\r\n",
    "ignore = [\"conspiracy\", \"propaganda\", \"misinformation\", \"http\", \"https\"]\r\n",
    " \r\n",
    "s = (\" \".join(read_ftr[\"text\"]).split())\r\n",
    "\r\n",
    "with open(\"aNewTest.txt\", \"w+\", encoding=\"utf8\") as f:\r\n",
    "    for i, line in enumerate(s):\r\n",
    "        if i == 10000:\r\n",
    "            break\r\n",
    "        if line in ignore:\r\n",
    "            pass\r\n",
    "        elif line[0] == \"@\":\r\n",
    "            line = \"\"\r\n",
    "        else:\r\n",
    "            f.write(line)\r\n",
    "            f.write(\"\\n\")"
   ],
   "outputs": [
    {
     "output_type": "error",
     "ename": "KeyboardInterrupt",
     "evalue": "",
     "traceback": [
      "\u001b[1;31m---------------------------------------------------------------------------\u001b[0m",
      "\u001b[1;31mKeyboardInterrupt\u001b[0m                         Traceback (most recent call last)",
      "\u001b[1;32m~\\AppData\\Local\\Temp/ipykernel_16644/3687724855.py\u001b[0m in \u001b[0;36m<module>\u001b[1;34m\u001b[0m\n\u001b[0;32m      1\u001b[0m \u001b[1;32mfrom\u001b[0m \u001b[0mtqdm\u001b[0m \u001b[1;32mimport\u001b[0m \u001b[0mtqdm\u001b[0m\u001b[1;33m\u001b[0m\u001b[1;33m\u001b[0m\u001b[0m\n\u001b[1;32m----> 2\u001b[1;33m \u001b[1;32mimport\u001b[0m \u001b[0mpandas\u001b[0m \u001b[1;32mas\u001b[0m \u001b[0mpd\u001b[0m\u001b[1;33m\u001b[0m\u001b[1;33m\u001b[0m\u001b[0m\n\u001b[0m\u001b[0;32m      3\u001b[0m \u001b[1;32mimport\u001b[0m \u001b[0mfeather\u001b[0m\u001b[1;33m\u001b[0m\u001b[1;33m\u001b[0m\u001b[0m\n\u001b[0;32m      4\u001b[0m \u001b[1;32mimport\u001b[0m \u001b[0mos\u001b[0m\u001b[1;33m,\u001b[0m\u001b[0mglob\u001b[0m\u001b[1;33m\u001b[0m\u001b[1;33m\u001b[0m\u001b[0m\n\u001b[0;32m      5\u001b[0m \u001b[1;33m\u001b[0m\u001b[0m\n",
      "\u001b[1;32m~\\AppData\\Roaming\\Python\\Python38\\site-packages\\pandas\\__init__.py\u001b[0m in \u001b[0;36m<module>\u001b[1;34m\u001b[0m\n\u001b[0;32m    141\u001b[0m \u001b[1;32mfrom\u001b[0m \u001b[0mpandas\u001b[0m\u001b[1;33m.\u001b[0m\u001b[0mutil\u001b[0m\u001b[1;33m.\u001b[0m\u001b[0m_print_versions\u001b[0m \u001b[1;32mimport\u001b[0m \u001b[0mshow_versions\u001b[0m\u001b[1;33m\u001b[0m\u001b[1;33m\u001b[0m\u001b[0m\n\u001b[0;32m    142\u001b[0m \u001b[1;33m\u001b[0m\u001b[0m\n\u001b[1;32m--> 143\u001b[1;33m from pandas.io.api import (\n\u001b[0m\u001b[0;32m    144\u001b[0m     \u001b[1;31m# excel\u001b[0m\u001b[1;33m\u001b[0m\u001b[1;33m\u001b[0m\u001b[1;33m\u001b[0m\u001b[0m\n\u001b[0;32m    145\u001b[0m     \u001b[0mExcelFile\u001b[0m\u001b[1;33m,\u001b[0m\u001b[1;33m\u001b[0m\u001b[1;33m\u001b[0m\u001b[0m\n",
      "\u001b[1;32m~\\AppData\\Roaming\\Python\\Python38\\site-packages\\pandas\\io\\api.py\u001b[0m in \u001b[0;36m<module>\u001b[1;34m\u001b[0m\n\u001b[0;32m     14\u001b[0m \u001b[1;32mfrom\u001b[0m \u001b[0mpandas\u001b[0m\u001b[1;33m.\u001b[0m\u001b[0mio\u001b[0m\u001b[1;33m.\u001b[0m\u001b[0mgbq\u001b[0m \u001b[1;32mimport\u001b[0m \u001b[0mread_gbq\u001b[0m\u001b[1;33m\u001b[0m\u001b[1;33m\u001b[0m\u001b[0m\n\u001b[0;32m     15\u001b[0m \u001b[1;32mfrom\u001b[0m \u001b[0mpandas\u001b[0m\u001b[1;33m.\u001b[0m\u001b[0mio\u001b[0m\u001b[1;33m.\u001b[0m\u001b[0mhtml\u001b[0m \u001b[1;32mimport\u001b[0m \u001b[0mread_html\u001b[0m\u001b[1;33m\u001b[0m\u001b[1;33m\u001b[0m\u001b[0m\n\u001b[1;32m---> 16\u001b[1;33m \u001b[1;32mfrom\u001b[0m \u001b[0mpandas\u001b[0m\u001b[1;33m.\u001b[0m\u001b[0mio\u001b[0m\u001b[1;33m.\u001b[0m\u001b[0mjson\u001b[0m \u001b[1;32mimport\u001b[0m \u001b[0mread_json\u001b[0m\u001b[1;33m\u001b[0m\u001b[1;33m\u001b[0m\u001b[0m\n\u001b[0m\u001b[0;32m     17\u001b[0m \u001b[1;32mfrom\u001b[0m \u001b[0mpandas\u001b[0m\u001b[1;33m.\u001b[0m\u001b[0mio\u001b[0m\u001b[1;33m.\u001b[0m\u001b[0morc\u001b[0m \u001b[1;32mimport\u001b[0m \u001b[0mread_orc\u001b[0m\u001b[1;33m\u001b[0m\u001b[1;33m\u001b[0m\u001b[0m\n\u001b[0;32m     18\u001b[0m \u001b[1;32mfrom\u001b[0m \u001b[0mpandas\u001b[0m\u001b[1;33m.\u001b[0m\u001b[0mio\u001b[0m\u001b[1;33m.\u001b[0m\u001b[0mparquet\u001b[0m \u001b[1;32mimport\u001b[0m \u001b[0mread_parquet\u001b[0m\u001b[1;33m\u001b[0m\u001b[1;33m\u001b[0m\u001b[0m\n",
      "\u001b[1;32m~\\Anaconda3\\lib\\importlib\\_bootstrap.py\u001b[0m in \u001b[0;36m_find_and_load\u001b[1;34m(name, import_)\u001b[0m\n",
      "\u001b[1;32m~\\Anaconda3\\lib\\importlib\\_bootstrap.py\u001b[0m in \u001b[0;36m_find_and_load_unlocked\u001b[1;34m(name, import_)\u001b[0m\n",
      "\u001b[1;32m~\\Anaconda3\\lib\\importlib\\_bootstrap.py\u001b[0m in \u001b[0;36m_load_unlocked\u001b[1;34m(spec)\u001b[0m\n",
      "\u001b[1;32m~\\Anaconda3\\lib\\importlib\\_bootstrap_external.py\u001b[0m in \u001b[0;36mexec_module\u001b[1;34m(self, module)\u001b[0m\n",
      "\u001b[1;32m~\\Anaconda3\\lib\\importlib\\_bootstrap_external.py\u001b[0m in \u001b[0;36mget_code\u001b[1;34m(self, fullname)\u001b[0m\n",
      "\u001b[1;32m~\\Anaconda3\\lib\\importlib\\_bootstrap_external.py\u001b[0m in \u001b[0;36mget_data\u001b[1;34m(self, path)\u001b[0m\n",
      "\u001b[1;31mKeyboardInterrupt\u001b[0m: "
     ]
    }
   ],
   "metadata": {}
  },
  {
   "cell_type": "markdown",
   "source": [
    "For Multiple Files:"
   ],
   "metadata": {}
  },
  {
   "cell_type": "code",
   "execution_count": 19,
   "source": [
    "from nltk.corpus import words\r\n",
    "\r\n",
    "word_set = set(words.words())"
   ],
   "outputs": [],
   "metadata": {}
  },
  {
   "cell_type": "code",
   "execution_count": 39,
   "source": [
    "import pandas as pd\r\n",
    "import feather\r\n",
    "import os\r\n",
    "import glob\r\n",
    "import re\r\n",
    "\r\n",
    "ftr_dir = '../all-en-ftrs/Words/You'\r\n",
    "s = \"\"\r\n",
    "# Uses the json_dir variable to navigate to the dataset directory and 'get' all json files\r\n",
    "ftr_pattern = os.path.join(ftr_dir, '*.ftr')\r\n",
    "\r\n",
    "# Uses Glob with the json pattern variable to place all the json files and their directories in a list\r\n",
    "file_list = glob.glob(ftr_pattern)\r\n",
    "\r\n",
    "# words to ignore\r\n",
    "ignore = [\"conspiracy\", \"para\", \"propaganda\", \"misinformation\", \"http\", \"https\", \"fake\", \"news\", \"http://\", \"https://\", \"fakenews\", \"news\", \"amp\", \"que\"]\r\n",
    "exceptions = [\"i\", \"a\", \"u\"]\r\n",
    "\r\n",
    "for file in file_list:\r\n",
    "    print(file[21:])\r\n",
    "\r\n",
    "    read_ftr = pd.read_feather(file, columns=None, use_threads=True)\r\n",
    "    save_dir = '../March-No-Retweets/Pronoun/You/' + file[24:].replace('.ftr', '.txt')\r\n",
    "    \r\n",
    "    ls = read_ftr[\"text\"].tolist()\r\n",
    "\r\n",
    "    with open(save_dir, \"w+\", encoding=\"utf8\") as newfile:\r\n",
    "        for sublist in ls:\r\n",
    "            for w in sublist:\r\n",
    "                if w in word_set:\r\n",
    "                    if len(w.strip()) >= 2 or w in exceptions:\r\n",
    "                            newfile.write(w.strip())\r\n",
    "                            newfile.write(\" \")\r\n",
    "            newfile.write(\"\\n\")"
   ],
   "outputs": [
    {
     "output_type": "stream",
     "name": "stdout",
     "text": [
      "You\\2020-03-25-pre-you-pronoun.ftr\n",
      "You\\2020-03-26-pre-you-pronoun.ftr\n",
      "You\\2020-03-27-pre-you-pronoun.ftr\n",
      "You\\2020-03-28-pre-you-pronoun.ftr\n",
      "You\\2020-03-29-pre-you-pronoun.ftr\n",
      "You\\2020-03-30-pre-you-pronoun.ftr\n",
      "You\\2020-03-31-pre-you-pronoun.ftr\n",
      "You\\2020-04-01-pre-you-pronoun.ftr\n"
     ]
    }
   ],
   "metadata": {}
  }
 ],
 "metadata": {
  "kernelspec": {
   "name": "python3",
   "display_name": "Python 3.8.11 64-bit ('base': conda)"
  },
  "language_info": {
   "codemirror_mode": {
    "name": "ipython",
    "version": 3
   },
   "file_extension": ".py",
   "mimetype": "text/x-python",
   "name": "python",
   "nbconvert_exporter": "python",
   "pygments_lexer": "ipython3",
   "version": "3.8.11"
  },
  "interpreter": {
   "hash": "6c91f7360f31a60595970ce0519c225953292631b532536816811087a825ec9b"
  }
 },
 "nbformat": 4,
 "nbformat_minor": 5
}