{
 "cells": [
  {
   "cell_type": "code",
   "execution_count": 9,
   "id": "78a99116-1934-4988-ad1b-2eaa4a40d36b",
   "metadata": {},
   "outputs": [],
   "source": [
    "from tqdm import tqdm\n",
    "import pandas as pd\n",
    "import feather\n",
    "import os\n",
    "\n",
    "# adjustable file in ftr format\n",
    "save_dir = \"./EN-03-2020-No-Retweets.ftr\"\n",
    "\n",
    "# reads contents of save_dir.ftr\n",
    "read_ftr = pd.read_feather(save_dir, columns=None, use_threads=True);\n",
    "\n",
    "s = (\" \".join(read_ftr[\"text\"]).split())\n",
    "\n",
    "with open(\"EN-03-2020-No-Retweets.txt\", \"w+\", encoding=\"utf8\") as f:\n",
    "    for i, line in enumerate(s):\n",
    "        f.write(line)\n",
    "        f.write(\"\\n\")"
   ]
  }
 ],
 "metadata": {
  "kernelspec": {
   "display_name": "Python 3",
   "language": "python",
   "name": "python3"
  },
  "language_info": {
   "codemirror_mode": {
    "name": "ipython",
    "version": 3
   },
   "file_extension": ".py",
   "mimetype": "text/x-python",
   "name": "python",
   "nbconvert_exporter": "python",
   "pygments_lexer": "ipython3",
   "version": "3.8.11"
  }
 },
 "nbformat": 4,
 "nbformat_minor": 5
}
